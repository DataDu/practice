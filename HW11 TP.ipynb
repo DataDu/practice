{
 "cells": [
  {
   "cell_type": "code",
   "execution_count": 88,
   "metadata": {},
   "outputs": [
    {
     "data": {
      "text/plain": [
       "array([[0., 0., 0.],\n",
       "       [0., 0., 0.],\n",
       "       [0., 0., 0.],\n",
       "       [0., 0., 0.]])"
      ]
     },
     "execution_count": 88,
     "metadata": {},
     "output_type": "execute_result"
    }
   ],
   "source": [
    "import numpy as np\n",
    "from scipy.optimize import linprog\n",
    "\n",
    "#Given Input/Output Data\n",
    "I = np.array([[150,70,5],\n",
    "            [60,20,3],\n",
    "            [800,140,20],\n",
    "            [30,15,1]])\n",
    "\n",
    "O = np.array([[15,225],\n",
    "            [5.4,70],\n",
    "            [56,1300],\n",
    "            [2.1,40]])\n"
   ]
  },
  {
   "cell_type": "code",
   "execution_count": 122,
   "metadata": {},
   "outputs": [],
   "source": [
    "#Assign Each Variables\n",
    "\n",
    "m,n1=I.shape\n",
    "m2,n2=O.shape\n",
    "f=np.concatenate((I,np.zeros((m2,n2))),axis=1)\n",
    "lb=np.array([0]*(n1+n2))\n",
    "lb\n",
    "A=np.concatenate((np.zeros((m,n1)),O),axis=1)-np.concatenate((I,np.zeros((m2,n2))),axis=1)\n",
    "b=np.zeros(m)\n",
    "f=np.concatenate((I,np.zeros((m,n2))),axis=1)\n"
   ]
  },
  {
   "cell_type": "code",
   "execution_count": 109,
   "metadata": {},
   "outputs": [
    {
     "name": "stdout",
     "output_type": "stream",
     "text": [
      "Optimization terminated successfully.\n",
      "         Current function value: 1.000000    \n",
      "         Iterations: 3\n",
      "Optimization terminated successfully.\n",
      "         Current function value: 1.000000    \n",
      "         Iterations: 4\n",
      "Optimization terminated successfully.\n",
      "         Current function value: 1.000000    \n",
      "         Iterations: 3\n",
      "Optimization terminated successfully.\n",
      "         Current function value: 1.179487    \n",
      "         Iterations: 3\n",
      "[[0.00666667 0.         0.         0.01449275 0.00347826]\n",
      " [0.01123844 0.01628468 0.         0.16485726 0.00156815]\n",
      " [0.00125    0.         0.         0.00271739 0.00065217]\n",
      " [0.03931624 0.         0.         0.08547009 0.02051282]]\n"
     ]
    },
    {
     "data": {
      "text/plain": [
       "     fun: 1.1794871794871797\n",
       " message: 'Optimization terminated successfully.'\n",
       "     nit: 3\n",
       "   slack: array([0.        , 0.46153846, 0.        , 0.17948718])\n",
       "  status: 0\n",
       " success: True\n",
       "       x: array([0.03931624, 0.        , 0.        , 0.08547009, 0.02051282])"
      ]
     },
     "execution_count": 109,
     "metadata": {},
     "output_type": "execute_result"
    }
   ],
   "source": [
    "x = []\n",
    "#Use for-loop to calculate linear programming\n",
    "for i in range(0,m):\n",
    "    Aeq=np.array([np.concatenate((np.zeros(n1),O[i,:]),axis=0)])\n",
    "    beq=np.array([1])\n",
    "    z=linprog(f[i,:], A_ub=A, b_ub=b,A_eq=Aeq, b_eq=beq, options={\"disp\": True})\n",
    "    x.append(z.x)\n",
    "\n",
    "x=array(x)\n",
    "print (x)    \n",
    "result=x*np.concatenate((I,O),axis=1)  \n",
    "print (result[:,0]+result[:,1]+result[:,2])\n"
   ]
  },
  {
   "cell_type": "code",
   "execution_count": 124,
   "metadata": {},
   "outputs": [
    {
     "data": {
      "text/plain": [
       "array([[1.        , 0.        , 0.        , 0.2173913 , 0.7826087 ],\n",
       "       [0.67430639, 0.32569361, 0.        , 0.89022919, 0.10977081],\n",
       "       [1.        , 0.        , 0.        , 0.15217391, 0.84782609],\n",
       "       [1.17948718, 0.        , 0.        , 0.17948718, 0.82051282]])"
      ]
     },
     "execution_count": 124,
     "metadata": {},
     "output_type": "execute_result"
    }
   ],
   "source": [
    "result=x*np.concatenate((I,O),axis=1)  \n",
    "#print (result[:,0]+result[:,1]+result[:,2])\n",
    "result"
   ]
  },
  {
   "cell_type": "code",
   "execution_count": null,
   "metadata": {},
   "outputs": [],
   "source": []
  }
 ],
 "metadata": {
  "kernelspec": {
   "display_name": "Python 3",
   "language": "python",
   "name": "python3"
  },
  "language_info": {
   "codemirror_mode": {
    "name": "ipython",
    "version": 3
   },
   "file_extension": ".py",
   "mimetype": "text/x-python",
   "name": "python",
   "nbconvert_exporter": "python",
   "pygments_lexer": "ipython3",
   "version": "3.7.3"
  }
 },
 "nbformat": 4,
 "nbformat_minor": 2
}
