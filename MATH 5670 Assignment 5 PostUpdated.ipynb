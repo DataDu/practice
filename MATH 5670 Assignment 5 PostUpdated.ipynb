{
 "cells": [
  {
   "cell_type": "markdown",
   "metadata": {},
   "source": [
    "In the following basic problems, at least 3 test cases must be written in the main\n",
    "function. Space and time complexity must be evaluated. Pick problems that do not have solutions yet. Try submitting solutions on the website to test them out.\n",
    "\n",
    "a. Pick any Easy Array problem (https://leetcode.com/tag/array/)\n",
    "\n",
    "b. Pick any Easy Linked List problem (https://leetcode.com/tag/linked-list/)"
   ]
  },
  {
   "cell_type": "code",
   "execution_count": 1,
   "metadata": {},
   "outputs": [
    {
     "ename": "IndentationError",
     "evalue": "expected an indented block (<ipython-input-1-de6af3fbd99a>, line 5)",
     "output_type": "error",
     "traceback": [
      "\u001b[1;36m  File \u001b[1;32m\"<ipython-input-1-de6af3fbd99a>\"\u001b[1;36m, line \u001b[1;32m5\u001b[0m\n\u001b[1;33m    x= int removeDuplicates(int[] nums) {\u001b[0m\n\u001b[1;37m    ^\u001b[0m\n\u001b[1;31mIndentationError\u001b[0m\u001b[1;31m:\u001b[0m expected an indented block\n"
     ]
    }
   ],
   "source": [
    "# First problem in Array\n",
    "\n",
    "##Remove Duplicates in Array\n",
    "def find (x):\n",
    "x= int removeDuplicates(int[] nums) {\n",
    "    if (nums.length == 0) return 0;\n",
    "    int i = 0;\n",
    "    for (int j = 1; j < nums.length; j++) {\n",
    "        if (nums[j] != nums[i]) {\n",
    "            i++;\n",
    "            nums[i] = nums[j];\n",
    "        }\n",
    "    }\n",
    "    return i + 1;\n",
    "}\n",
    "print(x)\n"
   ]
  },
  {
   "cell_type": "code",
   "execution_count": 3,
   "metadata": {},
   "outputs": [
    {
     "ename": "IndentationError",
     "evalue": "expected an indented block (<ipython-input-3-b3dcd4e7e338>, line 4)",
     "output_type": "error",
     "traceback": [
      "\u001b[1;36m  File \u001b[1;32m\"<ipython-input-3-b3dcd4e7e338>\"\u001b[1;36m, line \u001b[1;32m4\u001b[0m\n\u001b[1;33m    x= deleteDuplicates(ListNode head) {\u001b[0m\n\u001b[1;37m    ^\u001b[0m\n\u001b[1;31mIndentationError\u001b[0m\u001b[1;31m:\u001b[0m expected an indented block\n"
     ]
    }
   ],
   "source": [
    "# Second problem in Linked Lists\n",
    "\n",
    "def find (x):\n",
    "x= deleteDuplicates(ListNode head) {\n",
    "    ListNode current = head;\n",
    "    while (current != null && current.next != null) {\n",
    "        if (current.next.val == current.val) {\n",
    "            current.next = current.next.next;\n",
    "        } else {\n",
    "            current = current.next;\n",
    "        }\n",
    "    }\n",
    "    return head;\n",
    "}\n",
    "print (x)\n"
   ]
  },
  {
   "cell_type": "markdown",
   "metadata": {},
   "source": [
    "Write the following functions \n",
    "\n",
    "- get_price() returns simulated stock price of a single stock using the random module.  \n",
    "\n",
    "- compute_mean() returns the mean\n",
    "\n",
    "- compute_standard_deviation() returns the standard deviation of the price.\n",
    "\n",
    "The functions however don’t store the historical prices, in order to keep space complexity constant. Note that price should not be negative.\n",
    "\n",
    "The function names and arguments are as follows; however you can change anything as needed.\n",
    "\n",
    "Source: http://www.scriptedin.com/challenges/view/6"
   ]
  },
  {
   "cell_type": "code",
   "execution_count": 2,
   "metadata": {},
   "outputs": [
    {
     "ename": "IndentationError",
     "evalue": "expected an indented block (<ipython-input-2-4d20183d6e19>, line 5)",
     "output_type": "error",
     "traceback": [
      "\u001b[1;36m  File \u001b[1;32m\"<ipython-input-2-4d20183d6e19>\"\u001b[1;36m, line \u001b[1;32m5\u001b[0m\n\u001b[1;33m    import pylab\u001b[0m\n\u001b[1;37m         ^\u001b[0m\n\u001b[1;31mIndentationError\u001b[0m\u001b[1;31m:\u001b[0m expected an indented block\n"
     ]
    }
   ],
   "source": [
    "def get_price():\n",
    "    # returns simulated stock price of a single stock using the random module\n",
    "    # Write your code below this line\n",
    "    \n",
    "import pylab\n",
    "import random\n",
    "random.seed(113)\n",
    "samples = 1000\n",
    "dice = []\n",
    "for i in range(samples):\n",
    "    total = random.randint(1,6) + random.randint(1,6)\n",
    "    dice.append(total)\n",
    "pylab.hist(dice, bins= pylab.arange(1.5,12.6,1.0))\n",
    "pylab.show()"
   ]
  },
  {
   "cell_type": "code",
   "execution_count": 5,
   "metadata": {},
   "outputs": [
    {
     "ename": "IndentationError",
     "evalue": "expected an indented block (<ipython-input-5-194e17ee46ec>, line 4)",
     "output_type": "error",
     "traceback": [
      "\u001b[1;36m  File \u001b[1;32m\"<ipython-input-5-194e17ee46ec>\"\u001b[1;36m, line \u001b[1;32m4\u001b[0m\n\u001b[1;33m    import pylab\u001b[0m\n\u001b[1;37m         ^\u001b[0m\n\u001b[1;31mIndentationError\u001b[0m\u001b[1;31m:\u001b[0m expected an indented block\n"
     ]
    }
   ],
   "source": [
    "def compute_mean(price):\n",
    "    # returns the mean\n",
    "    # Write your code below this line\n",
    "import pylab\n",
    "import random\n",
    "random.seed(113)\n",
    "samples = 1000\n",
    "dice = []\n",
    "for i in range(samples):\n",
    "    total = random.randint(1,6) + random.randint(1,6)\n",
    "    dice.append(total)\n",
    "pylab.hist(dice, bins= pylab.arange(1.5,12.6,1.0))\n",
    "pylab.show()\n",
    "   "
   ]
  },
  {
   "cell_type": "code",
   "execution_count": 6,
   "metadata": {},
   "outputs": [
    {
     "ename": "SyntaxError",
     "evalue": "unexpected EOF while parsing (<ipython-input-6-be4e80a05d45>, line 4)",
     "output_type": "error",
     "traceback": [
      "\u001b[1;36m  File \u001b[1;32m\"<ipython-input-6-be4e80a05d45>\"\u001b[1;36m, line \u001b[1;32m4\u001b[0m\n\u001b[1;33m    \u001b[0m\n\u001b[1;37m    ^\u001b[0m\n\u001b[1;31mSyntaxError\u001b[0m\u001b[1;31m:\u001b[0m unexpected EOF while parsing\n"
     ]
    }
   ],
   "source": [
    "def compute_standard_deviation(price):\n",
    "    # returns the standard deviation of the price.\n",
    "    # Write your code below this line\n",
    "    "
   ]
  },
  {
   "cell_type": "code",
   "execution_count": 7,
   "metadata": {},
   "outputs": [
    {
     "ename": "NameError",
     "evalue": "name 'get_price' is not defined",
     "output_type": "error",
     "traceback": [
      "\u001b[1;31m---------------------------------------------------------------------------\u001b[0m",
      "\u001b[1;31mNameError\u001b[0m                                 Traceback (most recent call last)",
      "\u001b[1;32m<ipython-input-7-a8c34d453324>\u001b[0m in \u001b[0;36m<module>\u001b[1;34m()\u001b[0m\n\u001b[0;32m      3\u001b[0m \u001b[1;33m\u001b[0m\u001b[0m\n\u001b[0;32m      4\u001b[0m \u001b[0mrd\u001b[0m\u001b[1;33m.\u001b[0m\u001b[0mseed\u001b[0m\u001b[1;33m(\u001b[0m\u001b[1;36m2\u001b[0m\u001b[1;33m)\u001b[0m\u001b[1;33m\u001b[0m\u001b[0m\n\u001b[1;32m----> 5\u001b[1;33m \u001b[0mcurrent_price\u001b[0m \u001b[1;33m=\u001b[0m \u001b[0mget_price\u001b[0m\u001b[1;33m(\u001b[0m\u001b[1;33m)\u001b[0m\u001b[1;33m\u001b[0m\u001b[0m\n\u001b[0m\u001b[0;32m      6\u001b[0m \u001b[0mprint\u001b[0m\u001b[1;33m(\u001b[0m\u001b[1;34m'Price mean: '\u001b[0m \u001b[1;33m+\u001b[0m \u001b[0mstr\u001b[0m\u001b[1;33m(\u001b[0m\u001b[0mnp\u001b[0m\u001b[1;33m.\u001b[0m\u001b[0mround\u001b[0m\u001b[1;33m(\u001b[0m\u001b[0mcompute_mean\u001b[0m\u001b[1;33m(\u001b[0m\u001b[0mcurrent_price\u001b[0m\u001b[1;33m)\u001b[0m\u001b[1;33m,\u001b[0m\u001b[1;36m2\u001b[0m\u001b[1;33m)\u001b[0m\u001b[1;33m)\u001b[0m\u001b[1;33m)\u001b[0m\u001b[1;33m\u001b[0m\u001b[0m\n\u001b[0;32m      7\u001b[0m \u001b[0mprint\u001b[0m\u001b[1;33m(\u001b[0m\u001b[1;34m'Price standard deviation: '\u001b[0m \u001b[1;33m+\u001b[0m \u001b[0mstr\u001b[0m\u001b[1;33m(\u001b[0m\u001b[0mnp\u001b[0m\u001b[1;33m.\u001b[0m\u001b[0mround\u001b[0m\u001b[1;33m(\u001b[0m\u001b[0mcompute_standard_deviation\u001b[0m\u001b[1;33m(\u001b[0m\u001b[0mcurrent_price\u001b[0m\u001b[1;33m)\u001b[0m\u001b[1;33m,\u001b[0m\u001b[1;36m2\u001b[0m\u001b[1;33m)\u001b[0m\u001b[1;33m)\u001b[0m\u001b[1;33m)\u001b[0m\u001b[1;33m\u001b[0m\u001b[0m\n",
      "\u001b[1;31mNameError\u001b[0m: name 'get_price' is not defined"
     ]
    }
   ],
   "source": [
    "import random as rd\n",
    "import numpy as np\n",
    "\n",
    "rd.seed(2)\n",
    "current_price = get_price()\n",
    "print('Price mean: ' + str(np.round(compute_mean(current_price),2)))\n",
    "print('Price standard deviation: ' + str(np.round(compute_standard_deviation(current_price),2)))"
   ]
  },
  {
   "cell_type": "markdown",
   "metadata": {},
   "source": [
    "Given an input array of linked lists describes the sequences of stock price moving up and down, for example: [L1, L2, L3, L4], which contains 4 linked lists from L1 up to L4 \n",
    "\n",
    "L1 is a linked list storing the sequence of stock movements like\n",
    "\n",
    "AMZN UP -> GOOG UP -> AAPL UP\n",
    "\n",
    "(meaning if Amazon stock price goes up, Google stock price is going up right after, then Apple stock price is going up right after).\n",
    "\n",
    "Given a symbol and movement, write the search_sequence function that searches in the given list of linked lists to find and return a list/array containing all the sequences/linked lists starting from the searched node. For example with the data x = [L1, L2, L3, L4] above and no other linked list contains ‘GOOG’ than L1, running:\n",
    "\n",
    "search_sequence(x,’GOOG’,’UP’)\n",
    "\n",
    "would return a list containing 1 linked list namely N1 as follows\n",
    "\n",
    "[N1]\n",
    "\n",
    "The linked list N1 contains the node with ‘AAPL’ as the stock symbol, and ‘UP’ as the movement\n",
    "\n",
    "Source: http://www.scriptedin.com/challenges/view/7\n"
   ]
  },
  {
   "cell_type": "code",
   "execution_count": 8,
   "metadata": {},
   "outputs": [
    {
     "name": "stdout",
     "output_type": "stream",
     "text": [
      "GOOG UP -> AAPL UP -> AMZN UP -> None\n",
      "AAA DOWN -> CARB UP -> VNET UP -> None\n",
      "EDXC DOWN -> FB UP -> FLPC DOWN -> JCOM UP -> None\n",
      "YHOO DOWN -> WTW UP -> TSLA UP -> GE DOWN -> None\n",
      "INTC UP -> NVDA UP -> AAPL UP -> BBY UP -> IBM UP -> None\n"
     ]
    },
    {
     "ename": "NameError",
     "evalue": "name 'output' is not defined",
     "output_type": "error",
     "traceback": [
      "\u001b[1;31m---------------------------------------------------------------------------\u001b[0m",
      "\u001b[1;31mNameError\u001b[0m                                 Traceback (most recent call last)",
      "\u001b[1;32m<ipython-input-8-8670de32ad70>\u001b[0m in \u001b[0;36m<module>\u001b[1;34m()\u001b[0m\n\u001b[0;32m     28\u001b[0m \u001b[0mprint\u001b[0m\u001b[1;33m(\u001b[0m\u001b[0mL5\u001b[0m\u001b[1;33m)\u001b[0m\u001b[1;33m\u001b[0m\u001b[0m\n\u001b[0;32m     29\u001b[0m \u001b[1;33m\u001b[0m\u001b[0m\n\u001b[1;32m---> 30\u001b[1;33m \u001b[0mprint\u001b[0m\u001b[1;33m(\u001b[0m\u001b[0mget_consequence\u001b[0m\u001b[1;33m(\u001b[0m\u001b[0mmylist\u001b[0m\u001b[1;33m,\u001b[0m\u001b[1;34m'AAPL'\u001b[0m\u001b[1;33m,\u001b[0m\u001b[1;34m'UP'\u001b[0m\u001b[1;33m)\u001b[0m\u001b[1;33m)\u001b[0m\u001b[1;33m\u001b[0m\u001b[0m\n\u001b[0m",
      "\u001b[1;32m<ipython-input-8-8670de32ad70>\u001b[0m in \u001b[0;36mget_consequence\u001b[1;34m(y, symbol, movement)\u001b[0m\n\u001b[0;32m     20\u001b[0m \u001b[1;33m\u001b[0m\u001b[0m\n\u001b[0;32m     21\u001b[0m \u001b[1;33m\u001b[0m\u001b[0m\n\u001b[1;32m---> 22\u001b[1;33m     \u001b[1;32mreturn\u001b[0m \u001b[0moutput\u001b[0m\u001b[1;33m\u001b[0m\u001b[0m\n\u001b[0m\u001b[0;32m     23\u001b[0m \u001b[1;33m\u001b[0m\u001b[0m\n\u001b[0;32m     24\u001b[0m \u001b[0mprint\u001b[0m\u001b[1;33m(\u001b[0m\u001b[0mL1\u001b[0m\u001b[1;33m)\u001b[0m\u001b[1;33m\u001b[0m\u001b[0m\n",
      "\u001b[1;31mNameError\u001b[0m: name 'output' is not defined"
     ]
    }
   ],
   "source": [
    "class ListNode:\n",
    "    def __init__(self, symbol = None,movement = None, next_node=None):\n",
    "        self. symbol = symbol\n",
    "        self. movement = movement\n",
    "        self.next = next_node\n",
    "        \n",
    "    def __repr__(self):\n",
    "        return '%s %s -> %s' % (self.symbol, self.movement, self.next)\n",
    "\n",
    "L1 = ListNode('GOOG','UP',ListNode('AAPL','UP',ListNode('AMZN','UP')))\n",
    "L2 = ListNode('AAA','DOWN',ListNode('CARB','UP',ListNode('VNET','UP')))\n",
    "L3 = ListNode('EDXC','DOWN',ListNode('FB','UP',ListNode('FLPC','DOWN',ListNode('JCOM','UP'))))\n",
    "L4 = ListNode('YHOO','DOWN',ListNode('WTW','UP',ListNode('TSLA','UP',ListNode('GE','DOWN'))))\n",
    "L5 = ListNode('INTC','UP',ListNode('NVDA','UP',ListNode('AAPL','UP',ListNode('BBY','UP',ListNode('IBM','UP')))))\n",
    "\n",
    "mylist = [L1, L2, L3, L4, L5]\n",
    "\n",
    "def get_consequence(y, symbol = None, movement = 'UP'):\n",
    "    # Write your code here\n",
    "    \n",
    "    \n",
    "    return output\n",
    "            \n",
    "print(L1)\n",
    "print(L2)\n",
    "print(L3)\n",
    "print(L4)\n",
    "print(L5)\n",
    "\n",
    "print(get_consequence(mylist,'AAPL','UP'))"
   ]
  },
  {
   "cell_type": "code",
   "execution_count": null,
   "metadata": {},
   "outputs": [],
   "source": []
  }
 ],
 "metadata": {
  "kernelspec": {
   "display_name": "Python 3",
   "language": "python",
   "name": "python3"
  },
  "language_info": {
   "codemirror_mode": {
    "name": "ipython",
    "version": 3
   },
   "file_extension": ".py",
   "mimetype": "text/x-python",
   "name": "python",
   "nbconvert_exporter": "python",
   "pygments_lexer": "ipython3",
   "version": "3.6.5"
  }
 },
 "nbformat": 4,
 "nbformat_minor": 2
}
