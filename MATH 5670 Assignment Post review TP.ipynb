{
 "cells": [
  {
   "attachments": {
    "image.png": {
     "image/png": "[encoded data removed]"
    }
   },
   "cell_type": "markdown",
   "metadata": {},
   "source": [
    "# Assignment 4\n",
    "\n",
    "In this assignment, you have this starter notebook with some code. Finish your work here, and also add text to explain your work in markdown cells (to insert, in Jupyter Notebook, insert a cell then select Cell-> Cell Type > Markdown. The result is like this markdown cell.\n",
    "\n",
    "You willl download these CSV files from HuskyCT to work on\n",
    "![image.png](attachment:image.png)"
   ]
  },
  {
   "cell_type": "markdown",
   "metadata": {},
   "source": [
    "import pandas as pd\n",
    "customer_df = pd.read_csv(r'C:\\My Courses\\MATH 5670\\assignments\\assignment04\\customer.csv')\n",
    "customer_df.head()"
   ]
  },
  {
   "cell_type": "code",
   "execution_count": 34,
   "metadata": {},
   "outputs": [
    {
     "ename": "KeyError",
     "evalue": "(1, 1)",
     "output_type": "error",
     "traceback": [
      "\u001b[1;31m---------------------------------------------------------------------------\u001b[0m",
      "\u001b[1;31mKeyError\u001b[0m                                  Traceback (most recent call last)",
      "\u001b[1;32m~\\Anaconda3\\lib\\site-packages\\pandas\\core\\indexes\\base.py\u001b[0m in \u001b[0;36mget_loc\u001b[1;34m(self, key, method, tolerance)\u001b[0m\n\u001b[0;32m   3062\u001b[0m             \u001b[1;32mtry\u001b[0m\u001b[1;33m:\u001b[0m\u001b[1;33m\u001b[0m\u001b[0m\n\u001b[1;32m-> 3063\u001b[1;33m                 \u001b[1;32mreturn\u001b[0m \u001b[0mself\u001b[0m\u001b[1;33m.\u001b[0m\u001b[0m_engine\u001b[0m\u001b[1;33m.\u001b[0m\u001b[0mget_loc\u001b[0m\u001b[1;33m(\u001b[0m\u001b[0mkey\u001b[0m\u001b[1;33m)\u001b[0m\u001b[1;33m\u001b[0m\u001b[0m\n\u001b[0m\u001b[0;32m   3064\u001b[0m             \u001b[1;32mexcept\u001b[0m \u001b[0mKeyError\u001b[0m\u001b[1;33m:\u001b[0m\u001b[1;33m\u001b[0m\u001b[0m\n",
      "\u001b[1;32mpandas\\_libs\\index.pyx\u001b[0m in \u001b[0;36mpandas._libs.index.IndexEngine.get_loc\u001b[1;34m()\u001b[0m\n",
      "\u001b[1;32mpandas\\_libs\\index.pyx\u001b[0m in \u001b[0;36mpandas._libs.index.IndexEngine.get_loc\u001b[1;34m()\u001b[0m\n",
      "\u001b[1;32mpandas\\_libs\\hashtable_class_helper.pxi\u001b[0m in \u001b[0;36mpandas._libs.hashtable.PyObjectHashTable.get_item\u001b[1;34m()\u001b[0m\n",
      "\u001b[1;32mpandas\\_libs\\hashtable_class_helper.pxi\u001b[0m in \u001b[0;36mpandas._libs.hashtable.PyObjectHashTable.get_item\u001b[1;34m()\u001b[0m\n",
      "\u001b[1;31mKeyError\u001b[0m: (1, 1)",
      "\nDuring handling of the above exception, another exception occurred:\n",
      "\u001b[1;31mKeyError\u001b[0m                                  Traceback (most recent call last)",
      "\u001b[1;32m<ipython-input-34-5947b2e54003>\u001b[0m in \u001b[0;36m<module>\u001b[1;34m()\u001b[0m\n\u001b[0;32m      4\u001b[0m \u001b[0mcustomer_df\u001b[0m\u001b[1;33m.\u001b[0m\u001b[0msort_values\u001b[0m\u001b[1;33m(\u001b[0m\u001b[0mby\u001b[0m\u001b[1;33m=\u001b[0m\u001b[1;33m[\u001b[0m\u001b[1;34m'member_id'\u001b[0m\u001b[1;33m]\u001b[0m\u001b[1;33m,\u001b[0m \u001b[0mascending\u001b[0m \u001b[1;33m=\u001b[0m \u001b[1;33m[\u001b[0m\u001b[1;32mTrue\u001b[0m\u001b[1;33m]\u001b[0m\u001b[1;33m)\u001b[0m\u001b[1;33m\u001b[0m\u001b[0m\n\u001b[0;32m      5\u001b[0m \u001b[1;33m\u001b[0m\u001b[0m\n\u001b[1;32m----> 6\u001b[1;33m \u001b[0mcustomer_df\u001b[0m\u001b[1;33m[\u001b[0m\u001b[1;36m1\u001b[0m\u001b[1;33m,\u001b[0m\u001b[1;36m1\u001b[0m\u001b[1;33m]\u001b[0m\u001b[1;33m\u001b[0m\u001b[0m\n\u001b[0m",
      "\u001b[1;32m~\\Anaconda3\\lib\\site-packages\\pandas\\core\\frame.py\u001b[0m in \u001b[0;36m__getitem__\u001b[1;34m(self, key)\u001b[0m\n\u001b[0;32m   2683\u001b[0m             \u001b[1;32mreturn\u001b[0m \u001b[0mself\u001b[0m\u001b[1;33m.\u001b[0m\u001b[0m_getitem_multilevel\u001b[0m\u001b[1;33m(\u001b[0m\u001b[0mkey\u001b[0m\u001b[1;33m)\u001b[0m\u001b[1;33m\u001b[0m\u001b[0m\n\u001b[0;32m   2684\u001b[0m         \u001b[1;32melse\u001b[0m\u001b[1;33m:\u001b[0m\u001b[1;33m\u001b[0m\u001b[0m\n\u001b[1;32m-> 2685\u001b[1;33m             \u001b[1;32mreturn\u001b[0m \u001b[0mself\u001b[0m\u001b[1;33m.\u001b[0m\u001b[0m_getitem_column\u001b[0m\u001b[1;33m(\u001b[0m\u001b[0mkey\u001b[0m\u001b[1;33m)\u001b[0m\u001b[1;33m\u001b[0m\u001b[0m\n\u001b[0m\u001b[0;32m   2686\u001b[0m \u001b[1;33m\u001b[0m\u001b[0m\n\u001b[0;32m   2687\u001b[0m     \u001b[1;32mdef\u001b[0m \u001b[0m_getitem_column\u001b[0m\u001b[1;33m(\u001b[0m\u001b[0mself\u001b[0m\u001b[1;33m,\u001b[0m \u001b[0mkey\u001b[0m\u001b[1;33m)\u001b[0m\u001b[1;33m:\u001b[0m\u001b[1;33m\u001b[0m\u001b[0m\n",
      "\u001b[1;32m~\\Anaconda3\\lib\\site-packages\\pandas\\core\\frame.py\u001b[0m in \u001b[0;36m_getitem_column\u001b[1;34m(self, key)\u001b[0m\n\u001b[0;32m   2690\u001b[0m         \u001b[1;31m# get column\u001b[0m\u001b[1;33m\u001b[0m\u001b[1;33m\u001b[0m\u001b[0m\n\u001b[0;32m   2691\u001b[0m         \u001b[1;32mif\u001b[0m \u001b[0mself\u001b[0m\u001b[1;33m.\u001b[0m\u001b[0mcolumns\u001b[0m\u001b[1;33m.\u001b[0m\u001b[0mis_unique\u001b[0m\u001b[1;33m:\u001b[0m\u001b[1;33m\u001b[0m\u001b[0m\n\u001b[1;32m-> 2692\u001b[1;33m             \u001b[1;32mreturn\u001b[0m \u001b[0mself\u001b[0m\u001b[1;33m.\u001b[0m\u001b[0m_get_item_cache\u001b[0m\u001b[1;33m(\u001b[0m\u001b[0mkey\u001b[0m\u001b[1;33m)\u001b[0m\u001b[1;33m\u001b[0m\u001b[0m\n\u001b[0m\u001b[0;32m   2693\u001b[0m \u001b[1;33m\u001b[0m\u001b[0m\n\u001b[0;32m   2694\u001b[0m         \u001b[1;31m# duplicate columns & possible reduce dimensionality\u001b[0m\u001b[1;33m\u001b[0m\u001b[1;33m\u001b[0m\u001b[0m\n",
      "\u001b[1;32m~\\Anaconda3\\lib\\site-packages\\pandas\\core\\generic.py\u001b[0m in \u001b[0;36m_get_item_cache\u001b[1;34m(self, item)\u001b[0m\n\u001b[0;32m   2484\u001b[0m         \u001b[0mres\u001b[0m \u001b[1;33m=\u001b[0m \u001b[0mcache\u001b[0m\u001b[1;33m.\u001b[0m\u001b[0mget\u001b[0m\u001b[1;33m(\u001b[0m\u001b[0mitem\u001b[0m\u001b[1;33m)\u001b[0m\u001b[1;33m\u001b[0m\u001b[0m\n\u001b[0;32m   2485\u001b[0m         \u001b[1;32mif\u001b[0m \u001b[0mres\u001b[0m \u001b[1;32mis\u001b[0m \u001b[1;32mNone\u001b[0m\u001b[1;33m:\u001b[0m\u001b[1;33m\u001b[0m\u001b[0m\n\u001b[1;32m-> 2486\u001b[1;33m             \u001b[0mvalues\u001b[0m \u001b[1;33m=\u001b[0m \u001b[0mself\u001b[0m\u001b[1;33m.\u001b[0m\u001b[0m_data\u001b[0m\u001b[1;33m.\u001b[0m\u001b[0mget\u001b[0m\u001b[1;33m(\u001b[0m\u001b[0mitem\u001b[0m\u001b[1;33m)\u001b[0m\u001b[1;33m\u001b[0m\u001b[0m\n\u001b[0m\u001b[0;32m   2487\u001b[0m             \u001b[0mres\u001b[0m \u001b[1;33m=\u001b[0m \u001b[0mself\u001b[0m\u001b[1;33m.\u001b[0m\u001b[0m_box_item_values\u001b[0m\u001b[1;33m(\u001b[0m\u001b[0mitem\u001b[0m\u001b[1;33m,\u001b[0m \u001b[0mvalues\u001b[0m\u001b[1;33m)\u001b[0m\u001b[1;33m\u001b[0m\u001b[0m\n\u001b[0;32m   2488\u001b[0m             \u001b[0mcache\u001b[0m\u001b[1;33m[\u001b[0m\u001b[0mitem\u001b[0m\u001b[1;33m]\u001b[0m \u001b[1;33m=\u001b[0m \u001b[0mres\u001b[0m\u001b[1;33m\u001b[0m\u001b[0m\n",
      "\u001b[1;32m~\\Anaconda3\\lib\\site-packages\\pandas\\core\\internals.py\u001b[0m in \u001b[0;36mget\u001b[1;34m(self, item, fastpath)\u001b[0m\n\u001b[0;32m   4113\u001b[0m \u001b[1;33m\u001b[0m\u001b[0m\n\u001b[0;32m   4114\u001b[0m             \u001b[1;32mif\u001b[0m \u001b[1;32mnot\u001b[0m \u001b[0misna\u001b[0m\u001b[1;33m(\u001b[0m\u001b[0mitem\u001b[0m\u001b[1;33m)\u001b[0m\u001b[1;33m:\u001b[0m\u001b[1;33m\u001b[0m\u001b[0m\n\u001b[1;32m-> 4115\u001b[1;33m                 \u001b[0mloc\u001b[0m \u001b[1;33m=\u001b[0m \u001b[0mself\u001b[0m\u001b[1;33m.\u001b[0m\u001b[0mitems\u001b[0m\u001b[1;33m.\u001b[0m\u001b[0mget_loc\u001b[0m\u001b[1;33m(\u001b[0m\u001b[0mitem\u001b[0m\u001b[1;33m)\u001b[0m\u001b[1;33m\u001b[0m\u001b[0m\n\u001b[0m\u001b[0;32m   4116\u001b[0m             \u001b[1;32melse\u001b[0m\u001b[1;33m:\u001b[0m\u001b[1;33m\u001b[0m\u001b[0m\n\u001b[0;32m   4117\u001b[0m                 \u001b[0mindexer\u001b[0m \u001b[1;33m=\u001b[0m \u001b[0mnp\u001b[0m\u001b[1;33m.\u001b[0m\u001b[0marange\u001b[0m\u001b[1;33m(\u001b[0m\u001b[0mlen\u001b[0m\u001b[1;33m(\u001b[0m\u001b[0mself\u001b[0m\u001b[1;33m.\u001b[0m\u001b[0mitems\u001b[0m\u001b[1;33m)\u001b[0m\u001b[1;33m)\u001b[0m\u001b[1;33m[\u001b[0m\u001b[0misna\u001b[0m\u001b[1;33m(\u001b[0m\u001b[0mself\u001b[0m\u001b[1;33m.\u001b[0m\u001b[0mitems\u001b[0m\u001b[1;33m)\u001b[0m\u001b[1;33m]\u001b[0m\u001b[1;33m\u001b[0m\u001b[0m\n",
      "\u001b[1;32m~\\Anaconda3\\lib\\site-packages\\pandas\\core\\indexes\\base.py\u001b[0m in \u001b[0;36mget_loc\u001b[1;34m(self, key, method, tolerance)\u001b[0m\n\u001b[0;32m   3063\u001b[0m                 \u001b[1;32mreturn\u001b[0m \u001b[0mself\u001b[0m\u001b[1;33m.\u001b[0m\u001b[0m_engine\u001b[0m\u001b[1;33m.\u001b[0m\u001b[0mget_loc\u001b[0m\u001b[1;33m(\u001b[0m\u001b[0mkey\u001b[0m\u001b[1;33m)\u001b[0m\u001b[1;33m\u001b[0m\u001b[0m\n\u001b[0;32m   3064\u001b[0m             \u001b[1;32mexcept\u001b[0m \u001b[0mKeyError\u001b[0m\u001b[1;33m:\u001b[0m\u001b[1;33m\u001b[0m\u001b[0m\n\u001b[1;32m-> 3065\u001b[1;33m                 \u001b[1;32mreturn\u001b[0m \u001b[0mself\u001b[0m\u001b[1;33m.\u001b[0m\u001b[0m_engine\u001b[0m\u001b[1;33m.\u001b[0m\u001b[0mget_loc\u001b[0m\u001b[1;33m(\u001b[0m\u001b[0mself\u001b[0m\u001b[1;33m.\u001b[0m\u001b[0m_maybe_cast_indexer\u001b[0m\u001b[1;33m(\u001b[0m\u001b[0mkey\u001b[0m\u001b[1;33m)\u001b[0m\u001b[1;33m)\u001b[0m\u001b[1;33m\u001b[0m\u001b[0m\n\u001b[0m\u001b[0;32m   3066\u001b[0m \u001b[1;33m\u001b[0m\u001b[0m\n\u001b[0;32m   3067\u001b[0m         \u001b[0mindexer\u001b[0m \u001b[1;33m=\u001b[0m \u001b[0mself\u001b[0m\u001b[1;33m.\u001b[0m\u001b[0mget_indexer\u001b[0m\u001b[1;33m(\u001b[0m\u001b[1;33m[\u001b[0m\u001b[0mkey\u001b[0m\u001b[1;33m]\u001b[0m\u001b[1;33m,\u001b[0m \u001b[0mmethod\u001b[0m\u001b[1;33m=\u001b[0m\u001b[0mmethod\u001b[0m\u001b[1;33m,\u001b[0m \u001b[0mtolerance\u001b[0m\u001b[1;33m=\u001b[0m\u001b[0mtolerance\u001b[0m\u001b[1;33m)\u001b[0m\u001b[1;33m\u001b[0m\u001b[0m\n",
      "\u001b[1;32mpandas\\_libs\\index.pyx\u001b[0m in \u001b[0;36mpandas._libs.index.IndexEngine.get_loc\u001b[1;34m()\u001b[0m\n",
      "\u001b[1;32mpandas\\_libs\\index.pyx\u001b[0m in \u001b[0;36mpandas._libs.index.IndexEngine.get_loc\u001b[1;34m()\u001b[0m\n",
      "\u001b[1;32mpandas\\_libs\\hashtable_class_helper.pxi\u001b[0m in \u001b[0;36mpandas._libs.hashtable.PyObjectHashTable.get_item\u001b[1;34m()\u001b[0m\n",
      "\u001b[1;32mpandas\\_libs\\hashtable_class_helper.pxi\u001b[0m in \u001b[0;36mpandas._libs.hashtable.PyObjectHashTable.get_item\u001b[1;34m()\u001b[0m\n",
      "\u001b[1;31mKeyError\u001b[0m: (1, 1)"
     ]
    }
   ],
   "source": [
    "import pandas as pd\n",
    "#import data using pandas data frame\n",
    "customer_df = pd.read_csv(r'C:\\Users\\User\\Desktop\\AETNA.csv')\n",
    "customer_df.sort_values(by=['member_id'], ascending = [True])\n",
    "\n"
   ]
  },
  {
   "cell_type": "code",
   "execution_count": 24,
   "metadata": {},
   "outputs": [
    {
     "data": {
      "text/plain": [
       "'I will then use while loop and if/else conditions to classify if each member_id is either repeat call or not a repeat call. \\nFor example\\n\\nfor i in range(1, end of the row):\\n    Create list of x and y.    \\n    save 1st row of member_id of each member into a x.append(member_id). Then look for a next row that has a same exact member_id using if/else conditions.\\n    If they have same member_id, then subtract recent call date to the past call_date. Save call_date into y.append(call_date). Use If/Else conditions again. If\\n    the recent date and the past date is less than 28 days then we assign that member_id a Repeated Call in a new column. IF not, then assign \"Not a Repeated Call\".\\n    save 1st row of call-date of each member_id into a x.append(call_date)\\nif '"
      ]
     },
     "execution_count": 24,
     "metadata": {},
     "output_type": "execute_result"
    }
   ],
   "source": [
    "'''I will then use while loop and if/else conditions to classify if each member_id is either repeat call or not a repeat call. \n",
    "For example\n",
    "\n",
    "for i in range(1, end of the row):\n",
    "    Create list of x and y.    \n",
    "    save 1st row of member_id of each member into a x.append(member_id). Then look for a next row that has a same exact member_id using if/else conditions.\n",
    "    If they have same member_id, then subtract recent call date to the past call_date. Save call_date into y.append(call_date). Use If/Else conditions again. If\n",
    "    the recent date and the past date is less than 28 days then we assign that member_id a Repeated Call in a new column. IF not, then assign \"Not a Repeated Call\".\n",
    "    save 1st row of call-date of each member_id into a x.append(call_date)\n",
    "if '''"
   ]
  },
  {
   "cell_type": "code",
   "execution_count": 1,
   "metadata": {
    "scrolled": true
   },
   "outputs": [
    {
     "data": {
      "text/html": [
       "<div>\n",
       "<style scoped>\n",
       "    .dataframe tbody tr th:only-of-type {\n",
       "        vertical-align: middle;\n",
       "    }\n",
       "\n",
       "    .dataframe tbody tr th {\n",
       "        vertical-align: top;\n",
       "    }\n",
       "\n",
       "    .dataframe thead th {\n",
       "        text-align: right;\n",
       "    }\n",
       "</style>\n",
       "<table border=\"1\" class=\"dataframe\">\n",
       "  <thead>\n",
       "    <tr style=\"text-align: right;\">\n",
       "      <th></th>\n",
       "      <th>customer_id</th>\n",
       "      <th>store_id</th>\n",
       "      <th>first_name</th>\n",
       "      <th>last_name</th>\n",
       "      <th>email</th>\n",
       "      <th>address_id</th>\n",
       "      <th>active</th>\n",
       "      <th>create_date</th>\n",
       "      <th>last_update</th>\n",
       "    </tr>\n",
       "  </thead>\n",
       "  <tbody>\n",
       "    <tr>\n",
       "      <th>0</th>\n",
       "      <td>1</td>\n",
       "      <td>1</td>\n",
       "      <td>MARY</td>\n",
       "      <td>SMITH</td>\n",
       "      <td>MARY.SMITH@sakilacustomer.org</td>\n",
       "      <td>5</td>\n",
       "      <td>1</td>\n",
       "      <td>2006-02-14 22:04:36</td>\n",
       "      <td>2006-02-15 04:57:20</td>\n",
       "    </tr>\n",
       "    <tr>\n",
       "      <th>1</th>\n",
       "      <td>2</td>\n",
       "      <td>1</td>\n",
       "      <td>PATRICIA</td>\n",
       "      <td>JOHNSON</td>\n",
       "      <td>PATRICIA.JOHNSON@sakilacustomer.org</td>\n",
       "      <td>6</td>\n",
       "      <td>1</td>\n",
       "      <td>2006-02-14 22:04:36</td>\n",
       "      <td>2006-02-15 04:57:20</td>\n",
       "    </tr>\n",
       "    <tr>\n",
       "      <th>2</th>\n",
       "      <td>3</td>\n",
       "      <td>1</td>\n",
       "      <td>LINDA</td>\n",
       "      <td>WILLIAMS</td>\n",
       "      <td>LINDA.WILLIAMS@sakilacustomer.org</td>\n",
       "      <td>7</td>\n",
       "      <td>1</td>\n",
       "      <td>2006-02-14 22:04:36</td>\n",
       "      <td>2006-02-15 04:57:20</td>\n",
       "    </tr>\n",
       "    <tr>\n",
       "      <th>3</th>\n",
       "      <td>4</td>\n",
       "      <td>2</td>\n",
       "      <td>BARBARA</td>\n",
       "      <td>JONES</td>\n",
       "      <td>BARBARA.JONES@sakilacustomer.org</td>\n",
       "      <td>8</td>\n",
       "      <td>1</td>\n",
       "      <td>2006-02-14 22:04:36</td>\n",
       "      <td>2006-02-15 04:57:20</td>\n",
       "    </tr>\n",
       "    <tr>\n",
       "      <th>4</th>\n",
       "      <td>5</td>\n",
       "      <td>1</td>\n",
       "      <td>ELIZABETH</td>\n",
       "      <td>BROWN</td>\n",
       "      <td>ELIZABETH.BROWN@sakilacustomer.org</td>\n",
       "      <td>9</td>\n",
       "      <td>1</td>\n",
       "      <td>2006-02-14 22:04:36</td>\n",
       "      <td>2006-02-15 04:57:20</td>\n",
       "    </tr>\n",
       "  </tbody>\n",
       "</table>\n",
       "</div>"
      ],
      "text/plain": [
       "   customer_id  store_id first_name last_name  \\\n",
       "0            1         1       MARY     SMITH   \n",
       "1            2         1   PATRICIA   JOHNSON   \n",
       "2            3         1      LINDA  WILLIAMS   \n",
       "3            4         2    BARBARA     JONES   \n",
       "4            5         1  ELIZABETH     BROWN   \n",
       "\n",
       "                                 email  address_id  active  \\\n",
       "0        MARY.SMITH@sakilacustomer.org           5       1   \n",
       "1  PATRICIA.JOHNSON@sakilacustomer.org           6       1   \n",
       "2    LINDA.WILLIAMS@sakilacustomer.org           7       1   \n",
       "3     BARBARA.JONES@sakilacustomer.org           8       1   \n",
       "4   ELIZABETH.BROWN@sakilacustomer.org           9       1   \n",
       "\n",
       "           create_date          last_update  \n",
       "0  2006-02-14 22:04:36  2006-02-15 04:57:20  \n",
       "1  2006-02-14 22:04:36  2006-02-15 04:57:20  \n",
       "2  2006-02-14 22:04:36  2006-02-15 04:57:20  \n",
       "3  2006-02-14 22:04:36  2006-02-15 04:57:20  \n",
       "4  2006-02-14 22:04:36  2006-02-15 04:57:20  "
      ]
     },
     "execution_count": 1,
     "metadata": {},
     "output_type": "execute_result"
    }
   ],
   "source": [
    "import pandas as pd\n",
    "customer_df = pd.read_csv(r'C:\\Users\\User\\Desktop\\Fall 2018\\Financial Modeling\\HW4\\customer.csv')\n",
    "list(customer_df)\n",
    "customer_df.head()"
   ]
  },
  {
   "cell_type": "code",
   "execution_count": 2,
   "metadata": {},
   "outputs": [],
   "source": [
    "import pandas as pd\n",
    "inventory_df = pd.read_csv(r'C:\\Users\\User\\Desktop\\Fall 2018\\Financial Modeling\\HW4\\inventory.csv')\n"
   ]
  },
  {
   "cell_type": "code",
   "execution_count": 3,
   "metadata": {},
   "outputs": [],
   "source": [
    "import pandas as pd\n",
    "store_df = pd.read_csv(r'C:\\Users\\User\\Desktop\\Fall 2018\\Financial Modeling\\HW4\\store.csv')\n"
   ]
  },
  {
   "cell_type": "code",
   "execution_count": 4,
   "metadata": {},
   "outputs": [],
   "source": [
    "import pandas as pd\n",
    "film_df = pd.read_csv(r'C:\\Users\\User\\Desktop\\Fall 2018\\Financial Modeling\\HW4\\film.csv')\n"
   ]
  },
  {
   "cell_type": "code",
   "execution_count": 5,
   "metadata": {
    "scrolled": true
   },
   "outputs": [],
   "source": [
    "import pandas as pd\n",
    "address_df = pd.read_csv(r'C:\\Users\\User\\Desktop\\Fall 2018\\Financial Modeling\\HW4\\address.csv')\n"
   ]
  },
  {
   "cell_type": "code",
   "execution_count": 6,
   "metadata": {},
   "outputs": [],
   "source": [
    "import pandas as pd\n",
    "staff_df = pd.read_csv(r'C:\\Users\\User\\Desktop\\Fall 2018\\Financial Modeling\\HW4\\staff.csv')\n",
    "staff_df.head()\n",
    "staff = staff_df[['first_name','last_name']]\n"
   ]
  },
  {
   "cell_type": "code",
   "execution_count": 45,
   "metadata": {},
   "outputs": [
    {
     "data": {
      "text/html": [
       "<div>\n",
       "<style scoped>\n",
       "    .dataframe tbody tr th:only-of-type {\n",
       "        vertical-align: middle;\n",
       "    }\n",
       "\n",
       "    .dataframe tbody tr th {\n",
       "        vertical-align: top;\n",
       "    }\n",
       "\n",
       "    .dataframe thead th {\n",
       "        text-align: right;\n",
       "    }\n",
       "</style>\n",
       "<table border=\"1\" class=\"dataframe\">\n",
       "  <thead>\n",
       "    <tr style=\"text-align: right;\">\n",
       "      <th></th>\n",
       "      <th>payment_id</th>\n",
       "      <th>staff_id</th>\n",
       "      <th>rental_id</th>\n",
       "      <th>amount</th>\n",
       "    </tr>\n",
       "    <tr>\n",
       "      <th>customer_id</th>\n",
       "      <th></th>\n",
       "      <th></th>\n",
       "      <th></th>\n",
       "      <th></th>\n",
       "    </tr>\n",
       "  </thead>\n",
       "  <tbody>\n",
       "    <tr>\n",
       "      <th>526</th>\n",
       "      <td>637110</td>\n",
       "      <td>69</td>\n",
       "      <td>337306.0</td>\n",
       "      <td>221.55</td>\n",
       "    </tr>\n",
       "    <tr>\n",
       "      <th>148</th>\n",
       "      <td>185587</td>\n",
       "      <td>68</td>\n",
       "      <td>420168.0</td>\n",
       "      <td>216.54</td>\n",
       "    </tr>\n",
       "    <tr>\n",
       "      <th>144</th>\n",
       "      <td>163779</td>\n",
       "      <td>62</td>\n",
       "      <td>344217.0</td>\n",
       "      <td>195.58</td>\n",
       "    </tr>\n",
       "    <tr>\n",
       "      <th>137</th>\n",
       "      <td>144300</td>\n",
       "      <td>55</td>\n",
       "      <td>344045.0</td>\n",
       "      <td>194.61</td>\n",
       "    </tr>\n",
       "    <tr>\n",
       "      <th>178</th>\n",
       "      <td>188838</td>\n",
       "      <td>59</td>\n",
       "      <td>313370.0</td>\n",
       "      <td>194.61</td>\n",
       "    </tr>\n",
       "  </tbody>\n",
       "</table>\n",
       "</div>"
      ],
      "text/plain": [
       "             payment_id  staff_id  rental_id  amount\n",
       "customer_id                                         \n",
       "526              637110        69   337306.0  221.55\n",
       "148              185587        68   420168.0  216.54\n",
       "144              163779        62   344217.0  195.58\n",
       "137              144300        55   344045.0  194.61\n",
       "178              188838        59   313370.0  194.61"
      ]
     },
     "execution_count": 45,
     "metadata": {},
     "output_type": "execute_result"
    }
   ],
   "source": [
    "#Q1\n",
    "import pandas as pd\n",
    "payment_df = pd.read_csv(r'C:\\Users\\User\\Desktop\\Fall 2018\\Financial Modeling\\HW4\\payment.csv')\n",
    "payment_df1 = payment_df.groupby('customer_id').sum()\n",
    "# get total payment amount grouped by customer_id\n",
    "payment = payment_df1[['payment_id','staff_id','rental_id', 'amount']]\n",
    "# keep the columns needed\n",
    "payment_sorted =  payment.sort_values(by=['amount'], ascending = [False])\n",
    "# sort by the total amount in descending order\n",
    "payment_sorted.head()"
   ]
  },
  {
   "cell_type": "code",
   "execution_count": 46,
   "metadata": {},
   "outputs": [
    {
     "data": {
      "text/html": [
       "<div>\n",
       "<style scoped>\n",
       "    .dataframe tbody tr th:only-of-type {\n",
       "        vertical-align: middle;\n",
       "    }\n",
       "\n",
       "    .dataframe tbody tr th {\n",
       "        vertical-align: top;\n",
       "    }\n",
       "\n",
       "    .dataframe thead th {\n",
       "        text-align: right;\n",
       "    }\n",
       "</style>\n",
       "<table border=\"1\" class=\"dataframe\">\n",
       "  <thead>\n",
       "    <tr style=\"text-align: right;\">\n",
       "      <th></th>\n",
       "      <th>rental_id</th>\n",
       "      <th>rental_date</th>\n",
       "      <th>inventory_id</th>\n",
       "      <th>customer_id</th>\n",
       "      <th>return_date</th>\n",
       "      <th>staff_id</th>\n",
       "      <th>last_update</th>\n",
       "    </tr>\n",
       "  </thead>\n",
       "  <tbody>\n",
       "    <tr>\n",
       "      <th>31</th>\n",
       "      <td>32</td>\n",
       "      <td>2005-05-25 04:06:21</td>\n",
       "      <td>3832</td>\n",
       "      <td>230</td>\n",
       "      <td>2005-05-25 23:55:21</td>\n",
       "      <td>1</td>\n",
       "      <td>2006-02-15 21:30:53</td>\n",
       "    </tr>\n",
       "    <tr>\n",
       "      <th>20</th>\n",
       "      <td>21</td>\n",
       "      <td>2005-05-25 01:59:46</td>\n",
       "      <td>146</td>\n",
       "      <td>388</td>\n",
       "      <td>2005-05-26 01:01:46</td>\n",
       "      <td>2</td>\n",
       "      <td>2006-02-15 21:30:53</td>\n",
       "    </tr>\n",
       "    <tr>\n",
       "      <th>13</th>\n",
       "      <td>14</td>\n",
       "      <td>2005-05-25 00:31:15</td>\n",
       "      <td>2701</td>\n",
       "      <td>446</td>\n",
       "      <td>2005-05-26 02:56:15</td>\n",
       "      <td>1</td>\n",
       "      <td>2006-02-15 21:30:53</td>\n",
       "    </tr>\n",
       "    <tr>\n",
       "      <th>15</th>\n",
       "      <td>16</td>\n",
       "      <td>2005-05-25 00:43:11</td>\n",
       "      <td>389</td>\n",
       "      <td>316</td>\n",
       "      <td>2005-05-26 04:42:11</td>\n",
       "      <td>2</td>\n",
       "      <td>2006-02-15 21:30:53</td>\n",
       "    </tr>\n",
       "    <tr>\n",
       "      <th>21</th>\n",
       "      <td>22</td>\n",
       "      <td>2005-05-25 02:19:23</td>\n",
       "      <td>727</td>\n",
       "      <td>509</td>\n",
       "      <td>2005-05-26 04:52:23</td>\n",
       "      <td>2</td>\n",
       "      <td>2006-02-15 21:30:53</td>\n",
       "    </tr>\n",
       "  </tbody>\n",
       "</table>\n",
       "</div>"
      ],
      "text/plain": [
       "    rental_id         rental_date  inventory_id  customer_id  \\\n",
       "31         32 2005-05-25 04:06:21          3832          230   \n",
       "20         21 2005-05-25 01:59:46           146          388   \n",
       "13         14 2005-05-25 00:31:15          2701          446   \n",
       "15         16 2005-05-25 00:43:11           389          316   \n",
       "21         22 2005-05-25 02:19:23           727          509   \n",
       "\n",
       "            return_date  staff_id          last_update  \n",
       "31  2005-05-25 23:55:21         1  2006-02-15 21:30:53  \n",
       "20  2005-05-26 01:01:46         2  2006-02-15 21:30:53  \n",
       "13  2005-05-26 02:56:15         1  2006-02-15 21:30:53  \n",
       "15  2005-05-26 04:42:11         2  2006-02-15 21:30:53  \n",
       "21  2005-05-26 04:52:23         2  2006-02-15 21:30:53  "
      ]
     },
     "execution_count": 46,
     "metadata": {},
     "output_type": "execute_result"
    }
   ],
   "source": [
    "#Q2\n",
    "\n",
    "import pandas as pd\n",
    "rental_df = pd.read_csv(r'C:\\Users\\User\\Desktop\\Fall 2018\\Financial Modeling\\HW4\\rental.csv')\n",
    "rental = rental_df[['rental_id','rental_date','inventory_id','customer_id','return_date','staff_id','last_update']]\n",
    "# keep columns needed\n",
    "rental['rental_date'] = pd.to_datetime(rental['rental_date'])\n",
    "# convert dataframe clolum 'rental_date' to datetime\n",
    "rental_2005 =  rental[rental['rental_date'].dt.year == 2005]\n",
    "# select rented in 2005\n",
    "rental_sorted = rental.sort_values(by=['return_date'], ascending = [True])\n",
    "# sort on return_date in ascending order\n",
    "rental_sorted.head()\n"
   ]
  },
  {
   "cell_type": "code",
   "execution_count": 47,
   "metadata": {},
   "outputs": [
    {
     "data": {
      "text/html": [
       "<div>\n",
       "<style scoped>\n",
       "    .dataframe tbody tr th:only-of-type {\n",
       "        vertical-align: middle;\n",
       "    }\n",
       "\n",
       "    .dataframe tbody tr th {\n",
       "        vertical-align: top;\n",
       "    }\n",
       "\n",
       "    .dataframe thead th {\n",
       "        text-align: right;\n",
       "    }\n",
       "</style>\n",
       "<table border=\"1\" class=\"dataframe\">\n",
       "  <thead>\n",
       "    <tr style=\"text-align: right;\">\n",
       "      <th></th>\n",
       "      <th>count</th>\n",
       "    </tr>\n",
       "    <tr>\n",
       "      <th>staff_id</th>\n",
       "      <th></th>\n",
       "    </tr>\n",
       "  </thead>\n",
       "  <tbody>\n",
       "    <tr>\n",
       "      <th>1</th>\n",
       "      <td>8040</td>\n",
       "    </tr>\n",
       "    <tr>\n",
       "      <th>2</th>\n",
       "      <td>8004</td>\n",
       "    </tr>\n",
       "  </tbody>\n",
       "</table>\n",
       "</div>"
      ],
      "text/plain": [
       "          count\n",
       "staff_id       \n",
       "1          8040\n",
       "2          8004"
      ]
     },
     "execution_count": 47,
     "metadata": {},
     "output_type": "execute_result"
    }
   ],
   "source": [
    "#Q3\n",
    "\n",
    "rental_count = rental_sorted.groupby(['staff_id']).agg((['count']))\n",
    "# get rental_id count from rental data set grouped by staff_id\n",
    "rental_c = rental_count['rental_id']\n",
    "# keep the column needed\n",
    "rental_c"
   ]
  },
  {
   "cell_type": "code",
   "execution_count": 48,
   "metadata": {},
   "outputs": [],
   "source": [
    "#Q4\n",
    "import pandas as pd\n",
    "staff_df = pd.read_csv(r'C:\\Users\\User\\Desktop\\Fall 2018\\Financial Modeling\\HW4\\staff.csv')\n",
    "staff = staff_df[['first_name','last_name']]\n",
    "# keep columns needed\n",
    "rental_c_staff = staff.reset_index(drop=True).merge(rental_c.reset_index(drop=True), left_index=True, right_index=True)\n",
    "## or\n",
    "staff = staff_df[['staff_id','first_name', 'last_name']]\n",
    "# keep columns neede\n",
    "rental_c_staff = pd.merge(staff,rental_c,on = \"staff_id\").drop(['staff_id'], axis=1)\n",
    "# merge using \"staff_id\" as the key, then drop it to make our answer consistent with the example"
   ]
  },
  {
   "cell_type": "code",
   "execution_count": 49,
   "metadata": {
    "scrolled": true
   },
   "outputs": [
    {
     "data": {
      "text/html": [
       "<div>\n",
       "<style scoped>\n",
       "    .dataframe tbody tr th:only-of-type {\n",
       "        vertical-align: middle;\n",
       "    }\n",
       "\n",
       "    .dataframe tbody tr th {\n",
       "        vertical-align: top;\n",
       "    }\n",
       "\n",
       "    .dataframe thead th {\n",
       "        text-align: right;\n",
       "    }\n",
       "</style>\n",
       "<table border=\"1\" class=\"dataframe\">\n",
       "  <thead>\n",
       "    <tr style=\"text-align: right;\">\n",
       "      <th></th>\n",
       "      <th>rental_date</th>\n",
       "      <th>return_date</th>\n",
       "      <th>first_name_x</th>\n",
       "      <th>last_name_x</th>\n",
       "      <th>last_update_x</th>\n",
       "      <th>last_update_x</th>\n",
       "      <th>last_update_x</th>\n",
       "      <th>title</th>\n",
       "      <th>description</th>\n",
       "      <th>address</th>\n",
       "      <th>first_name_y</th>\n",
       "      <th>last_name_y</th>\n",
       "    </tr>\n",
       "  </thead>\n",
       "  <tbody>\n",
       "    <tr>\n",
       "      <th>31</th>\n",
       "      <td>2005-05-25 04:06:21</td>\n",
       "      <td>2005-05-25 23:55:21</td>\n",
       "      <td>JOY</td>\n",
       "      <td>GEORGE</td>\n",
       "      <td>2006-02-15 21:30:53</td>\n",
       "      <td>2006-02-15 04:57:12</td>\n",
       "      <td>2014-09-25 22:30:09</td>\n",
       "      <td>STALLION SUNDANCE</td>\n",
       "      <td>A Fast-Paced Tale of a Car And a Dog who must ...</td>\n",
       "      <td>28 MySQL Boulevard</td>\n",
       "      <td>Mike</td>\n",
       "      <td>Hillyer</td>\n",
       "    </tr>\n",
       "    <tr>\n",
       "      <th>20</th>\n",
       "      <td>2005-05-25 01:59:46</td>\n",
       "      <td>2005-05-26 01:01:46</td>\n",
       "      <td>CRAIG</td>\n",
       "      <td>MORRELL</td>\n",
       "      <td>2006-02-15 21:30:53</td>\n",
       "      <td>2006-02-15 04:57:12</td>\n",
       "      <td>2014-09-25 22:30:27</td>\n",
       "      <td>APACHE DIVINE</td>\n",
       "      <td>A Awe-Inspiring Reflection of a Pastry Chef An...</td>\n",
       "      <td>47 MySakila Drive</td>\n",
       "      <td>Jon</td>\n",
       "      <td>Stephens</td>\n",
       "    </tr>\n",
       "    <tr>\n",
       "      <th>13</th>\n",
       "      <td>2005-05-25 00:31:15</td>\n",
       "      <td>2005-05-26 02:56:15</td>\n",
       "      <td>THEODORE</td>\n",
       "      <td>CULP</td>\n",
       "      <td>2006-02-15 21:30:53</td>\n",
       "      <td>2006-02-15 04:57:12</td>\n",
       "      <td>2014-09-25 22:30:09</td>\n",
       "      <td>MONTEREY LABYRINTH</td>\n",
       "      <td>A Awe-Inspiring Drama of a Monkey And a Compos...</td>\n",
       "      <td>28 MySQL Boulevard</td>\n",
       "      <td>Mike</td>\n",
       "      <td>Hillyer</td>\n",
       "    </tr>\n",
       "    <tr>\n",
       "      <th>15</th>\n",
       "      <td>2005-05-25 00:43:11</td>\n",
       "      <td>2005-05-26 04:42:11</td>\n",
       "      <td>STEVEN</td>\n",
       "      <td>CURLEY</td>\n",
       "      <td>2006-02-15 21:30:53</td>\n",
       "      <td>2006-02-15 04:57:12</td>\n",
       "      <td>2014-09-25 22:30:27</td>\n",
       "      <td>BOOGIE AMELIE</td>\n",
       "      <td>A Lacklusture Character Study of a Husband And...</td>\n",
       "      <td>47 MySakila Drive</td>\n",
       "      <td>Jon</td>\n",
       "      <td>Stephens</td>\n",
       "    </tr>\n",
       "    <tr>\n",
       "      <th>21</th>\n",
       "      <td>2005-05-25 02:19:23</td>\n",
       "      <td>2005-05-26 04:52:23</td>\n",
       "      <td>RAUL</td>\n",
       "      <td>FORTIER</td>\n",
       "      <td>2006-02-15 21:30:53</td>\n",
       "      <td>2006-02-15 04:57:12</td>\n",
       "      <td>2014-09-25 22:30:27</td>\n",
       "      <td>CLOSER BANG</td>\n",
       "      <td>A Unbelieveable Panorama of a Frisbee And a Hu...</td>\n",
       "      <td>47 MySakila Drive</td>\n",
       "      <td>Jon</td>\n",
       "      <td>Stephens</td>\n",
       "    </tr>\n",
       "  </tbody>\n",
       "</table>\n",
       "</div>"
      ],
      "text/plain": [
       "            rental_date          return_date first_name_x last_name_x  \\\n",
       "31  2005-05-25 04:06:21  2005-05-25 23:55:21          JOY      GEORGE   \n",
       "20  2005-05-25 01:59:46  2005-05-26 01:01:46        CRAIG     MORRELL   \n",
       "13  2005-05-25 00:31:15  2005-05-26 02:56:15     THEODORE        CULP   \n",
       "15  2005-05-25 00:43:11  2005-05-26 04:42:11       STEVEN      CURLEY   \n",
       "21  2005-05-25 02:19:23  2005-05-26 04:52:23         RAUL     FORTIER   \n",
       "\n",
       "          last_update_x        last_update_x        last_update_x  \\\n",
       "31  2006-02-15 21:30:53  2006-02-15 04:57:12  2014-09-25 22:30:09   \n",
       "20  2006-02-15 21:30:53  2006-02-15 04:57:12  2014-09-25 22:30:27   \n",
       "13  2006-02-15 21:30:53  2006-02-15 04:57:12  2014-09-25 22:30:09   \n",
       "15  2006-02-15 21:30:53  2006-02-15 04:57:12  2014-09-25 22:30:27   \n",
       "21  2006-02-15 21:30:53  2006-02-15 04:57:12  2014-09-25 22:30:27   \n",
       "\n",
       "                 title                                        description  \\\n",
       "31   STALLION SUNDANCE  A Fast-Paced Tale of a Car And a Dog who must ...   \n",
       "20       APACHE DIVINE  A Awe-Inspiring Reflection of a Pastry Chef An...   \n",
       "13  MONTEREY LABYRINTH  A Awe-Inspiring Drama of a Monkey And a Compos...   \n",
       "15       BOOGIE AMELIE  A Lacklusture Character Study of a Husband And...   \n",
       "21         CLOSER BANG  A Unbelieveable Panorama of a Frisbee And a Hu...   \n",
       "\n",
       "               address first_name_y last_name_y  \n",
       "31  28 MySQL Boulevard         Mike     Hillyer  \n",
       "20   47 MySakila Drive          Jon    Stephens  \n",
       "13  28 MySQL Boulevard         Mike     Hillyer  \n",
       "15   47 MySakila Drive          Jon    Stephens  \n",
       "21   47 MySakila Drive          Jon    Stephens  "
      ]
     },
     "execution_count": 49,
     "metadata": {},
     "output_type": "execute_result"
    }
   ],
   "source": [
    "#Q5\n",
    "new_df = pd.merge(rental_df,inventory_df, how = 'left', on = ['inventory_id'])\n",
    "new_df1 = pd.merge(new_df, store_df, how = 'left', on = ['store_id'])\n",
    "new_df2 = pd.merge(new_df1, film_df, how = 'left', on = ['film_id'])\n",
    "new_df3 = pd.merge(new_df2,address_df, how = 'left', on = ['address_id'])\n",
    "new_df4 = pd.merge(new_df3,customer_df, how = 'left', on = ['customer_id'])\n",
    "new_df5 = pd.merge(new_df4,staff_df, how = 'left', on = ['staff_id'])\n",
    "# merge \"left\" allowing listing all the records on the left data frame even ones without matches on the right data frame\n",
    "newdf5_sorted = new_df5.sort_values(by=['return_date'], ascending = [True])\n",
    "# sorted by return_date in the ascending order\n",
    "rental_merge = newdf5_sorted[['rental_date','return_date','first_name_x','last_name_x','last_update_x','title','description','address','first_name_y','last_name_y']]\n",
    "# keep columns needed\n",
    "rental_merge.head()"
   ]
  },
  {
   "cell_type": "code",
   "execution_count": 50,
   "metadata": {
    "scrolled": false
   },
   "outputs": [
    {
     "data": {
      "text/html": [
       "<div>\n",
       "<style scoped>\n",
       "    .dataframe tbody tr th:only-of-type {\n",
       "        vertical-align: middle;\n",
       "    }\n",
       "\n",
       "    .dataframe tbody tr th {\n",
       "        vertical-align: top;\n",
       "    }\n",
       "\n",
       "    .dataframe thead th {\n",
       "        text-align: right;\n",
       "    }\n",
       "</style>\n",
       "<table border=\"1\" class=\"dataframe\">\n",
       "  <thead>\n",
       "    <tr style=\"text-align: right;\">\n",
       "      <th></th>\n",
       "      <th>amount</th>\n",
       "    </tr>\n",
       "    <tr>\n",
       "      <th>customer_id</th>\n",
       "      <th></th>\n",
       "    </tr>\n",
       "  </thead>\n",
       "  <tbody>\n",
       "    <tr>\n",
       "      <th>148</th>\n",
       "      <td>216.54</td>\n",
       "    </tr>\n",
       "    <tr>\n",
       "      <th>526</th>\n",
       "      <td>221.55</td>\n",
       "    </tr>\n",
       "  </tbody>\n",
       "</table>\n",
       "</div>"
      ],
      "text/plain": [
       "             amount\n",
       "customer_id        \n",
       "148          216.54\n",
       "526          221.55"
      ]
     },
     "execution_count": 50,
     "metadata": {},
     "output_type": "execute_result"
    }
   ],
   "source": [
    "#Q6\n",
    "import pandas as pd\n",
    "payment_df = pd.read_csv(r'C:\\Users\\User\\Desktop\\Fall 2018\\Financial Modeling\\HW4\\payment.csv')\n",
    "customer_payment_df = payment_df\n",
    "customer_payment_df['payment_date'] = pd.to_datetime(customer_payment_df['payment_date'])\n",
    "mask = (customer_payment_df['payment_date'].dt.year == 2005)\n",
    "customer_payment_df_2005 = customer_payment_df.loc[mask]\n",
    "# another way(using loc function) to select payment happened in 2005\n",
    "payment_df_sum1 = customer_payment_df_2005[['customer_id','amount']]\n",
    "payment_df_sum2 = payment_df_sum1.groupby('customer_id').sum()\n",
    "payment_df_sum_greater = payment_df_sum2[payment_df_sum2.amount > 200]\n",
    "# sum amount of payment in 2005 is more than $200\n",
    "payment_df_sum_greater"
   ]
  },
  {
   "cell_type": "code",
   "execution_count": 51,
   "metadata": {},
   "outputs": [
    {
     "data": {
      "text/html": [
       "<div>\n",
       "<style scoped>\n",
       "    .dataframe tbody tr th:only-of-type {\n",
       "        vertical-align: middle;\n",
       "    }\n",
       "\n",
       "    .dataframe tbody tr th {\n",
       "        vertical-align: top;\n",
       "    }\n",
       "\n",
       "    .dataframe thead th {\n",
       "        text-align: right;\n",
       "    }\n",
       "</style>\n",
       "<table border=\"1\" class=\"dataframe\">\n",
       "  <thead>\n",
       "    <tr style=\"text-align: right;\">\n",
       "      <th></th>\n",
       "      <th>first_name</th>\n",
       "      <th>last_name</th>\n",
       "      <th>amount</th>\n",
       "    </tr>\n",
       "  </thead>\n",
       "  <tbody>\n",
       "    <tr>\n",
       "      <th>0</th>\n",
       "      <td>ELEANOR</td>\n",
       "      <td>HUNT</td>\n",
       "      <td>216.54</td>\n",
       "    </tr>\n",
       "    <tr>\n",
       "      <th>1</th>\n",
       "      <td>KARL</td>\n",
       "      <td>SEAL</td>\n",
       "      <td>221.55</td>\n",
       "    </tr>\n",
       "  </tbody>\n",
       "</table>\n",
       "</div>"
      ],
      "text/plain": [
       "  first_name last_name  amount\n",
       "0    ELEANOR      HUNT  216.54\n",
       "1       KARL      SEAL  221.55"
      ]
     },
     "execution_count": 51,
     "metadata": {},
     "output_type": "execute_result"
    }
   ],
   "source": [
    "#Q7\n",
    "merge_df_greater = pd.merge(customer_df,payment_df_sum_greater, how = 'right', on = ['customer_id'])\n",
    "# merge right so we just keep those whose payment in 2005 is more than $200\n",
    "merge_df_greater_name = merge_df_greater[['first_name', 'last_name' ,'amount']]\n",
    "# keep columns needed\n",
    "merge_df_greater_name"
   ]
  },
  {
   "cell_type": "code",
   "execution_count": 7,
   "metadata": {},
   "outputs": [],
   "source": [
    "#q8\n",
    "import pandas as pd\n",
    "rental_df = pd.read_csv(r'C:\\Users\\User\\Desktop\\Fall 2018\\Financial Modeling\\HW4\\rental.csv')\n",
    "rental_df['rental_date'] = pd.to_datetime(rental_df['rental_date'])\n",
    "# convert to datetime\n",
    "rental_df_2005 = rental_df[rental_df['rental_date'].dt.year == 2005]\n",
    "# keep all rents took place in 2005\n",
    "rental_df_2005 = rental_df_2005[['customer_id']].drop_duplicates()\n",
    "# drop duplicates\n",
    "rental_df_2005['exist'] = 1\n",
    "# add a column 'exist', value = 1\n",
    "\n",
    "rental_df_2006 = rental_df[rental_df['rental_date'].dt.year == 2006]\n",
    "# keep all rents took place in 2006\n",
    "rental_df_2006 = rental_df_2006[['customer_id']].drop_duplicates()\n",
    "# drop duplicates\n",
    "rental_df_2006['exist'] = 1\n",
    "# add a column 'exist', value = 1\n",
    "\n",
    "rental_df_0506=rental_df_2005.merge(rental_df_2006, on = 'customer_id', how = 'outer')\n",
    "# merge two dataframe, how = \"outer\" makes sure we don't miss any customer_id that only exist in one year\n",
    "In2005NotIn2006 = rental_df_0506.loc[(rental_df_0506['exist_x'] == 1) & (rental_df_0506['exist_y'] != 1), 'customer_id']\n",
    "# customer_idthatexistinthe 2005 data frame but not in the 2006 data frame, then only keep \"customer_id\"\n",
    "In2006NotIn2005 = rental_df_0506.loc[(rental_df_0506['exist_x'] != 1) & (rental_df_0506['exist_y'] == 1), 'customer_id']\n",
    "# customer_id that exist in the 2006 data frame but not in the 2005 data frame = 0, then only keep \"customer_id\""
   ]
  },
  {
   "cell_type": "code",
   "execution_count": 53,
   "metadata": {},
   "outputs": [
    {
     "data": {
      "text/plain": [
       "441"
      ]
     },
     "execution_count": 53,
     "metadata": {},
     "output_type": "execute_result"
    }
   ],
   "source": [
    "#Count total number of 2005 not in 2006\n",
    "In2005NotIn2006.count()"
   ]
  },
  {
   "cell_type": "code",
   "execution_count": 54,
   "metadata": {},
   "outputs": [
    {
     "data": {
      "text/plain": [
       "0"
      ]
     },
     "execution_count": 54,
     "metadata": {},
     "output_type": "execute_result"
    }
   ],
   "source": [
    "#Count total number of 2006 not in 2005\n",
    "In2006NotIn2005.count()"
   ]
  }
 ],
 "metadata": {
  "kernelspec": {
   "display_name": "Python 3",
   "language": "python",
   "name": "python3"
  },
  "language_info": {
   "codemirror_mode": {
    "name": "ipython",
    "version": 3
   },
   "file_extension": ".py",
   "mimetype": "text/x-python",
   "name": "python",
   "nbconvert_exporter": "python",
   "pygments_lexer": "ipython3",
   "version": "3.6.5"
  }
 },
 "nbformat": 4,
 "nbformat_minor": 2
}
