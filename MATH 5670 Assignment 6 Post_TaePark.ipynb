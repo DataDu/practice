{
 "cells": [
  {
   "cell_type": "markdown",
   "metadata": {},
   "source": [
    "In the following basic problems, at least 3 test cases must be written in the main\n",
    "function. Space and time complexity must be evaluated. Pick problems that do not have solutions yet. Try submitting solutions on the website to test them out.\n",
    "\n",
    "a. Pick any Easy Stack problem (https://leetcode.com/tag/stack/)\n",
    "\n",
    "b. Pick any Easy Queue problem (http://leetcode.com/tag/queue/)"
   ]
  },
  {
   "cell_type": "code",
   "execution_count": 1,
   "metadata": {},
   "outputs": [
    {
     "name": "stdout",
     "output_type": "stream",
     "text": [
      "3\n",
      "2\n",
      "False\n"
     ]
    }
   ],
   "source": [
    "# First problem in Stack\n",
    "class MyStack(object):\n",
    "\n",
    "    def __init__(self):\n",
    "        \"\"\"\n",
    "        Initialize your data structure here.\n",
    "        \"\"\"\n",
    "        self.myStack = []\n",
    "\n",
    "    def push(self, x):\n",
    "        \"\"\"\n",
    "        Push element x onto stack.\n",
    "        :type x: int\n",
    "        :rtype: void\n",
    "        \"\"\"\n",
    "        self.myStack.append(x)\n",
    "\n",
    "    def pop(self):\n",
    "        \"\"\"\n",
    "        Removes the element on top of the stack and returns that element.\n",
    "        :rtype: int\n",
    "        \"\"\"\n",
    "        if not self.empty():\n",
    "            return self.myStack.pop()\n",
    "\n",
    "    def top(self):\n",
    "        \"\"\"\n",
    "        Get the top element.\n",
    "        :rtype: int\n",
    "        \"\"\"\n",
    "        if not self.empty():\n",
    "            return self.myStack[-1]\n",
    "\n",
    "\n",
    "    def empty(self):\n",
    "        \"\"\"\n",
    "        Returns whether the stack is empty.\n",
    "        :rtype: bool\n",
    "        \"\"\"\n",
    "        return len(self.myStack) == 0\n",
    "\n",
    "obj = MyStack()\n",
    "obj.push(1)\n",
    "obj.push(2)\n",
    "obj.push(3)\n",
    "# test = MyStack.push(obj,3)\n",
    "param_2 = obj.pop()\n",
    "param_3 = obj.top()\n",
    "param_4 = obj.empty()\n",
    "print(param_2)\n",
    "print(param_3)\n",
    "print(param_4)\n",
    "# time complexity: push O(1), pop O(1), top O(1), empty O(1)\n",
    "# space complexity: push O(1), pop O(1), top O(1), empty O(1)"
   ]
  },
  {
   "cell_type": "code",
   "execution_count": 2,
   "metadata": {},
   "outputs": [
    {
     "ename": "IndexError",
     "evalue": "pop from empty list",
     "output_type": "error",
     "traceback": [
      "\u001b[1;31m---------------------------------------------------------------------------\u001b[0m",
      "\u001b[1;31mIndexError\u001b[0m                                Traceback (most recent call last)",
      "\u001b[1;32m<ipython-input-2-8a378d2e082c>\u001b[0m in \u001b[0;36m<module>\u001b[1;34m()\u001b[0m\n\u001b[0;32m     55\u001b[0m \u001b[0mobj\u001b[0m\u001b[1;33m.\u001b[0m\u001b[0mpush\u001b[0m\u001b[1;33m(\u001b[0m\u001b[1;36m2\u001b[0m\u001b[1;33m)\u001b[0m\u001b[1;33m\u001b[0m\u001b[0m\n\u001b[0;32m     56\u001b[0m \u001b[0mobj\u001b[0m\u001b[1;33m.\u001b[0m\u001b[0mpush\u001b[0m\u001b[1;33m(\u001b[0m\u001b[1;36m3\u001b[0m\u001b[1;33m)\u001b[0m\u001b[1;33m\u001b[0m\u001b[0m\n\u001b[1;32m---> 57\u001b[1;33m \u001b[0mparam_2\u001b[0m \u001b[1;33m=\u001b[0m \u001b[0mobj\u001b[0m\u001b[1;33m.\u001b[0m\u001b[0mpop\u001b[0m\u001b[1;33m(\u001b[0m\u001b[1;33m)\u001b[0m\u001b[1;33m\u001b[0m\u001b[0m\n\u001b[0m\u001b[0;32m     58\u001b[0m \u001b[0mparam_3\u001b[0m \u001b[1;33m=\u001b[0m \u001b[0mobj\u001b[0m\u001b[1;33m.\u001b[0m\u001b[0mpeek\u001b[0m\u001b[1;33m(\u001b[0m\u001b[1;33m)\u001b[0m\u001b[1;33m\u001b[0m\u001b[0m\n\u001b[0;32m     59\u001b[0m \u001b[0mparam_4\u001b[0m \u001b[1;33m=\u001b[0m \u001b[0mobj\u001b[0m\u001b[1;33m.\u001b[0m\u001b[0mempty\u001b[0m\u001b[1;33m(\u001b[0m\u001b[1;33m)\u001b[0m\u001b[1;33m\u001b[0m\u001b[0m\n",
      "\u001b[1;32m<ipython-input-2-8a378d2e082c>\u001b[0m in \u001b[0;36mpop\u001b[1;34m(self)\u001b[0m\n\u001b[0;32m     24\u001b[0m         \u001b[1;33m:\u001b[0m\u001b[0mrtype\u001b[0m\u001b[1;33m:\u001b[0m \u001b[0mint\u001b[0m\u001b[1;33m\u001b[0m\u001b[0m\n\u001b[0;32m     25\u001b[0m         \"\"\"\n\u001b[1;32m---> 26\u001b[1;33m         \u001b[0mself\u001b[0m\u001b[1;33m.\u001b[0m\u001b[0mpeek\u001b[0m\u001b[1;33m(\u001b[0m\u001b[1;33m)\u001b[0m\u001b[1;33m\u001b[0m\u001b[0m\n\u001b[0m\u001b[0;32m     27\u001b[0m         \u001b[1;32mreturn\u001b[0m \u001b[0mself\u001b[0m\u001b[1;33m.\u001b[0m\u001b[0moutStack\u001b[0m\u001b[1;33m.\u001b[0m\u001b[0mpop\u001b[0m\u001b[1;33m(\u001b[0m\u001b[1;33m)\u001b[0m\u001b[1;33m\u001b[0m\u001b[0m\n\u001b[0;32m     28\u001b[0m \u001b[1;33m\u001b[0m\u001b[0m\n",
      "\u001b[1;32m<ipython-input-2-8a378d2e082c>\u001b[0m in \u001b[0;36mpeek\u001b[1;34m(self)\u001b[0m\n\u001b[0;32m     35\u001b[0m         \u001b[1;32mif\u001b[0m \u001b[1;32mnot\u001b[0m \u001b[0mself\u001b[0m\u001b[1;33m.\u001b[0m\u001b[0moutStack\u001b[0m\u001b[1;33m:\u001b[0m\u001b[1;33m\u001b[0m\u001b[0m\n\u001b[0;32m     36\u001b[0m             \u001b[1;32mwhile\u001b[0m \u001b[0mself\u001b[0m\u001b[1;33m.\u001b[0m\u001b[0minStack\u001b[0m\u001b[1;33m:\u001b[0m\u001b[1;33m\u001b[0m\u001b[0m\n\u001b[1;32m---> 37\u001b[1;33m                 \u001b[0mself\u001b[0m\u001b[1;33m.\u001b[0m\u001b[0moutStack\u001b[0m\u001b[1;33m.\u001b[0m\u001b[0mappend\u001b[0m\u001b[1;33m(\u001b[0m\u001b[0mself\u001b[0m\u001b[1;33m.\u001b[0m\u001b[0madditional\u001b[0m\u001b[1;33m.\u001b[0m\u001b[0mpop\u001b[0m\u001b[1;33m(\u001b[0m\u001b[1;33m)\u001b[0m\u001b[1;33m)\u001b[0m\u001b[1;33m\u001b[0m\u001b[0m\n\u001b[0m\u001b[0;32m     38\u001b[0m \u001b[1;33m\u001b[0m\u001b[0m\n\u001b[0;32m     39\u001b[0m         \u001b[1;32mreturn\u001b[0m \u001b[0mself\u001b[0m\u001b[1;33m.\u001b[0m\u001b[0moutStack\u001b[0m\u001b[1;33m[\u001b[0m\u001b[1;33m-\u001b[0m\u001b[1;36m1\u001b[0m\u001b[1;33m]\u001b[0m\u001b[1;33m\u001b[0m\u001b[0m\n",
      "\u001b[1;31mIndexError\u001b[0m: pop from empty list"
     ]
    }
   ],
   "source": [
    "# Second problem in Queue\n",
    "class MyQueue:\n",
    "\n",
    "    def __init__(self):\n",
    "        \"\"\"\n",
    "        Initialize your data structure here.\n",
    "        \"\"\"\n",
    "        self.inStack = [] \n",
    "        self.outStack = []\n",
    "        self.additional = []\n",
    "\n",
    "    def push(self, x):\n",
    "        \"\"\"\n",
    "        Push element x to the back of queue.\n",
    "        :type x: int\n",
    "        :rtype: void\n",
    "        \"\"\"\n",
    "        self.inStack.append(x)\n",
    "        self.additional.append(x)\n",
    "\n",
    "    def pop(self):\n",
    "        \"\"\"\n",
    "        Removes the element from in front of queue and returns that element.\n",
    "        :rtype: int\n",
    "        \"\"\"\n",
    "        self.peek()\n",
    "        return self.outStack.pop()\n",
    "\n",
    "    def peek(self):\n",
    "        \"\"\"\n",
    "        Get the front element.\n",
    "        :rtype: int\n",
    "        \"\"\"\n",
    "        self.inStack\n",
    "        if not self.outStack:\n",
    "            while self.inStack:\n",
    "                self.outStack.append(self.additional.pop())\n",
    "        \n",
    "        return self.outStack[-1]\n",
    "\n",
    "        \n",
    "\n",
    "    def empty(self):\n",
    "        \"\"\"\n",
    "        Returns whether the queue is empty.\n",
    "        :rtype: bool\n",
    "        \"\"\"\n",
    "        return len(self.inStack) + len(self.outStack) == 0\n",
    "       # return not self.inStack and not self.outStack\n",
    "\n",
    "\n",
    "# Your MyQueue object will be instantiated and called as such:\n",
    "obj = MyQueue()\n",
    "obj.push(1)\n",
    "obj.push(2)\n",
    "obj.push(3)\n",
    "param_2 = obj.pop()\n",
    "param_3 = obj.peek()\n",
    "param_4 = obj.empty()\n",
    "print(param_2)\n",
    "print(param_3)\n",
    "print(obj.inStack)\n",
    "print(param_4)\n",
    "\n",
    "# time complexity: push O(1), pop O(n), peek O(n), empty O(1)\n",
    "# space complexity: push O(1), pop O(n), peek O(n), empty O(1)"
   ]
  },
  {
   "cell_type": "code",
   "execution_count": 3,
   "metadata": {},
   "outputs": [],
   "source": [
    "class Node:\n",
    "    def __init__(self, value):\n",
    "        self.next = None\n",
    "        self.value = value\n",
    "        \n",
    "    def get_data(self):\n",
    "        return self.value\n",
    "    \n",
    "    def set_data(self, value):\n",
    "        set.value = value\n",
    "    \n",
    "    def get_next_node(self):\n",
    "        return self.next\n",
    "    \n",
    "    def set_next_node(self,node):\n",
    "        self.next = node\n"
   ]
  },
  {
   "cell_type": "code",
   "execution_count": 4,
   "metadata": {},
   "outputs": [],
   "source": [
    "class Queue:\n",
    "    \n",
    "    def __init__(self):\n",
    "        self.__set_tail_and_head(None, None)\n",
    "        self.size = 0\n",
    "    \n",
    "    def dequeue(self):\n",
    "        temp_data = self.head.get_data()\n",
    "        if self.size ==1:\n",
    "            self.head = None\n",
    "            self.size = None\n",
    "        else:\n",
    "            self.head = self.head.get_next_node()\n",
    "        self.size -= 1\n",
    "        return temp_data\n",
    "    \n",
    "    def enqueue(self, item):\n",
    "        temp = Node(item)\n",
    "        if self.is_empty():\n",
    "            self.__set_tail_and_head(temp, temp)\n",
    "        else:\n",
    "            self.tail.set_next_node(temp)\n",
    "            self.tail = temp\n",
    "        self.size += 1\n",
    "        \n",
    "    def peek(self):\n",
    "        return self.head.get_data()\n",
    "    \n",
    "    def size_of(self):\n",
    "        return self.size\n",
    "        \n",
    "            \n",
    "    def is_empty(self):\n",
    "        return self.size == 0\n",
    "    \n",
    "    def __set_tail_and_head(self, tail, head):\n",
    "        self.head = head\n",
    "        self.tail = tail"
   ]
  },
  {
   "cell_type": "code",
   "execution_count": 97,
   "metadata": {},
   "outputs": [
    {
     "name": "stdout",
     "output_type": "stream",
     "text": [
      "1\n",
      "1\n",
      "5\n",
      "False\n"
     ]
    }
   ],
   "source": [
    "test = Queue()\n",
    "test.enqueue(1)\n",
    "test.enqueue(2)\n",
    "test.enqueue(3)\n",
    "test.enqueue(4)\n",
    "test.enqueue(5)\n",
    "\n",
    "print(test.peek())\n",
    "print(test.head.get_data())\n",
    "print(test.tail.get_data())\n",
    "print(test.is_empty())\n"
   ]
  },
  {
   "attachments": {
    "image.png": {
     "image/png": "[encoded data removed]"
    }
   },
   "cell_type": "markdown",
   "metadata": {},
   "source": [
    "The stock span problem is a financial problem where we have a series of n daily price quotes for a stock and we need to calculate span of stock’s price for all n days. The span Si of the stock’s price on a given day i is defined as the maximum number of consecutive days just before the given day, for which the price of the stock on the current day is less than or equal to its price on the given day.\n",
    "\n",
    "For example, if an array of 7 days prices is given as [100, 80, 60, 70, 60, 75, 85], then the span values for corresponding 7 days are [1, 1, 1, 2, 1, 4, 6]\n",
    "![image.png](attachment:image.png)"
   ]
  },
  {
   "cell_type": "code",
   "execution_count": 2,
   "metadata": {},
   "outputs": [
    {
     "data": {
      "text/plain": [
       "[1, 1, 1, 2, 1, 4, 6, 1]"
      ]
     },
     "execution_count": 2,
     "metadata": {},
     "output_type": "execute_result"
    }
   ],
   "source": [
    "def calculateSpan(price): \n",
    "    # returns the stock span for each of the stock price in price.\n",
    "    # Write your code below this line\n",
    "    n = len(price) \n",
    "    st = []\n",
    "    st.append(0)\n",
    "    # Create a list/stack and push index of first element to it \n",
    "    S = [1] * n \n",
    "    # Initialize the span value\n",
    "    # Next calculate span values for rest of the elements \n",
    "    for i in range(1, n): \n",
    "        while( len(st) > 0 and price[st[-1]] <= price[i]): \n",
    "            st.pop() \n",
    "            # st[-1] is the top of the stack.\n",
    "            # Pop elements from stack whlie stack is not \n",
    "            # empty and top of stack is smaller than price[i] \n",
    "            \n",
    "        if len(st) <= 0:\n",
    "            S[i] = i+1 \n",
    "            # If stack st is empty, then price[i] is greater \n",
    "            # than all elements on left of it,  \n",
    "        else:\n",
    "            S[i] = i - st[-1] \n",
    "            # Else the price[i] is greater than elements \n",
    "            # after top of stack. Push this element to stack \n",
    "        st.append(i) \n",
    "    \n",
    "    return S\n",
    "    \n",
    "stock = [100, 80, 60, 70, 60, 75, 85,70]\n",
    "calculateSpan(stock)\n"
   ]
  },
  {
   "cell_type": "code",
   "execution_count": 1,
   "metadata": {},
   "outputs": [
    {
     "data": {
      "text/plain": [
       "[7, 5, 1, 2, 1, 1, 1]"
      ]
     },
     "execution_count": 1,
     "metadata": {},
     "output_type": "execute_result"
    }
   ],
   "source": [
    "def calculateReversedSpan(price):     \n",
    "    # returns the maximum number of consecutive days just after the given day, for which the price of \n",
    "    # the stock on the current day is less than or equal to its price on the given day, for n daily price quotes.\n",
    "    # Write your code below this line\n",
    "    n = len(price) \n",
    "    st = []\n",
    "    st.append(n-1)\n",
    "    # Create a list/stack and push index of first element to it. \n",
    "    S = [1] * n \n",
    "    # Initialize the span value\n",
    "    # Next calculate span values for rest of the elements \n",
    "    for i in range(n-2, -1,-1): \n",
    "    # Start from the second last element(indexed with n-2) to the first element(indexed with 0).\n",
    "        while( len(st) > 0 and price[st[-1]] <= price[i]): \n",
    "            st.pop() \n",
    "            # st[-1] is the top of the stack.\n",
    "            # Pop elements from stack whlie stack is not \n",
    "            # empty and top of stack is smaller than price[i] \n",
    "       \n",
    "        if len(st) <= 0:\n",
    "            S[i] = n-i \n",
    "            # If stack st is empty, then price[i] is greater \n",
    "            # than all elements on right of it, so S[i] = n-i \n",
    "        else:\n",
    "            S[i] = st[-1] - i\n",
    "            # Else the price[i] is greater than elements \n",
    "            # before top of stack.  \n",
    "        st.append(i)\n",
    "        \n",
    "    return S\n",
    "  \n",
    "\n",
    "stock = [100, 80, 60, 70, 60, 75, 85]\n",
    "stock = [100, 80, 60, 70, 60, 75, 85]\n",
    "calculateReversedSpan(stock)"
   ]
  }
 ],
 "metadata": {
  "kernelspec": {
   "display_name": "Python 3",
   "language": "python",
   "name": "python3"
  },
  "language_info": {
   "codemirror_mode": {
    "name": "ipython",
    "version": 3
   },
   "file_extension": ".py",
   "mimetype": "text/x-python",
   "name": "python",
   "nbconvert_exporter": "python",
   "pygments_lexer": "ipython3",
   "version": "3.7.3"
  }
 },
 "nbformat": 4,
 "nbformat_minor": 2
}
