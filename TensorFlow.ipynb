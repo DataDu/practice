{
 "cells": [
  {
   "cell_type": "code",
   "execution_count": 2,
   "metadata": {},
   "outputs": [
    {
     "name": "stdout",
     "output_type": "stream",
     "text": [
      "2\n",
      "[[1 2]\n",
      " [3 4]]\n"
     ]
    }
   ],
   "source": [
    "import tensorflow as tf\n",
    "\n",
    "# Constants\n",
    "s = tf.constant(2, name='scalar') \n",
    "m = tf.constant([[1, 2], [3, 4]], name='matrix') \n",
    "with tf.Session() as sess:\n",
    "    print(sess.run(s)) \n",
    "    print(sess.run(m))\n"
   ]
  },
  {
   "cell_type": "code",
   "execution_count": 5,
   "metadata": {},
   "outputs": [
    {
     "name": "stdout",
     "output_type": "stream",
     "text": [
      "[[1. 1.]\n",
      " [1. 1.]]\n",
      "[[0. 0.]\n",
      " [0. 0.]]\n"
     ]
    }
   ],
   "source": [
    "# Varibles\n",
    "a = tf.ones((2,2)) \n",
    "b = tf.Variable(tf.zeros((2,2))) \n",
    "with tf.Session() as sess: \n",
    "    print(sess.run(a)) \n",
    "    sess.run(tf.global_variables_initializer())\n",
    "    print(sess.run(b))\n"
   ]
  },
  {
   "cell_type": "code",
   "execution_count": 7,
   "metadata": {},
   "outputs": [
    {
     "data": {
      "text/plain": [
       "5.0"
      ]
     },
     "execution_count": 7,
     "metadata": {},
     "output_type": "execute_result"
    }
   ],
   "source": [
    "# Placeholders\n",
    "node1 = tf.placeholder(tf.float32) \n",
    "node2 = tf.placeholder(tf.float32) \n",
    "node3 = tf.add(node1,node2) \n",
    "tf.Session().run(node3, feed_dict={node1 : 2, node2 : 3})\n"
   ]
  },
  {
   "cell_type": "code",
   "execution_count": 6,
   "metadata": {},
   "outputs": [
    {
     "name": "stdout",
     "output_type": "stream",
     "text": [
      "3\n"
     ]
    }
   ],
   "source": [
    "# Operations: tf.add\n",
    "a = tf.constant(1) \n",
    "b = tf.constant(2) \n",
    "c = tf.add(a, b) \n",
    "with tf.Session() as sess:\n",
    "    print(sess.run(c)) \n"
   ]
  },
  {
   "cell_type": "code",
   "execution_count": 8,
   "metadata": {},
   "outputs": [
    {
     "name": "stdout",
     "output_type": "stream",
     "text": [
      "-1\n"
     ]
    }
   ],
   "source": [
    "# Operations: tf.subtract\n",
    "a = tf.constant(1) \n",
    "b = tf.constant(2) \n",
    "c = tf.subtract(a, b) \n",
    "with tf.Session() as sess:\n",
    "    print(sess.run(c)) \n"
   ]
  },
  {
   "cell_type": "code",
   "execution_count": 9,
   "metadata": {},
   "outputs": [
    {
     "name": "stdout",
     "output_type": "stream",
     "text": [
      "[[ 58  64]\n",
      " [139 154]]\n"
     ]
    }
   ],
   "source": [
    "# Matrix Multiplication\n",
    "# 2-D tensor `a` \n",
    "# [[1, 2, 3], \n",
    "# [4, 5, 6]] \n",
    "a = tf.constant([1, 2, 3, 4, 5, 6], shape=[2, 3]) \n",
    "# 2-D tensor `b` \n",
    "# [[ 7, 8], \n",
    "# [ 9, 10], \n",
    "# [11, 12]] \n",
    "b = tf.constant([7, 8, 9, 10, 11, 12], shape=[3, 2]) \n",
    "# `a` * `b` \n",
    "# [[ 58, 64], \n",
    "# [139, 154]] \n",
    "c = tf.matmul(a, b) \n",
    "with tf.Session() as sess: \n",
    "    print(sess.run(c)) "
   ]
  },
  {
   "cell_type": "code",
   "execution_count": 10,
   "metadata": {},
   "outputs": [
    {
     "name": "stdout",
     "output_type": "stream",
     "text": [
      "3\n"
     ]
    }
   ],
   "source": [
    "# Condition\n",
    "t1 = tf.constant(1) \n",
    "t2 = tf.constant(2) \n",
    "\n",
    "def f1(): return t1+t2 \n",
    "def f2(): return t1-t2 \n",
    "\n",
    "res = tf.cond(tf.less(t1, t2), f1, f2) \n",
    "with tf.Session() as sess: \n",
    "    print(sess.run(res))\n"
   ]
  },
  {
   "cell_type": "code",
   "execution_count": 11,
   "metadata": {},
   "outputs": [
    {
     "name": "stdout",
     "output_type": "stream",
     "text": [
      "[5, 5]\n"
     ]
    }
   ],
   "source": [
    "# While loop\n",
    "def cond(t1, t2): return tf.less(t1, t2) \n",
    "def body(t1, t2): return [tf.add(t1, 1), t2] \n",
    "\n",
    "t1 = tf.constant(1) \n",
    "t2 = tf.constant(5) \n",
    "\n",
    "res = tf.while_loop(cond, body, [t1, t2]) \n",
    "\n",
    "with tf.Session() as sess: \n",
    "    print(sess.run(res)) \n"
   ]
  },
  {
   "cell_type": "code",
   "execution_count": 12,
   "metadata": {},
   "outputs": [
    {
     "name": "stdout",
     "output_type": "stream",
     "text": [
      "-1\n"
     ]
    }
   ],
   "source": [
    "# Where does code run\n",
    "with tf.device(\"/cpu:0\"): \n",
    "    a = tf.constant(1) \n",
    "    b = tf.constant(2) \n",
    "    c = tf.subtract(a, b) \n",
    "    with tf.Session() as sess: \n",
    "        print(sess.run(c)) \n"
   ]
  }
 ],
 "metadata": {
  "kernelspec": {
   "display_name": "Python 3",
   "language": "python",
   "name": "python3"
  },
  "language_info": {
   "codemirror_mode": {
    "name": "ipython",
    "version": 3
   },
   "file_extension": ".py",
   "mimetype": "text/x-python",
   "name": "python",
   "nbconvert_exporter": "python",
   "pygments_lexer": "ipython3",
   "version": "3.6.5"
  }
 },
 "nbformat": 4,
 "nbformat_minor": 2
}
