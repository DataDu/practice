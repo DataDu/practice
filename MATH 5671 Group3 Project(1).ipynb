{
 "cells": [
  {
   "cell_type": "markdown",
   "metadata": {},
   "source": [
    "# MATH 5671 Group3 Project\n",
    "## Real Estate Valuation\n",
    "\n",
    "**Hukai Luo, Xuanbo Huang, Tae Park**"
   ]
  },
  {
   "cell_type": "markdown",
   "metadata": {},
   "source": [
    "*The inputs are as follows <br>\n",
    "X1=the transaction date (for example, 2013.250=2013 March, 2013.500=2013 June, etc.) <br>\n",
    "X2=the house age (unit: year) <br>\n",
    "X3=the distance to the nearest MRT station (unit: meter) <br>\n",
    "X4=the number of convenience stores in the living circle on foot (integer) <br>\n",
    "X5=the geographic coordinate, latitude. (unit: degree) <br>\n",
    "X6=the geographic coordinate, longitude. (unit: degree) <br>\n",
    "The output is as follow <br>\n",
    "Y= house price of unit area (10000 New Taiwan Dollar/Ping, where Ping is a local unit, 1 Ping = 3.3 meter squared) <br>*\n"
   ]
  },
  {
   "cell_type": "markdown",
   "metadata": {},
   "source": [
    "*The input data set contains data about details of various houses. Based on the information provided, the goal is to come up with a model to predict median value of a given house in the area.*"
   ]
  },
  {
   "cell_type": "markdown",
   "metadata": {},
   "source": [
    "## Load data"
   ]
  },
  {
   "cell_type": "markdown",
   "metadata": {},
   "source": [
    "First there is a training feather contains 6 features and training labels contains the price combine the two excel and lord the data of the feathers and price."
   ]
  },
  {
   "cell_type": "code",
   "execution_count": 1,
   "metadata": {},
   "outputs": [
    {
     "name": "stdout",
     "output_type": "stream",
     "text": [
      "+------------+---------+------------+------+--------+---------+-----------+\n",
      "|  trans_date|house_age|distance_mrt|stores|latitude|longitude|house_price|\n",
      "+------------+---------+------------+------+--------+---------+-----------+\n",
      "|      2013.5|     26.4|    335.5273|     6| 24.9796| 121.5414|       38.1|\n",
      "|2013.4166667|      6.4|    90.45606|     9|24.97433| 121.5431|       59.5|\n",
      "|2013.3333333|      3.9|    49.66105|     8|24.95836|121.53756|       56.8|\n",
      "|      2013.5|     23.0|    3947.945|     0|24.94783|121.50243|       25.3|\n",
      "|2013.3333333|     39.7|    333.3679|     9|24.98016|121.53932|       32.4|\n",
      "|2013.1666667|     13.2|    750.0704|     2|24.97371|121.54951|       37.8|\n",
      "+------------+---------+------------+------+--------+---------+-----------+\n",
      "only showing top 6 rows\n",
      "\n"
     ]
    }
   ],
   "source": [
    "from pyspark import SparkConf, SparkContext\n",
    "from pyspark.sql import SQLContext\n",
    "import pandas as pd\n",
    "sc= SparkContext()\n",
    "sqlContext = SQLContext(sc)\n",
    "house_df = sqlContext.read.format('com.databricks.spark.csv').options(header='true', inferschema='true').load(\"/Users/luohukai/Desktop/Bigdata/Group3Project/training.csv\")\n",
    "house_df.show(6)"
   ]
  },
  {
   "cell_type": "markdown",
   "metadata": {},
   "source": [
    "## Explore data"
   ]
  },
  {
   "cell_type": "code",
   "execution_count": 2,
   "metadata": {},
   "outputs": [
    {
     "data": {
      "text/html": [
       "<div>\n",
       "<style scoped>\n",
       "    .dataframe tbody tr th:only-of-type {\n",
       "        vertical-align: middle;\n",
       "    }\n",
       "\n",
       "    .dataframe tbody tr th {\n",
       "        vertical-align: top;\n",
       "    }\n",
       "\n",
       "    .dataframe thead th {\n",
       "        text-align: right;\n",
       "    }\n",
       "</style>\n",
       "<table border=\"1\" class=\"dataframe\">\n",
       "  <thead>\n",
       "    <tr style=\"text-align: right;\">\n",
       "      <th></th>\n",
       "      <th>0</th>\n",
       "      <th>1</th>\n",
       "      <th>2</th>\n",
       "      <th>3</th>\n",
       "      <th>4</th>\n",
       "    </tr>\n",
       "  </thead>\n",
       "  <tbody>\n",
       "    <tr>\n",
       "      <th>summary</th>\n",
       "      <td>count</td>\n",
       "      <td>mean</td>\n",
       "      <td>stddev</td>\n",
       "      <td>min</td>\n",
       "      <td>max</td>\n",
       "    </tr>\n",
       "    <tr>\n",
       "      <th>trans_date</th>\n",
       "      <td>289</td>\n",
       "      <td>2013.149653980968</td>\n",
       "      <td>0.2823817648239694</td>\n",
       "      <td>2012.6666667</td>\n",
       "      <td>2013.5833333</td>\n",
       "    </tr>\n",
       "    <tr>\n",
       "      <th>house_age</th>\n",
       "      <td>289</td>\n",
       "      <td>17.356747404844292</td>\n",
       "      <td>11.335506737460035</td>\n",
       "      <td>0.0</td>\n",
       "      <td>43.8</td>\n",
       "    </tr>\n",
       "    <tr>\n",
       "      <th>distance_mrt</th>\n",
       "      <td>289</td>\n",
       "      <td>1106.0805898961937</td>\n",
       "      <td>1270.742433103357</td>\n",
       "      <td>23.38284</td>\n",
       "      <td>6488.021</td>\n",
       "    </tr>\n",
       "    <tr>\n",
       "      <th>stores</th>\n",
       "      <td>289</td>\n",
       "      <td>4.041522491349481</td>\n",
       "      <td>2.919939669577361</td>\n",
       "      <td>0</td>\n",
       "      <td>10</td>\n",
       "    </tr>\n",
       "    <tr>\n",
       "      <th>latitude</th>\n",
       "      <td>289</td>\n",
       "      <td>24.969056678200687</td>\n",
       "      <td>0.012833229438307133</td>\n",
       "      <td>24.93207</td>\n",
       "      <td>25.01459</td>\n",
       "    </tr>\n",
       "    <tr>\n",
       "      <th>longitude</th>\n",
       "      <td>289</td>\n",
       "      <td>121.5331102422146</td>\n",
       "      <td>0.015300875869433324</td>\n",
       "      <td>121.47353</td>\n",
       "      <td>121.56627</td>\n",
       "    </tr>\n",
       "    <tr>\n",
       "      <th>house_price</th>\n",
       "      <td>289</td>\n",
       "      <td>38.33321799307961</td>\n",
       "      <td>13.824176325079815</td>\n",
       "      <td>11.2</td>\n",
       "      <td>117.5</td>\n",
       "    </tr>\n",
       "  </tbody>\n",
       "</table>\n",
       "</div>"
      ],
      "text/plain": [
       "                  0                   1                     2             3  \\\n",
       "summary       count                mean                stddev           min   \n",
       "trans_date      289   2013.149653980968    0.2823817648239694  2012.6666667   \n",
       "house_age       289  17.356747404844292    11.335506737460035           0.0   \n",
       "distance_mrt    289  1106.0805898961937     1270.742433103357      23.38284   \n",
       "stores          289   4.041522491349481     2.919939669577361             0   \n",
       "latitude        289  24.969056678200687  0.012833229438307133      24.93207   \n",
       "longitude       289   121.5331102422146  0.015300875869433324     121.47353   \n",
       "house_price     289   38.33321799307961    13.824176325079815          11.2   \n",
       "\n",
       "                         4  \n",
       "summary                max  \n",
       "trans_date    2013.5833333  \n",
       "house_age             43.8  \n",
       "distance_mrt      6488.021  \n",
       "stores                  10  \n",
       "latitude          25.01459  \n",
       "longitude        121.56627  \n",
       "house_price          117.5  "
      ]
     },
     "execution_count": 2,
     "metadata": {},
     "output_type": "execute_result"
    }
   ],
   "source": [
    "house_df.describe().toPandas().transpose()"
   ]
  },
  {
   "cell_type": "markdown",
   "metadata": {},
   "source": [
    "Plot pairwise relationships in a dataset. As a rough guide, it provides us with an intuitive impression of the data."
   ]
  },
  {
   "cell_type": "code",
   "execution_count": 3,
   "metadata": {},
   "outputs": [
    {
     "data": {
      "text/plain": [
       "<seaborn.axisgrid.PairGrid at 0x119e79550>"
      ]
     },
     "execution_count": 3,
     "metadata": {},
     "output_type": "execute_result"
    }
   ],
   "source": [
    "import seaborn as sns\n",
    "sns.set(style=\"ticks\")\n",
    "df = house_df.toPandas()\n",
    "sns.pairplot(df)"
   ]
  },
  {
   "cell_type": "markdown",
   "metadata": {},
   "source": [
    "The correlation coefficient ranges from –1 to 1. When it is close to 1, it means that there is a strong positive correlation. When the coefficient is close to –1, it means that there is a strong negative correlation."
   ]
  },
  {
   "cell_type": "code",
   "execution_count": 4,
   "metadata": {},
   "outputs": [
    {
     "data": {
      "text/html": [
       "<div>\n",
       "<style scoped>\n",
       "    .dataframe tbody tr th:only-of-type {\n",
       "        vertical-align: middle;\n",
       "    }\n",
       "\n",
       "    .dataframe tbody tr th {\n",
       "        vertical-align: top;\n",
       "    }\n",
       "\n",
       "    .dataframe thead th {\n",
       "        text-align: right;\n",
       "    }\n",
       "</style>\n",
       "<table border=\"1\" class=\"dataframe\">\n",
       "  <thead>\n",
       "    <tr style=\"text-align: right;\">\n",
       "      <th></th>\n",
       "      <th>trans_date</th>\n",
       "      <th>house_age</th>\n",
       "      <th>distance_mrt</th>\n",
       "      <th>stores</th>\n",
       "      <th>latitude</th>\n",
       "      <th>longitude</th>\n",
       "      <th>house_price</th>\n",
       "    </tr>\n",
       "  </thead>\n",
       "  <tbody>\n",
       "    <tr>\n",
       "      <th>trans_date</th>\n",
       "      <td>1.000000</td>\n",
       "      <td>-0.026789</td>\n",
       "      <td>0.081076</td>\n",
       "      <td>-0.008615</td>\n",
       "      <td>0.038489</td>\n",
       "      <td>-0.061719</td>\n",
       "      <td>0.085179</td>\n",
       "    </tr>\n",
       "    <tr>\n",
       "      <th>house_age</th>\n",
       "      <td>-0.026789</td>\n",
       "      <td>1.000000</td>\n",
       "      <td>0.042041</td>\n",
       "      <td>-0.006156</td>\n",
       "      <td>0.035861</td>\n",
       "      <td>-0.076073</td>\n",
       "      <td>-0.239551</td>\n",
       "    </tr>\n",
       "    <tr>\n",
       "      <th>distance_mrt</th>\n",
       "      <td>0.081076</td>\n",
       "      <td>0.042041</td>\n",
       "      <td>1.000000</td>\n",
       "      <td>-0.620676</td>\n",
       "      <td>-0.584169</td>\n",
       "      <td>-0.800303</td>\n",
       "      <td>-0.674142</td>\n",
       "    </tr>\n",
       "    <tr>\n",
       "      <th>stores</th>\n",
       "      <td>-0.008615</td>\n",
       "      <td>-0.006156</td>\n",
       "      <td>-0.620676</td>\n",
       "      <td>1.000000</td>\n",
       "      <td>0.423986</td>\n",
       "      <td>0.449114</td>\n",
       "      <td>0.564233</td>\n",
       "    </tr>\n",
       "    <tr>\n",
       "      <th>latitude</th>\n",
       "      <td>0.038489</td>\n",
       "      <td>0.035861</td>\n",
       "      <td>-0.584169</td>\n",
       "      <td>0.423986</td>\n",
       "      <td>1.000000</td>\n",
       "      <td>0.423784</td>\n",
       "      <td>0.543654</td>\n",
       "    </tr>\n",
       "    <tr>\n",
       "      <th>longitude</th>\n",
       "      <td>-0.061719</td>\n",
       "      <td>-0.076073</td>\n",
       "      <td>-0.800303</td>\n",
       "      <td>0.449114</td>\n",
       "      <td>0.423784</td>\n",
       "      <td>1.000000</td>\n",
       "      <td>0.526381</td>\n",
       "    </tr>\n",
       "    <tr>\n",
       "      <th>house_price</th>\n",
       "      <td>0.085179</td>\n",
       "      <td>-0.239551</td>\n",
       "      <td>-0.674142</td>\n",
       "      <td>0.564233</td>\n",
       "      <td>0.543654</td>\n",
       "      <td>0.526381</td>\n",
       "      <td>1.000000</td>\n",
       "    </tr>\n",
       "  </tbody>\n",
       "</table>\n",
       "</div>"
      ],
      "text/plain": [
       "              trans_date  house_age  distance_mrt    stores  latitude  \\\n",
       "trans_date      1.000000  -0.026789      0.081076 -0.008615  0.038489   \n",
       "house_age      -0.026789   1.000000      0.042041 -0.006156  0.035861   \n",
       "distance_mrt    0.081076   0.042041      1.000000 -0.620676 -0.584169   \n",
       "stores         -0.008615  -0.006156     -0.620676  1.000000  0.423986   \n",
       "latitude        0.038489   0.035861     -0.584169  0.423986  1.000000   \n",
       "longitude      -0.061719  -0.076073     -0.800303  0.449114  0.423784   \n",
       "house_price     0.085179  -0.239551     -0.674142  0.564233  0.543654   \n",
       "\n",
       "              longitude  house_price  \n",
       "trans_date    -0.061719     0.085179  \n",
       "house_age     -0.076073    -0.239551  \n",
       "distance_mrt  -0.800303    -0.674142  \n",
       "stores         0.449114     0.564233  \n",
       "latitude       0.423784     0.543654  \n",
       "longitude      1.000000     0.526381  \n",
       "house_price    0.526381     1.000000  "
      ]
     },
     "execution_count": 4,
     "metadata": {},
     "output_type": "execute_result"
    }
   ],
   "source": [
    "df.corr()"
   ]
  },
  {
   "cell_type": "markdown",
   "metadata": {},
   "source": [
    "Prepare data for Machine Learning."
   ]
  },
  {
   "cell_type": "code",
   "execution_count": 5,
   "metadata": {},
   "outputs": [
    {
     "name": "stdout",
     "output_type": "stream",
     "text": [
      "+--------------------+-----------+\n",
      "|            features|house_price|\n",
      "+--------------------+-----------+\n",
      "|[2013.5,26.4,335....|       38.1|\n",
      "|[2013.4166667,6.4...|       59.5|\n",
      "|[2013.3333333,3.9...|       56.8|\n",
      "|[2013.5,23.0,3947...|       25.3|\n",
      "|[2013.3333333,39....|       32.4|\n",
      "|[2013.1666667,13....|       37.8|\n",
      "+--------------------+-----------+\n",
      "only showing top 6 rows\n",
      "\n"
     ]
    }
   ],
   "source": [
    "from pyspark.ml.feature import VectorAssembler\n",
    "vectorAssembler = VectorAssembler(inputCols = ['trans_date', 'house_age', 'distance_mrt', 'stores','latitude','longitude'], outputCol = 'features')\n",
    "vhouse_df = vectorAssembler.transform(house_df)\n",
    "vhouse_df = vhouse_df.select(['features', 'house_price'])\n",
    "vhouse_df.show(6)\n",
    "train_df = vhouse_df\n",
    "test_df = sqlContext.read.format('com.databricks.spark.csv').options(header='true', inferschema='true').load(\"/Users/luohukai/Desktop/Bigdata/Group3Project/test_features.csv\")\n",
    "test_df = vectorAssembler.transform(test_df).select(['features'])"
   ]
  },
  {
   "cell_type": "markdown",
   "metadata": {},
   "source": [
    "## Linear Regression"
   ]
  },
  {
   "cell_type": "code",
   "execution_count": 6,
   "metadata": {},
   "outputs": [
    {
     "name": "stdout",
     "output_type": "stream",
     "text": [
      "Coefficients: [4.369900121382684,-0.2551146024247613,-0.004445657936001385,0.9718688380688086,218.67565148018338,0.0]\n",
      "Intercept: -14213.637049352814\n"
     ]
    }
   ],
   "source": [
    "from pyspark.ml.regression import LinearRegression\n",
    "\n",
    "# Build the model\n",
    "lr = LinearRegression(featuresCol = 'features', labelCol='house_price', maxIter=10, regParam=0.3, elasticNetParam=0.8)\n",
    "lr_model = lr.fit(train_df)\n",
    "print(\"Coefficients: \" + str(lr_model.coefficients))\n",
    "print(\"Intercept: \" + str(lr_model.intercept))"
   ]
  },
  {
   "cell_type": "markdown",
   "metadata": {},
   "source": [
    "Then use the model to predict the test data and compare with the real price.to evaluating the model."
   ]
  },
  {
   "cell_type": "code",
   "execution_count": 7,
   "metadata": {},
   "outputs": [
    {
     "name": "stdout",
     "output_type": "stream",
     "text": [
      "+------------------+-----------+--------------------+\n",
      "|        prediction|house_price|            features|\n",
      "+------------------+-----------+--------------------+\n",
      "|45.191696686018986|       38.1|[2013.5,26.4,335....|\n",
      "| 52.78251927062411|       59.5|[2013.4166667,6.4...|\n",
      "|  48.7733888096609|       56.8|[2013.3333333,3.9...|\n",
      "|17.220974442165243|       25.3|[2013.5,23.0,3947...|\n",
      "| 44.11802047399033|       32.4|[2013.3333333,39....|\n",
      "| 40.08418444806921|       37.8|[2013.1666667,13....|\n",
      "+------------------+-----------+--------------------+\n",
      "only showing top 6 rows\n",
      "\n",
      "RMSE: 8.949085\n",
      "R2: 0.579482\n"
     ]
    }
   ],
   "source": [
    "# Evaluating the model on training data\n",
    "lr_predictions = lr_model.transform(train_df)\n",
    "lr_predictions.select(\"prediction\",\"house_price\",\"features\").show(6)\n",
    "trainingSummary = lr_model.summary\n",
    "print(\"RMSE: %f\" % trainingSummary.rootMeanSquaredError)\n",
    "print(\"R2: %f\" % trainingSummary.r2)"
   ]
  },
  {
   "cell_type": "markdown",
   "metadata": {},
   "source": [
    "R2 at 0.579 indicates that in our model, approximate 57.9% of the variability in “house price” can be explained using the model. It's not very good, we will try some other models in the bottom half of the project.\n",
    "\n",
    "Root Mean Square Error (RMSE) is the standard deviation of the residuals (prediction errors). Residuals are a measure of how far from the regression line data points are. We can compare the RMSE with the mean, min, max value of house_price."
   ]
  },
  {
   "cell_type": "code",
   "execution_count": 8,
   "metadata": {},
   "outputs": [
    {
     "name": "stdout",
     "output_type": "stream",
     "text": [
      "+-------+------------------+\n",
      "|summary|       house_price|\n",
      "+-------+------------------+\n",
      "|  count|               289|\n",
      "|   mean| 38.33321799307961|\n",
      "| stddev|13.824176325079815|\n",
      "|    min|              11.2|\n",
      "|    max|             117.5|\n",
      "+-------+------------------+\n",
      "\n"
     ]
    }
   ],
   "source": [
    "train_df.describe().show()"
   ]
  },
  {
   "cell_type": "markdown",
   "metadata": {},
   "source": [
    "After we created the model, let's use it to predict the test_features data and write dataframe to csv files named \"Linear Regression Prediction.csv\"."
   ]
  },
  {
   "cell_type": "code",
   "execution_count": 9,
   "metadata": {},
   "outputs": [
    {
     "name": "stdout",
     "output_type": "stream",
     "text": [
      "+------------------+--------------------+\n",
      "|        prediction|            features|\n",
      "+------------------+--------------------+\n",
      "| 40.89063915062252|[2012.8333333,10....|\n",
      "|13.568364610426215|[2013.3333333,24....|\n",
      "| 42.12474419017053|[2013.3333333,34....|\n",
      "|13.381607476820136|[2013.3333333,25....|\n",
      "|42.837319958853186|[2013.5,14.4,169....|\n",
      "| 39.96450485170317|[2013.0833333,36....|\n",
      "|40.691875930433525|[2013.25,35.8,170...|\n",
      "| 34.72268917836118|[2013.0833333,34....|\n",
      "|49.161584409745046|[2013.4166667,10....|\n",
      "| 45.90773468961015|[2013.4166667,17....|\n",
      "| 45.82964337429439|[2013.25,13.3,250...|\n",
      "|  40.9628230769722|[2013.0833333,13....|\n",
      "+------------------+--------------------+\n",
      "only showing top 12 rows\n",
      "\n"
     ]
    }
   ],
   "source": [
    "lr_predictions = lr_model.transform(test_df)\n",
    "lr_predictions.select(\"prediction\",\"features\").show(12)\n",
    "lr_predictions = lr_predictions.select(\"prediction\")\n",
    "df = lr_predictions.toPandas()\n",
    "df = df.round(1)\n",
    "df.index += 1\n",
    "df.to_csv(\"/Users/luohukai/Desktop/Bigdata/Group3Project/Linear Regression Prediction.csv\",index=True,index_label=\"num\")"
   ]
  },
  {
   "cell_type": "markdown",
   "metadata": {},
   "source": [
    "## Decision tree regression"
   ]
  },
  {
   "cell_type": "code",
   "execution_count": 10,
   "metadata": {},
   "outputs": [
    {
     "name": "stdout",
     "output_type": "stream",
     "text": [
      "+------------------+-----------+--------------------+\n",
      "|        prediction|house_price|            features|\n",
      "+------------------+-----------+--------------------+\n",
      "|41.505660377358495|       38.1|[2013.5,26.4,335....|\n",
      "|55.900000000000006|       59.5|[2013.4166667,6.4...|\n",
      "|             53.35|       56.8|[2013.3333333,3.9...|\n",
      "|21.272727272727277|       25.3|[2013.5,23.0,3947...|\n",
      "|41.505660377358495|       32.4|[2013.3333333,39....|\n",
      "|41.505660377358495|       37.8|[2013.1666667,13....|\n",
      "+------------------+-----------+--------------------+\n",
      "only showing top 6 rows\n",
      "\n",
      "RMSE: 6.1701\n",
      "R2: 0.800101\n"
     ]
    }
   ],
   "source": [
    "from pyspark.ml.regression import DecisionTreeRegressor\n",
    "from pyspark.ml.evaluation import RegressionEvaluator\n",
    "\n",
    "# Train a DecisionTree model.\n",
    "dt = DecisionTreeRegressor(featuresCol ='features', labelCol = 'house_price')\n",
    "dt_model = dt.fit(train_df)\n",
    "\n",
    "# Evaluate model on test instances and compute test error\n",
    "dt_predictions = dt_model.transform(train_df)\n",
    "dt_predictions.select(\"prediction\",\"house_price\",\"features\").show(6)\n",
    "dt_evaluator = RegressionEvaluator(\n",
    "    labelCol=\"house_price\", predictionCol=\"prediction\", metricName=\"rmse\")\n",
    "rmse = dt_evaluator.evaluate(dt_predictions)\n",
    "print(\"RMSE: %g\" % rmse)\n",
    "dt_evaluator = RegressionEvaluator(\n",
    "    labelCol=\"house_price\", predictionCol=\"prediction\", metricName=\"r2\")\n",
    "r2 = dt_evaluator.evaluate(dt_predictions)\n",
    "print(\"R2: %g\" % r2)"
   ]
  },
  {
   "cell_type": "markdown",
   "metadata": {},
   "source": [
    "R2 at 0.800 indicates that in our model, approximate 80.0% of the variability in “house price” can be explained using the model. Which indicates it's gonna be a better model compared to Linear model.\n",
    "\n",
    "And the RMSE is also smaller than the linear model. Let's use it to predict the test_features data and write dataframe to csv files named \"Decision tree regression Prediction.csv\"."
   ]
  },
  {
   "cell_type": "code",
   "execution_count": 11,
   "metadata": {},
   "outputs": [
    {
     "name": "stdout",
     "output_type": "stream",
     "text": [
      "+------------------+--------------------+\n",
      "|        prediction|            features|\n",
      "+------------------+--------------------+\n",
      "| 66.02727272727272|[2012.8333333,10....|\n",
      "|21.272727272727277|[2013.3333333,24....|\n",
      "|47.289473684210535|[2013.3333333,34....|\n",
      "|21.272727272727277|[2013.3333333,25....|\n",
      "|33.166666666666664|[2013.5,14.4,169....|\n",
      "|41.505660377358495|[2013.0833333,36....|\n",
      "|47.289473684210535|[2013.25,35.8,170...|\n",
      "|41.505660377358495|[2013.0833333,34....|\n",
      "|55.900000000000006|[2013.4166667,10....|\n",
      "|41.505660377358495|[2013.4166667,17....|\n",
      "|47.289473684210535|[2013.25,13.3,250...|\n",
      "|32.971428571428575|[2013.0833333,13....|\n",
      "+------------------+--------------------+\n",
      "only showing top 12 rows\n",
      "\n"
     ]
    }
   ],
   "source": [
    "dt_predictions = dt_model.transform(test_df)\n",
    "dt_predictions.select(\"prediction\",\"features\").show(12)\n",
    "dt_predictions = dt_predictions.select(\"prediction\")\n",
    "df = dt_predictions.toPandas()\n",
    "df = df.round(1)\n",
    "df.index += 1\n",
    "df.to_csv(\"/Users/luohukai/Desktop/Bigdata/Group3Project/Decision tree regression Prediction.csv\",index=True,index_label=\"num\")"
   ]
  },
  {
   "cell_type": "markdown",
   "metadata": {},
   "source": [
    "## Random forest regression"
   ]
  },
  {
   "cell_type": "code",
   "execution_count": 12,
   "metadata": {},
   "outputs": [
    {
     "name": "stdout",
     "output_type": "stream",
     "text": [
      "+------------------+-----------+--------------------+\n",
      "|        prediction|house_price|            features|\n",
      "+------------------+-----------+--------------------+\n",
      "| 43.48717717843245|       38.1|[2013.5,26.4,335....|\n",
      "| 55.79716695174881|       59.5|[2013.4166667,6.4...|\n",
      "| 51.15559966095081|       56.8|[2013.3333333,3.9...|\n",
      "| 21.37603928667345|       25.3|[2013.5,23.0,3947...|\n",
      "| 41.77447330947575|       32.4|[2013.3333333,39....|\n",
      "|39.649901425772036|       37.8|[2013.1666667,13....|\n",
      "+------------------+-----------+--------------------+\n",
      "only showing top 6 rows\n",
      "\n",
      "RMSE: 5.53185\n",
      "R2: 0.839318\n"
     ]
    }
   ],
   "source": [
    "from pyspark.ml.regression import RandomForestRegressor\n",
    "from pyspark.ml import Pipeline\n",
    "\n",
    "#Train a RF model.\n",
    "rf = RandomForestRegressor(featuresCol=\"features\" ,labelCol = 'house_price')\n",
    "rf_model = rf.fit(train_df)\n",
    "\n",
    "# Evaluate model on test instances and compute test error\n",
    "rf_predictions = rf_model.transform(train_df)\n",
    "rf_predictions.select('prediction', 'house_price', 'features').show(6)\n",
    "rf_evaluator = RegressionEvaluator(\n",
    "    labelCol=\"house_price\", predictionCol=\"prediction\", metricName=\"rmse\")\n",
    "rmse = rf_evaluator.evaluate(rf_predictions)\n",
    "print(\"RMSE: %g\" % rmse)\n",
    "rf_evaluator = RegressionEvaluator(\n",
    "    labelCol=\"house_price\", predictionCol=\"prediction\", metricName=\"r2\")\n",
    "r2 = rf_evaluator.evaluate(rf_predictions)\n",
    "print(\"R2: %g\" % r2)"
   ]
  },
  {
   "cell_type": "markdown",
   "metadata": {},
   "source": [
    "R2 at 0.834 indicates that in our model, approximate 83.4% of the variability in “house price” can be explained using the model. Which indicates it's better than decision tree model.\n",
    "\n",
    "And the RMSE is also smaller than the decision tree model. Let's use it to predict the test_features data and write dataframe to csv files named \"Random forest regression Prediction.csv\"."
   ]
  },
  {
   "cell_type": "code",
   "execution_count": 13,
   "metadata": {},
   "outputs": [
    {
     "name": "stdout",
     "output_type": "stream",
     "text": [
      "+------------------+--------------------+\n",
      "|        prediction|            features|\n",
      "+------------------+--------------------+\n",
      "|60.460439219380575|[2012.8333333,10....|\n",
      "|18.436181394118435|[2013.3333333,24....|\n",
      "| 47.25843185751544|[2013.3333333,34....|\n",
      "|18.436181394118435|[2013.3333333,25....|\n",
      "| 38.30144761315738|[2013.5,14.4,169....|\n",
      "| 40.78089738526327|[2013.0833333,36....|\n",
      "| 44.40396786965118|[2013.25,35.8,170...|\n",
      "| 37.58001480557078|[2013.0833333,34....|\n",
      "| 54.42066951019791|[2013.4166667,10....|\n",
      "| 44.02957301176579|[2013.4166667,17....|\n",
      "| 44.99080668544066|[2013.25,13.3,250...|\n",
      "| 40.63270932993363|[2013.0833333,13....|\n",
      "+------------------+--------------------+\n",
      "only showing top 12 rows\n",
      "\n"
     ]
    }
   ],
   "source": [
    "rf_predictions = rf_model.transform(test_df)\n",
    "rf_predictions.select(\"prediction\",\"features\").show(12)\n",
    "rf_predictions = rf_predictions.select(\"prediction\")\n",
    "df = rf_predictions.toPandas()\n",
    "df = df.round(1)\n",
    "df.index += 1\n",
    "df.to_csv(\"/Users/luohukai/Desktop/Bigdata/Group3Project/Random forest regression Prediction.csv\",index=True,index_label=\"num\")"
   ]
  },
  {
   "cell_type": "markdown",
   "metadata": {},
   "source": [
    "## Gradient-boosted tree regression"
   ]
  },
  {
   "cell_type": "markdown",
   "metadata": {},
   "source": [
    "Gradient-boosted tree regression performed the best on our data."
   ]
  },
  {
   "cell_type": "code",
   "execution_count": 14,
   "metadata": {},
   "outputs": [
    {
     "name": "stdout",
     "output_type": "stream",
     "text": [
      "+------------------+-----------+--------------------+\n",
      "|        prediction|house_price|            features|\n",
      "+------------------+-----------+--------------------+\n",
      "| 40.87056251705553|       38.1|[2013.5,26.4,335....|\n",
      "|58.034505661918494|       59.5|[2013.4166667,6.4...|\n",
      "| 55.42820938021139|       56.8|[2013.3333333,3.9...|\n",
      "| 22.45522820182728|       25.3|[2013.5,23.0,3947...|\n",
      "| 37.49716133229313|       32.4|[2013.3333333,39....|\n",
      "| 39.32259574025981|       37.8|[2013.1666667,13....|\n",
      "+------------------+-----------+--------------------+\n",
      "only showing top 6 rows\n",
      "\n",
      "RMSE: 3.83549\n",
      "R2: 0.922756\n"
     ]
    }
   ],
   "source": [
    "from pyspark.ml.regression import GBTRegressor\n",
    "\n",
    "#Train a GBT model.\n",
    "gbt = GBTRegressor(featuresCol = 'features', labelCol = 'house_price', maxIter=10)\n",
    "gbt_model = gbt.fit(train_df)\n",
    "\n",
    "# Evaluate model on test instances and compute test error\n",
    "gbt_predictions = gbt_model.transform(train_df)\n",
    "gbt_predictions.select('prediction', 'house_price', 'features').show(6)\n",
    "gbt_evaluator = RegressionEvaluator(\n",
    "    labelCol=\"house_price\", predictionCol=\"prediction\", metricName=\"rmse\")\n",
    "rmse = gbt_evaluator.evaluate(gbt_predictions)\n",
    "print(\"RMSE: %g\" % rmse)\n",
    "gbt_evaluator = RegressionEvaluator(\n",
    "    labelCol=\"house_price\", predictionCol=\"prediction\", metricName=\"r2\")\n",
    "r2 = gbt_evaluator.evaluate(gbt_predictions)\n",
    "print(\"R2: %g\" % r2)"
   ]
  },
  {
   "cell_type": "markdown",
   "metadata": {},
   "source": [
    "R2 at 0.923 indicates that in our model, approximate 92.3% of the variability in “house price” can be explained using the model. Which indicates it's better than random forest regression.\n",
    "\n",
    "And the RMSE is also smaller than the random forest regression. Let's use it to predict the test_features data and write dataframe to csv files named \"Gradient-boosted tree regression Prediction.csv\"."
   ]
  },
  {
   "cell_type": "code",
   "execution_count": 15,
   "metadata": {},
   "outputs": [
    {
     "name": "stdout",
     "output_type": "stream",
     "text": [
      "+------------------+--------------------+\n",
      "|        prediction|            features|\n",
      "+------------------+--------------------+\n",
      "| 76.45807587792638|[2012.8333333,10....|\n",
      "| 21.21196441945712|[2013.3333333,24....|\n",
      "| 43.48869956637004|[2013.3333333,34....|\n",
      "| 21.21196441945712|[2013.3333333,25....|\n",
      "|   35.530447441919|[2013.5,14.4,169....|\n",
      "| 38.48070614489383|[2013.0833333,36....|\n",
      "| 41.95445382782645|[2013.25,35.8,170...|\n",
      "| 39.43941818337715|[2013.0833333,34....|\n",
      "| 51.95425816831245|[2013.4166667,10....|\n",
      "| 42.50226225247384|[2013.4166667,17....|\n",
      "| 46.55911943657839|[2013.25,13.3,250...|\n",
      "|33.126064022462984|[2013.0833333,13....|\n",
      "+------------------+--------------------+\n",
      "only showing top 12 rows\n",
      "\n"
     ]
    }
   ],
   "source": [
    "gbt_predictions = gbt_model.transform(test_df)\n",
    "gbt_predictions.select(\"prediction\",\"features\").show(12)\n",
    "gbt_predictions = gbt_predictions.select(\"prediction\")\n",
    "df = gbt_predictions.toPandas()\n",
    "df = df.round(1)\n",
    "df.index += 1\n",
    "df.to_csv(\"/Users/luohukai/Desktop/Bigdata/Group3Project/Gradient-boosted tree regression Prediction.csv\",index=True,index_label=\"num\")"
   ]
  },
  {
   "cell_type": "code",
   "execution_count": null,
   "metadata": {},
   "outputs": [],
   "source": []
  }
 ],
 "metadata": {
  "kernelspec": {
   "display_name": "Python 3",
   "language": "python",
   "name": "python3"
  },
  "language_info": {
   "codemirror_mode": {
    "name": "ipython",
    "version": 3
   },
   "file_extension": ".py",
   "mimetype": "text/x-python",
   "name": "python",
   "nbconvert_exporter": "python",
   "pygments_lexer": "ipython3",
   "version": "3.7.3"
  }
 },
 "nbformat": 4,
 "nbformat_minor": 2
}
