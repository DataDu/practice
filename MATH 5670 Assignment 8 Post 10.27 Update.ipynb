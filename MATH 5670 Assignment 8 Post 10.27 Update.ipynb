{
 "cells": [
  {
   "cell_type": "markdown",
   "metadata": {},
   "source": [
    "In the following basic problems, at least 3 test cases must be written in the main\n",
    "function. Space and time complexity must be evaluated. Pick problems that do not have solutions yet. Try submitting solutions on the website to test them out.\n",
    "\n",
    "a. Pick any Easy Recursive problem (https://leetcode.com/tag/recursion/)\n",
    "\n",
    "b. Pick any Easy Dynamic Programming problem (https://leetcode.com/tag/dynamic-programming/)\n",
    "\n",
    "c. Pick any Easy Sorting problem (https://leetcode.com/tag/sort/)\n",
    "\n",
    "d. Pick any Easy Binary Searching problem (https://leetcode.com/tag/binary-search/)"
   ]
  },
  {
   "cell_type": "code",
   "execution_count": 35,
   "metadata": {},
   "outputs": [
    {
     "data": {
      "text/plain": [
       "4"
      ]
     },
     "execution_count": 35,
     "metadata": {},
     "output_type": "execute_result"
    }
   ],
   "source": [
    "# First problem in Recursion\n",
    "# 687 Longest Univalue Path\n",
    "\n",
    "class TreeNode:\n",
    "    def __init__(self, l = 0, r = 0, data = 0):\n",
    "    # creat new node, define val, left and right children value\n",
    "        self.val = data\n",
    "        self.left = l\n",
    "        self.right = r\n",
    "\n",
    "class Solution(object):\n",
    "    def longestUnivaluePath(self, root):\n",
    "        \"\"\"\n",
    "        :type root: TreeNode\n",
    "        :rtype: int\n",
    "        \"\"\"\n",
    "        if root is None:\n",
    "        # if there is no tree, return 0\n",
    "            return 0\n",
    "        self.cur_max = -1\n",
    "        # if the tree exists, initialize self.cur_max as -1, self.cur_max is used to store the maximum length\n",
    "        def get_path_length(root, pre_val):\n",
    "            if root.left is None and root.right is None:\n",
    "            # if the current node has no left or right children\n",
    "                if root.val == pre_val:\n",
    "                # check if the current node's value = current node's root node's value\n",
    "                    return 1\n",
    "                else:\n",
    "                    return 0\n",
    "            left = right = 0\n",
    "            # left and right are the number of edges between two nodes with the same value, on the left or right side of the current node respectively, initialized at 0\n",
    "            if root.left:\n",
    "            # if current node's left child exists\n",
    "                left = get_path_length(root.left, root.val)\n",
    "                # recursively use get_path_length, renew left\n",
    "            if root.right:\n",
    "            # if current node's right child exists\n",
    "                right = get_path_length(root.right, root.val)\n",
    "                # recursively use get_path_length, renew right\n",
    "            self.cur_max = max(self.cur_max, left + right)\n",
    "            # renew self.cur_max\n",
    "            if root.val == pre_val:\n",
    "            # if current node's value = current node's root node's value, the plus 1 to the length(left or right) of the path  \n",
    "                return 1 + max(left, right)\n",
    "            else:\n",
    "                return 0\n",
    "        return max(get_path_length(root, -root.val) , self.cur_max)\n",
    "\n",
    "# tests: first create tree\n",
    "node1 = TreeNode(data = 1)\n",
    "node2 = TreeNode(node1, 0, 2)\n",
    "node3 = TreeNode(data = 3)\n",
    "node4 = TreeNode(data = 3)\n",
    "node5 = TreeNode(node3, node4, 3)\n",
    "node6 = TreeNode(node2, node5, 2)\n",
    "node7 = TreeNode(node6, 0, 2)\n",
    "node8 = TreeNode(data = 2)\n",
    "A = TreeNode(node7, node8, 2)\n",
    "# ------------------------\n",
    "#          2   \n",
    "#       2    2\n",
    "#     2\n",
    "#   2   3\n",
    "# 1    3 3\n",
    "#\n",
    "# -------------------------\n",
    "\n",
    "s = Solution()\n",
    "s.longestUnivaluePath(A)\n",
    "# Time complexity O(logn) \n",
    "# Space complexity O(logn) "
   ]
  },
  {
   "cell_type": "code",
   "execution_count": 45,
   "metadata": {},
   "outputs": [
    {
     "name": "stdout",
     "output_type": "stream",
     "text": [
      "3\n",
      "0\n"
     ]
    }
   ],
   "source": [
    "# Second problem in Dynamic Programming\n",
    "\n",
    "\n",
    "class Solution(object):\n",
    "    def maxProfit(self, prices):\n",
    "        maxprofit = 0\n",
    "        for i in range(len(prices)-1):\n",
    "            profit = prices[i+1] - prices[i]\n",
    "            # calculate the price difference between day i and the day after\n",
    "            if profit > maxprofit: \n",
    "                maxprofit = profit\n",
    "                # renew the maxprofit with the max price difference\n",
    "        return maxprofit\n",
    "\n",
    "# test code:\n",
    "prices1 = [7,1,4,3,6,4]\n",
    "prices2 = [7,6,4,3,2,1]\n",
    "\n",
    "stock = Solution()\n",
    "print(stock.maxProfit(prices1))\n",
    "print(stock.maxProfit(prices2))\n",
    "\n",
    "# Time complexity O(n)\n",
    "# Space complexity O(1)"
   ]
  },
  {
   "cell_type": "code",
   "execution_count": 4,
   "metadata": {},
   "outputs": [],
   "source": [
    "# Third problem in Sorting\n",
    "\n",
    "def buble_sort(L):\n",
    "    swap = False\n",
    "    while not swap:                     \n",
    "        swap = True\n",
    "        for j in range(1, len(L)):      \n",
    "        # The loop is used to assign the largest value to the last element, then the second largerst...\n",
    "            if L[j-1] > L[j]:\n",
    "                swap = False\n",
    "                temp = L[j]\n",
    "                L[j] = L[j-1]\n",
    "                L[j-1] = temp\n",
    "    return L\n",
    "# Time complexity: O(n)\n",
    "# Space complexity: O(n)"
   ]
  },
  {
   "cell_type": "code",
   "execution_count": 5,
   "metadata": {},
   "outputs": [
    {
     "name": "stdout",
     "output_type": "stream",
     "text": [
      "[2]\n",
      "[9, 4]\n"
     ]
    }
   ],
   "source": [
    "# Third problem in Sorting\n",
    "#Intersection of Two Arrays\n",
    "\n",
    "class Solution(object):\n",
    "    \n",
    "    def intersection(self, nums1, nums2):\n",
    "        result = []\n",
    "        # result is used to store the intersections\n",
    "        sortnums1 = list(set(buble_sort(nums1)))\n",
    "        sortnums2 = list(set(buble_sort(nums2)))\n",
    "        # sort those number lists\n",
    "        maxnum = max(len(sortnums1),len(sortnums2))\n",
    "        minnum = min(len(sortnums1),len(sortnums2))           \n",
    "        # get the length of the lists\n",
    "        for k in range(minnum):\n",
    "            for l in range(maxnum):\n",
    "                if len(sortnums1) > len(sortnums2):\n",
    "                # if condition is used to decide to use l or k to index the lists\n",
    "                    if sortnums1[l] == sortnums2[k]:\n",
    "                        result.append(sortnums1[l])\n",
    "                        # get the insetsections\n",
    "                else: \n",
    "                    if sortnums2[l] == sortnums1[k]:\n",
    "                        result.append(sortnums2[l])\n",
    "                        # get the insetsections\n",
    "        return result\n",
    "\n",
    "# test codes\n",
    "nums1 = [1,2,2,1,3]\n",
    "nums2 = [2,2]\n",
    "nums3 = [4,9,5]\n",
    "nums4 = [9,4,9,8,4]\n",
    "intersect = Solution()\n",
    "print(intersect.intersection(nums1,nums2))\n",
    "print(intersect.intersection(nums3,nums4))              \n",
    "# Time complexity: O(n^2)\n",
    "# Space complexity: O(n)"
   ]
  },
  {
   "cell_type": "code",
   "execution_count": 7,
   "metadata": {},
   "outputs": [
    {
     "name": "stdout",
     "output_type": "stream",
     "text": [
      "[1, 2, 2, 2, 2, 3, 6, 25, 26, 31, 32, 32, 37, 43, 43, 73, 73, 254]\n",
      "The index of 25 is: 7\n",
      "The index of 254 is: 17\n",
      "The index of 23 is: -1\n"
     ]
    }
   ],
   "source": [
    "# Forth problem in Binary Searching\n",
    "#Q704 Binary Search\n",
    "class Solution(object):\n",
    "    def search(self, nums, target):\n",
    "        nums = buble_sort(nums)\n",
    "        # sort the nums\n",
    "        initial = 0\n",
    "        end = len(nums) - 1\n",
    "        found = False\n",
    "        while initial <= end and not found:\n",
    "            mid = (initial + end)//2\n",
    "            # 5/2 = 2.5; 5//2 = 2\n",
    "            if nums[mid] == target:\n",
    "            # check if the element in the middle is what we need\n",
    "                found = mid\n",
    "                return found\n",
    "            else:\n",
    "                if target < nums[mid]:\n",
    "                    end = mid - 1\n",
    "                    # if the target number is smaller than the middle number, search the first half of data\n",
    "                else:\n",
    "                    initial = mid + 1\n",
    "                    # if the target number is greater than the middle number, search the second half of data\n",
    "        return -1\n",
    "        \n",
    "\n",
    "nums = [1,43,3,2,25,6,73,32,2,31,43,37,2,254,26,73,32,2]\n",
    "\n",
    "\n",
    "sol = Solution()\n",
    "print(buble_sort(nums))\n",
    "print(\"The index of 25 is:\", sol.search(nums, 25))\n",
    "print(\"The index of 254 is:\",sol.search(nums, 254))\n",
    "print(\"The index of 23 is:\", sol.search(nums, 23))\n",
    "\n",
    "\n",
    "# Time complexity: O(logn)\n",
    "# Space complexity: O(n)"
   ]
  },
  {
   "attachments": {
    "image.png": {
     "image/png": "[encoded data removed]"
    }
   },
   "cell_type": "markdown",
   "metadata": {},
   "source": [
    "Binary search can be used to compute the internal rate of return of an investment. Write a function that returns the yield of a non-callable bond\n",
    "\n",
    "![image.png](attachment:image.png)\n",
    "\n",
    "Ft: Cash flow in year t\n",
    "\n",
    "N: Number of years\n",
    "\n",
    "C: Bond price"
   ]
  },
  {
   "attachments": {
    "image.png": {
     "image/png": "[encoded data removed]"
    }
   },
   "cell_type": "markdown",
   "metadata": {},
   "source": [
    "For a bond that sells at \\$900, 10% coupon rate paid annually and par value of \\$1000 \n",
    "\n",
    "![image.png](attachment:image.png)\n",
    "\n",
    "Denote the left side f(r), needs to find r that makes f(r) = 0 (start with (a, b) such that f(a) >0 and f(b) <0 or vice versa)"
   ]
  },
  {
   "cell_type": "code",
   "execution_count": 1,
   "metadata": {},
   "outputs": [
    {
     "name": "stdout",
     "output_type": "stream",
     "text": [
      "Rate of Return is 13 %\n"
     ]
    }
   ],
   "source": [
    "# Write your code here\n",
    "\n",
    "\n",
    "def PresentVal(N,ParVal,BondPrice,r):\n",
    "    Bond = 0\n",
    "    Coupon = 0.1*ParVal\n",
    "    for i in range(N-1):\n",
    "    # if N = 4 then i = 0, 1, 2\n",
    "        Bond = Bond + Coupon/(1+r)**(i+1)\n",
    "        # refer to the first 3 terms in the equation above\n",
    "    Bond = Bond + (Coupon + ParVal)/(1+r)**(N) - BondPrice\n",
    "    return Bond    \n",
    "\n",
    "def calc(N,ParVal,BondPrice):\n",
    "    a=0\n",
    "    b=1\n",
    "    while b-a > 0.000000001:\n",
    "        pv_x = PresentVal(N,ParVal,BondPrice,a) # when a = 0, pv_x max, positive number \n",
    "        pv_y = PresentVal(N,ParVal,BondPrice,b) # when b = 1, pv_y min, negative number\n",
    "        mid = (a + b)/2\n",
    "        if pv_x + pv_y < 0:\n",
    "        # if b is too large then renew b\n",
    "            b = mid\n",
    "        elif pv_x + pv_y == 0:\n",
    "            return mid\n",
    "        else:\n",
    "        # if a is too small, then renew a\n",
    "            a = mid        \n",
    "    return print(\"Rate of Return is\",round(mid*100),\"%\")\n",
    "\n",
    "calc(4,1000,900)\n",
    "# Time complexity O(logn)\n",
    "# Space complexity O(1)"
   ]
  },
  {
   "cell_type": "markdown",
   "metadata": {},
   "source": [
    "Data at a stock exchange are provided to the users in this format via its API\n",
    "\n",
    "{‘Symbol’:’GOOG’, 'Open': 1,009.63, 'High': 1,012.00, 'Low': 1,001.52, 'Close': 1,001.49, 'Volume': 906,093}\n",
    "\n",
    "Write a function that sorts a list/array of prices by any parameter (symbol, open, high, low, close, and volume). There should be an argument specifying which parameter to sort on. Should not use any sort built-in function.\n"
   ]
  },
  {
   "cell_type": "code",
   "execution_count": 1,
   "metadata": {},
   "outputs": [
    {
     "data": {
      "text/plain": [
       "'\\ndivide list successively into halves\\ndepth-first such that conquer smallest pieces down one branch first\\nbefore moving to larger pieces.\\n\\nComplexity \\n\\nat first recursion level\\nn/2 elements in each list\\nO(n) + O(n) = O(n) where n is len(L)\\n\\nat second recursion level\\nn/4 elements in each list\\ntwo merges -> O(n) where n is len(L)\\n\\neach recursion level is O(n) where n is len(L)\\ndividing list in half with each recursive call\\nO(log(n)) where n is len(L)\\n\\noverall complexity is O(n log(n)) where n is len(L)\\nnlog(n) grow slowly\\n'"
      ]
     },
     "execution_count": 1,
     "metadata": {},
     "output_type": "execute_result"
    }
   ],
   "source": [
    "def merge(left, right):\n",
    "    result = []\n",
    "    i,j = 0,0\n",
    "    while i < len(left) and j < len(right): #left and right sublists are ordered. \n",
    "        if left[i] < right[j]:              #move indices for sublists depending on \n",
    "            result.append(left[i])          #which sublist hold next smallest element\n",
    "            i += 1\n",
    "        else:\n",
    "            result.append(right[j])\n",
    "            j += 1\n",
    "    while(i < len(left)):     #when right sublist is empty\n",
    "        result.append(left[i])\n",
    "        i += 1\n",
    "    \n",
    "    while(j < len(right)):      #when left sublist is empty\n",
    "        result.append(right[j])\n",
    "        j += 1\n",
    "    return result\n",
    "\n",
    "def merge_sort(L):\n",
    "    if len(L) < 2:      #Base Case: if there's just one element\n",
    "        return L[:]\n",
    "    else:\n",
    "        middle = len(L)//2      #Divide the list of the price into two \n",
    "        left = merge_sort(L[:middle])       #Conquer with the merge step\n",
    "        right = merge_sort(L[middle:])\n",
    "        return merge(left, right)\n",
    "\n",
    "\n",
    "    \n",
    "    \n",
    "\"\"\"\n",
    "divide list successively into halves\n",
    "depth-first such that conquer smallest pieces down one branch first\n",
    "before moving to larger pieces.\n",
    "\n",
    "Complexity \n",
    "\n",
    "at first recursion level\n",
    "n/2 elements in each list\n",
    "O(n) + O(n) = O(n) where n is len(L)\n",
    "\n",
    "at second recursion level\n",
    "n/4 elements in each list\n",
    "two merges -> O(n) where n is len(L)\n",
    "\n",
    "each recursion level is O(n) where n is len(L)\n",
    "dividing list in half with each recursive call\n",
    "O(log(n)) where n is len(L)\n",
    "\n",
    "overall complexity is O(n log(n)) where n is len(L)\n",
    "nlog(n) grow slowly\n",
    "\"\"\"\n",
    "\n",
    "#This is the fastest sort  Time Complexity : O(n*log(n)) which is more efficient than Buble sort or Selection Sort"
   ]
  },
  {
   "cell_type": "code",
   "execution_count": 9,
   "metadata": {},
   "outputs": [],
   "source": [
    "import datetime as dt\n",
    "import pandas_datareader.data as web\n",
    "\n",
    "\n",
    "# We would like all available data from 01/01/2000 until 10/25/2018 as of Today.\n",
    "\n",
    "def findstock(parameter, ticker):\n",
    "    start_date = dt.datetime(2000,1,1)\n",
    "    end_date = dt.datetime(2018,10,25)\n",
    "    dataframe = web.DataReader(ticker, 'yahoo', start_date, end_date)\n",
    "    return dataframe[parameter]\n"
   ]
  },
  {
   "cell_type": "code",
   "execution_count": 10,
   "metadata": {},
   "outputs": [
    {
     "data": {
      "text/plain": [
       "[5.510000228881836,\n",
       " 5.670000076293945,\n",
       " 5.829999923706055,\n",
       " 5.949999809265137,\n",
       " 6.0,\n",
       " 6.019999980926514,\n",
       " 6.320000171661377,\n",
       " 6.550000190734863,\n",
       " 6.599999904632568,\n",
       " 6.639999866485596,\n",
       " 6.670000076293945,\n",
       " 6.670000076293945,\n",
       " 6.679999828338623,\n",
       " 6.690000057220459,\n",
       " 6.739999771118164,\n",
       " 6.739999771118164,\n",
       " 6.800000190734863,\n",
       " 6.800000190734863,\n",
       " 6.849999904632568,\n",
       " 6.909999847412109]"
      ]
     },
     "execution_count": 10,
     "metadata": {},
     "output_type": "execute_result"
    }
   ],
   "source": [
    "merge_sort(findstock(\"Low\",'AMZN'))[:20]    #Low for Amazon, just show the smallest first 20 elements\n",
    "\n"
   ]
  },
  {
   "cell_type": "code",
   "execution_count": 19,
   "metadata": {},
   "outputs": [
    {
     "data": {
      "text/plain": [
       "[7900.0,\n",
       " 10800.0,\n",
       " 13100.0,\n",
       " 41300.0,\n",
       " 147500.0,\n",
       " 527200.0,\n",
       " 537000.0,\n",
       " 587400.0,\n",
       " 623400.0,\n",
       " 679000.0,\n",
       " 707800.0,\n",
       " 716100.0,\n",
       " 719400.0,\n",
       " 720000.0,\n",
       " 740500.0,\n",
       " 742200.0,\n",
       " 746300.0,\n",
       " 755100.0,\n",
       " 756800.0,\n",
       " 760600.0]"
      ]
     },
     "execution_count": 19,
     "metadata": {},
     "output_type": "execute_result"
    }
   ],
   "source": [
    "merge_sort(findstock(\"Volume\",'GOOG'))[:20]     #Volume for Google Since 2000, just show the smallest 20 elements\n"
   ]
  },
  {
   "cell_type": "code",
   "execution_count": 20,
   "metadata": {},
   "outputs": [
    {
     "data": {
      "text/plain": [
       "[16.6299991607666,\n",
       " 17.520000457763672,\n",
       " 17.899999618530273,\n",
       " 17.899999618530273,\n",
       " 18.06999969482422,\n",
       " 18.450000762939453,\n",
       " 18.639999389648438,\n",
       " 18.799999237060547,\n",
       " 18.8799991607666,\n",
       " 19.110000610351562,\n",
       " 19.25,\n",
       " 19.399999618530273,\n",
       " 19.59000015258789,\n",
       " 19.649999618530273,\n",
       " 19.709999084472656,\n",
       " 19.790000915527344,\n",
       " 19.8700008392334,\n",
       " 19.979999542236328,\n",
       " 19.979999542236328,\n",
       " 20.0]"
      ]
     },
     "execution_count": 20,
     "metadata": {},
     "output_type": "execute_result"
    }
   ],
   "source": [
    "merge_sort(findstock(\"High\",'TSLA'))[:20]      #High price for Tesla Since 2000, just show the smallest 20 elements\n"
   ]
  },
  {
   "cell_type": "code",
   "execution_count": null,
   "metadata": {},
   "outputs": [],
   "source": []
  }
 ],
 "metadata": {
  "kernelspec": {
   "display_name": "Python 3",
   "language": "python",
   "name": "python3"
  },
  "language_info": {
   "codemirror_mode": {
    "name": "ipython",
    "version": 3
   },
   "file_extension": ".py",
   "mimetype": "text/x-python",
   "name": "python",
   "nbconvert_exporter": "python",
   "pygments_lexer": "ipython3",
   "version": "3.7.3"
  }
 },
 "nbformat": 4,
 "nbformat_minor": 2
}
