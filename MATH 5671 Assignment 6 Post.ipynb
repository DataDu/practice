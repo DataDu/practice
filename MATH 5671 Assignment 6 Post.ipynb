{
 "cells": [
  {
   "cell_type": "markdown",
   "metadata": {},
   "source": [
    "# Loan recommendation using Collaborative Filtering"
   ]
  },
  {
   "cell_type": "markdown",
   "metadata": {},
   "source": [
    "The rating data is in loan_rating.csv, containing lender_id, loan_id, rating. Rating can be from 0-10."
   ]
  },
  {
   "cell_type": "code",
   "execution_count": 1,
   "metadata": {},
   "outputs": [
    {
     "data": {
      "text/plain": [
       "'de_DE'"
      ]
     },
     "execution_count": 1,
     "metadata": {},
     "output_type": "execute_result"
    }
   ],
   "source": [
    "import locale\n",
    "import csv\n",
    "\n",
    "locale.setlocale(locale.LC_ALL, 'de_DE')\n"
   ]
  },
  {
   "cell_type": "code",
   "execution_count": 26,
   "metadata": {},
   "outputs": [
    {
     "data": {
      "text/html": [
       "<div>\n",
       "<style scoped>\n",
       "    .dataframe tbody tr th:only-of-type {\n",
       "        vertical-align: middle;\n",
       "    }\n",
       "\n",
       "    .dataframe tbody tr th {\n",
       "        vertical-align: top;\n",
       "    }\n",
       "\n",
       "    .dataframe thead th {\n",
       "        text-align: right;\n",
       "    }\n",
       "</style>\n",
       "<table border=\"1\" class=\"dataframe\">\n",
       "  <thead>\n",
       "    <tr style=\"text-align: right;\">\n",
       "      <th></th>\n",
       "      <th>lender_id</th>\n",
       "      <th>loan_id</th>\n",
       "      <th>rating</th>\n",
       "    </tr>\n",
       "  </thead>\n",
       "  <tbody>\n",
       "    <tr>\n",
       "      <th>0</th>\n",
       "      <td>0</td>\n",
       "      <td>0</td>\n",
       "      <td>3</td>\n",
       "    </tr>\n",
       "    <tr>\n",
       "      <th>1</th>\n",
       "      <td>1</td>\n",
       "      <td>0</td>\n",
       "      <td>0</td>\n",
       "    </tr>\n",
       "    <tr>\n",
       "      <th>2</th>\n",
       "      <td>2</td>\n",
       "      <td>0</td>\n",
       "      <td>0</td>\n",
       "    </tr>\n",
       "    <tr>\n",
       "      <th>3</th>\n",
       "      <td>3</td>\n",
       "      <td>0</td>\n",
       "      <td>0</td>\n",
       "    </tr>\n",
       "    <tr>\n",
       "      <th>4</th>\n",
       "      <td>4</td>\n",
       "      <td>0</td>\n",
       "      <td>2</td>\n",
       "    </tr>\n",
       "  </tbody>\n",
       "</table>\n",
       "</div>"
      ],
      "text/plain": [
       "   lender_id  loan_id  rating\n",
       "0          0        0       3\n",
       "1          1        0       0\n",
       "2          2        0       0\n",
       "3          3        0       0\n",
       "4          4        0       2"
      ]
     },
     "execution_count": 26,
     "metadata": {},
     "output_type": "execute_result"
    }
   ],
   "source": [
    "import os\n",
    "import pandas as pd\n",
    "import warnings\n",
    "warnings.filterwarnings(\"ignore\")\n",
    "#locale.setlocale(locale.LC_ALL, 'deu_deu')\n",
    "\n",
    "os.chdir(r\"C:\\Users\\User\\Desktop\\2019 Spring\\Big Data\\Week 6\")\n",
    "\n",
    "loan_rating_df = pd.read_csv(\"loan_rating.csv\",header =0)\n",
    "loan_rating_df.head()"
   ]
  },
  {
   "cell_type": "markdown",
   "metadata": {},
   "source": [
    "Use surprise package to read rating data in, train and test the model"
   ]
  },
  {
   "cell_type": "code",
   "execution_count": 47,
   "metadata": {},
   "outputs": [
    {
     "data": {
      "text/plain": [
       "<surprise.dataset.DatasetAutoFolds at 0x1b729f0c828>"
      ]
     },
     "execution_count": 47,
     "metadata": {},
     "output_type": "execute_result"
    }
   ],
   "source": [
    "\n",
    "from surprise import Reader, Dataset \n",
    "\n",
    "loan_rating_df = pd.read_csv(\"loan_rating.csv\")\n",
    "reader = Reader(rating_scale=(0, 10))\n",
    "\n",
    "# The columns must correspond to user id, item id and ratings (in that order).\n",
    "data = Dataset.load_from_df(loan_rating_df[['lender_id', 'loan_id', 'rating']], reader)\n",
    "data"
   ]
  },
  {
   "cell_type": "code",
   "execution_count": 33,
   "metadata": {},
   "outputs": [
    {
     "data": {
      "text/plain": [
       "<surprise.reader.Reader at 0x1b7070652e8>"
      ]
     },
     "execution_count": 33,
     "metadata": {},
     "output_type": "execute_result"
    }
   ],
   "source": [
    "reader"
   ]
  },
  {
   "cell_type": "code",
   "execution_count": 8,
   "metadata": {},
   "outputs": [
    {
     "name": "stdout",
     "output_type": "stream",
     "text": [
      "RMSE: 3.5915\n"
     ]
    },
    {
     "data": {
      "text/plain": [
       "3.591514001373734"
      ]
     },
     "execution_count": 8,
     "metadata": {},
     "output_type": "execute_result"
    }
   ],
   "source": [
    "from surprise import NMF, evaluate\n",
    "from surprise import accuracy\n",
    "from surprise.model_selection import train_test_split\n",
    "\n",
    "algo = NMF()\n",
    "trainset, testset = train_test_split(data, test_size=.3)\n",
    "\n",
    "output = algo.fit(trainset)\n",
    "predictions = algo.test(testset)\n",
    "\n",
    "# Then compute RMSE\n",
    "accuracy.rmse(predictions)"
   ]
  },
  {
   "cell_type": "code",
   "execution_count": 39,
   "metadata": {},
   "outputs": [
    {
     "data": {
      "text/plain": [
       "[Prediction(uid=1, iid=65983, r_ui=9.0, est=0.8125834011513249, details={'was_impossible': False}),\n",
       " Prediction(uid=5, iid=39952, r_ui=0.0, est=0, details={'was_impossible': False}),\n",
       " Prediction(uid=9, iid=79154, r_ui=0.0, est=2.6958901194008122, details={'was_impossible': False}),\n",
       " Prediction(uid=9, iid=82976, r_ui=0.0, est=3.2796911141269494, details={'was_impossible': False}),\n",
       " Prediction(uid=8, iid=19578, r_ui=0.0, est=0, details={'was_impossible': False}),\n",
       " Prediction(uid=8, iid=46513, r_ui=0.0, est=0.6056206830346944, details={'was_impossible': False}),\n",
       " Prediction(uid=7, iid=74934, r_ui=5.0, est=0.2335574905556248, details={'was_impossible': False}),\n",
       " Prediction(uid=5, iid=20080, r_ui=0.0, est=0.3556784053603952, details={'was_impossible': False}),\n",
       " Prediction(uid=2, iid=79033, r_ui=0.0, est=3.4558038328903127, details={'was_impossible': False}),\n",
       " Prediction(uid=3, iid=66660, r_ui=0.0, est=2.003335292471313, details={'was_impossible': False})]"
      ]
     },
     "execution_count": 39,
     "metadata": {},
     "output_type": "execute_result"
    }
   ],
   "source": [
    "predictions[:10]"
   ]
  },
  {
   "cell_type": "code",
   "execution_count": 52,
   "metadata": {},
   "outputs": [
    {
     "data": {
      "text/plain": [
       "array([0.5600979 , 0.28280641, 0.64195663, ..., 1.72347369, 0.        ,\n",
       "       0.8125834 ])"
      ]
     },
     "execution_count": 52,
     "metadata": {},
     "output_type": "execute_result"
    }
   ],
   "source": [
    "pred_loans[:,1][::-1]"
   ]
  },
  {
   "cell_type": "code",
   "execution_count": 53,
   "metadata": {},
   "outputs": [
    {
     "data": {
      "text/plain": [
       "array([ 34278.,  90820., 103504.,   6390.,   3051.,  51248.,    145.,\n",
       "        60090.,  97985.,  58183.])"
      ]
     },
     "execution_count": 53,
     "metadata": {},
     "output_type": "execute_result"
    }
   ],
   "source": [
    "pred_loans[pred_top_loans_index, 0]"
   ]
  },
  {
   "cell_type": "code",
   "execution_count": 54,
   "metadata": {},
   "outputs": [
    {
     "data": {
      "text/plain": [
       "array([ 34278.,  90820., 103504.,   6390.,   3051.,  51248.,    145.,\n",
       "        60090.,  97985.,  58183.])"
      ]
     },
     "execution_count": 54,
     "metadata": {},
     "output_type": "execute_result"
    }
   ],
   "source": [
    "import numpy as np\n",
    "\n",
    "pred_loans = np.array([[pred.iid,pred.est] for pred in predictions if pred.uid == 1])\n",
    "pred_top_loans_index = np.argsort(pred_loans[:,1])[::-1][:10]\n",
    "pred_top_loans = pred_loans[pred_top_loans_index, 0]\n",
    "pred_top_loans"
   ]
  },
  {
   "cell_type": "code",
   "execution_count": 15,
   "metadata": {},
   "outputs": [
    {
     "data": {
      "text/html": [
       "<div>\n",
       "<style scoped>\n",
       "    .dataframe tbody tr th:only-of-type {\n",
       "        vertical-align: middle;\n",
       "    }\n",
       "\n",
       "    .dataframe tbody tr th {\n",
       "        vertical-align: top;\n",
       "    }\n",
       "\n",
       "    .dataframe thead th {\n",
       "        text-align: right;\n",
       "    }\n",
       "</style>\n",
       "<table border=\"1\" class=\"dataframe\">\n",
       "  <thead>\n",
       "    <tr style=\"text-align: right;\">\n",
       "      <th></th>\n",
       "      <th>loan_amnt</th>\n",
       "      <th>term</th>\n",
       "      <th>int_rate</th>\n",
       "      <th>emp_length</th>\n",
       "      <th>home_ownership</th>\n",
       "      <th>annual_inc</th>\n",
       "      <th>purpose</th>\n",
       "      <th>addr_state</th>\n",
       "      <th>dti</th>\n",
       "      <th>delinq_2yrs</th>\n",
       "      <th>revol_util</th>\n",
       "      <th>total_acc</th>\n",
       "      <th>bad_loan</th>\n",
       "      <th>longest_credit_length</th>\n",
       "      <th>verification_status</th>\n",
       "    </tr>\n",
       "  </thead>\n",
       "  <tbody>\n",
       "    <tr>\n",
       "      <th>0</th>\n",
       "      <td>5000</td>\n",
       "      <td>36 months</td>\n",
       "      <td>10.65</td>\n",
       "      <td>10.0</td>\n",
       "      <td>RENT</td>\n",
       "      <td>24000.0</td>\n",
       "      <td>credit_card</td>\n",
       "      <td>AZ</td>\n",
       "      <td>27.65</td>\n",
       "      <td>0.0</td>\n",
       "      <td>83.7</td>\n",
       "      <td>9.0</td>\n",
       "      <td>0</td>\n",
       "      <td>26.0</td>\n",
       "      <td>verified</td>\n",
       "    </tr>\n",
       "    <tr>\n",
       "      <th>1</th>\n",
       "      <td>2500</td>\n",
       "      <td>60 months</td>\n",
       "      <td>15.27</td>\n",
       "      <td>0.0</td>\n",
       "      <td>RENT</td>\n",
       "      <td>30000.0</td>\n",
       "      <td>car</td>\n",
       "      <td>GA</td>\n",
       "      <td>1.00</td>\n",
       "      <td>0.0</td>\n",
       "      <td>9.4</td>\n",
       "      <td>4.0</td>\n",
       "      <td>1</td>\n",
       "      <td>12.0</td>\n",
       "      <td>verified</td>\n",
       "    </tr>\n",
       "    <tr>\n",
       "      <th>2</th>\n",
       "      <td>2400</td>\n",
       "      <td>36 months</td>\n",
       "      <td>15.96</td>\n",
       "      <td>10.0</td>\n",
       "      <td>RENT</td>\n",
       "      <td>12252.0</td>\n",
       "      <td>small_business</td>\n",
       "      <td>IL</td>\n",
       "      <td>8.72</td>\n",
       "      <td>0.0</td>\n",
       "      <td>98.5</td>\n",
       "      <td>10.0</td>\n",
       "      <td>0</td>\n",
       "      <td>10.0</td>\n",
       "      <td>not verified</td>\n",
       "    </tr>\n",
       "    <tr>\n",
       "      <th>3</th>\n",
       "      <td>10000</td>\n",
       "      <td>36 months</td>\n",
       "      <td>13.49</td>\n",
       "      <td>10.0</td>\n",
       "      <td>RENT</td>\n",
       "      <td>49200.0</td>\n",
       "      <td>other</td>\n",
       "      <td>CA</td>\n",
       "      <td>20.00</td>\n",
       "      <td>0.0</td>\n",
       "      <td>21.0</td>\n",
       "      <td>37.0</td>\n",
       "      <td>0</td>\n",
       "      <td>15.0</td>\n",
       "      <td>verified</td>\n",
       "    </tr>\n",
       "    <tr>\n",
       "      <th>4</th>\n",
       "      <td>5000</td>\n",
       "      <td>36 months</td>\n",
       "      <td>7.90</td>\n",
       "      <td>3.0</td>\n",
       "      <td>RENT</td>\n",
       "      <td>36000.0</td>\n",
       "      <td>wedding</td>\n",
       "      <td>AZ</td>\n",
       "      <td>11.20</td>\n",
       "      <td>0.0</td>\n",
       "      <td>28.3</td>\n",
       "      <td>12.0</td>\n",
       "      <td>0</td>\n",
       "      <td>7.0</td>\n",
       "      <td>verified</td>\n",
       "    </tr>\n",
       "  </tbody>\n",
       "</table>\n",
       "</div>"
      ],
      "text/plain": [
       "   loan_amnt       term  int_rate  emp_length home_ownership  annual_inc  \\\n",
       "0       5000  36 months     10.65        10.0           RENT     24000.0   \n",
       "1       2500  60 months     15.27         0.0           RENT     30000.0   \n",
       "2       2400  36 months     15.96        10.0           RENT     12252.0   \n",
       "3      10000  36 months     13.49        10.0           RENT     49200.0   \n",
       "4       5000  36 months      7.90         3.0           RENT     36000.0   \n",
       "\n",
       "          purpose addr_state    dti  delinq_2yrs  revol_util  total_acc  \\\n",
       "0     credit_card         AZ  27.65          0.0        83.7        9.0   \n",
       "1             car         GA   1.00          0.0         9.4        4.0   \n",
       "2  small_business         IL   8.72          0.0        98.5       10.0   \n",
       "3           other         CA  20.00          0.0        21.0       37.0   \n",
       "4         wedding         AZ  11.20          0.0        28.3       12.0   \n",
       "\n",
       "   bad_loan  longest_credit_length verification_status  \n",
       "0         0                   26.0            verified  \n",
       "1         1                   12.0            verified  \n",
       "2         0                   10.0        not verified  \n",
       "3         0                   15.0            verified  \n",
       "4         0                    7.0            verified  "
      ]
     },
     "execution_count": 15,
     "metadata": {},
     "output_type": "execute_result"
    }
   ],
   "source": [
    "loan_df = pd.read_csv(\"loan.csv\",header = 0)\n",
    "loan_df.head()"
   ]
  },
  {
   "cell_type": "code",
   "execution_count": 21,
   "metadata": {},
   "outputs": [
    {
     "data": {
      "text/plain": [
       "loan_amnt                     2500\n",
       "term                     60 months\n",
       "int_rate                     15.27\n",
       "emp_length                       0\n",
       "home_ownership                RENT\n",
       "annual_inc                   30000\n",
       "purpose                        car\n",
       "addr_state                      GA\n",
       "dti                              1\n",
       "delinq_2yrs                      0\n",
       "revol_util                     9.4\n",
       "total_acc                        4\n",
       "bad_loan                         1\n",
       "longest_credit_length           12\n",
       "verification_status       verified\n",
       "Name: 1, dtype: object"
      ]
     },
     "execution_count": 21,
     "metadata": {},
     "output_type": "execute_result"
    }
   ],
   "source": [
    "info = loan_df.loc[1,:]\n",
    "info"
   ]
  },
  {
   "cell_type": "markdown",
   "metadata": {},
   "source": [
    "Now give recommendations"
   ]
  },
  {
   "cell_type": "code",
   "execution_count": 18,
   "metadata": {},
   "outputs": [
    {
     "name": "stdout",
     "output_type": "stream",
     "text": [
      "Predicted rating 10.0 for loan of  15.000,00 €  for 36 months with debt_consolidation purpose at 13.0 percent interest\n",
      "\n",
      "Predicted rating 10.0 for loan of  12.000,00 €  for 36 months with debt_consolidation purpose at 7.9 percent interest\n",
      "\n",
      "Predicted rating 10.0 for loan of  18.000,00 €  for 36 months with debt_consolidation purpose at 11.0 percent interest\n",
      "\n"
     ]
    },
    {
     "ename": "IndexError",
     "evalue": "index 3 is out of bounds for axis 0 with size 3",
     "output_type": "error",
     "traceback": [
      "\u001b[1;31m---------------------------------------------------------------------------\u001b[0m",
      "\u001b[1;31mIndexError\u001b[0m                                Traceback (most recent call last)",
      "\u001b[1;32m<ipython-input-18-d714029e36b9>\u001b[0m in \u001b[0;36m<module>\u001b[1;34m()\u001b[0m\n\u001b[0;32m     18\u001b[0m \u001b[1;33m\u001b[0m\u001b[0m\n\u001b[0;32m     19\u001b[0m     \u001b[1;32mfor\u001b[0m \u001b[0mi\u001b[0m \u001b[1;32min\u001b[0m \u001b[0mrange\u001b[0m\u001b[1;33m(\u001b[0m\u001b[0mlimit\u001b[0m\u001b[1;33m)\u001b[0m\u001b[1;33m:\u001b[0m\u001b[1;33m\u001b[0m\u001b[0m\n\u001b[1;32m---> 20\u001b[1;33m         \u001b[0mloan\u001b[0m \u001b[1;33m=\u001b[0m \u001b[0mpred_top_loans\u001b[0m\u001b[1;33m[\u001b[0m\u001b[0mi\u001b[0m\u001b[1;33m,\u001b[0m\u001b[1;33m:\u001b[0m\u001b[1;33m]\u001b[0m\u001b[1;33m\u001b[0m\u001b[0m\n\u001b[0m\u001b[0;32m     21\u001b[0m         \u001b[0minfo\u001b[0m \u001b[1;33m=\u001b[0m \u001b[0mloan_df\u001b[0m\u001b[1;33m.\u001b[0m\u001b[0mloc\u001b[0m\u001b[1;33m[\u001b[0m\u001b[0mloan\u001b[0m\u001b[1;33m[\u001b[0m\u001b[1;36m0\u001b[0m\u001b[1;33m]\u001b[0m\u001b[1;33m,\u001b[0m\u001b[1;33m:\u001b[0m\u001b[1;33m]\u001b[0m\u001b[1;33m\u001b[0m\u001b[0m\n\u001b[0;32m     22\u001b[0m         print('Predicted rating %.1f for loan of  %s  for %s with %s purpose at %.1f percent interest\\n' %\n",
      "\u001b[1;31mIndexError\u001b[0m: index 3 is out of bounds for axis 0 with size 3"
     ]
    }
   ],
   "source": [
    "top = 3\n",
    "\n",
    "lenders = loan_rating_df['lender_id'].unique()\n",
    "n_lenders = len(lenders)\n",
    "loans = loan_rating_df['loan_id'].unique()\n",
    "n_loans = len(loans)\n",
    "Y = np.empty([n_loans, n_lenders])\n",
    "limit = 100\n",
    "Y = Y[:limit,:]\n",
    "R = (Y != -1)\n",
    "R = R.astype(float)\n",
    "for j in range(n_lenders):\n",
    "    # get top 3 loans\n",
    "    # iid is the loan_id \n",
    "    pred_loans = np.array([[pred.iid,pred.est] for pred in predictions if pred.uid == j])\n",
    "    pred_top_loans_index = np.argsort(pred_loans[:,1])[::-1][:top]\n",
    "    pred_top_loans = pred_loans[pred_top_loans_index, :]\n",
    "     \n",
    "    for i in range(limit):\n",
    "        loan = pred_top_loans[i,:]\n",
    "        info = loan_df.loc[loan[0],:]\n",
    "        print('Predicted rating %.1f for loan of  %s  for %s with %s purpose at %.1f percent interest\\n' %\n",
    "        (pred_top_loans[i][1], locale.currency(np.float(info.loan_amnt),grouping=True), info.term, info.purpose, np.float(info.int_rate)))"
   ]
  },
  {
   "cell_type": "code",
   "execution_count": 19,
   "metadata": {},
   "outputs": [],
   "source": [
    "n_lenders = len(loan_rating_df['lender_id'].unique())\n",
    "n_loans = len(loan_rating_df['loan_id'].unique())"
   ]
  },
  {
   "cell_type": "code",
   "execution_count": 20,
   "metadata": {},
   "outputs": [
    {
     "data": {
      "text/plain": [
       "0"
      ]
     },
     "execution_count": 20,
     "metadata": {},
     "output_type": "execute_result"
    }
   ],
   "source": [
    "loan_rating_df[loan_rating_df['loan_id'] == 100][loan_rating_df['lender_id'] == 1][['rating']].values[0,0]"
   ]
  },
  {
   "cell_type": "markdown",
   "metadata": {},
   "source": [
    "Now a recommender system model from scratch"
   ]
  },
  {
   "cell_type": "code",
   "execution_count": 21,
   "metadata": {},
   "outputs": [
    {
     "data": {
      "text/html": [
       "<div>\n",
       "<style scoped>\n",
       "    .dataframe tbody tr th:only-of-type {\n",
       "        vertical-align: middle;\n",
       "    }\n",
       "\n",
       "    .dataframe tbody tr th {\n",
       "        vertical-align: top;\n",
       "    }\n",
       "\n",
       "    .dataframe thead th {\n",
       "        text-align: right;\n",
       "    }\n",
       "</style>\n",
       "<table border=\"1\" class=\"dataframe\">\n",
       "  <thead>\n",
       "    <tr style=\"text-align: right;\">\n",
       "      <th></th>\n",
       "      <th>lender_id</th>\n",
       "      <th>loan_id</th>\n",
       "      <th>rating</th>\n",
       "    </tr>\n",
       "  </thead>\n",
       "  <tbody>\n",
       "    <tr>\n",
       "      <th>0</th>\n",
       "      <td>0</td>\n",
       "      <td>0</td>\n",
       "      <td>3</td>\n",
       "    </tr>\n",
       "    <tr>\n",
       "      <th>1</th>\n",
       "      <td>1</td>\n",
       "      <td>0</td>\n",
       "      <td>0</td>\n",
       "    </tr>\n",
       "    <tr>\n",
       "      <th>2</th>\n",
       "      <td>2</td>\n",
       "      <td>0</td>\n",
       "      <td>0</td>\n",
       "    </tr>\n",
       "    <tr>\n",
       "      <th>3</th>\n",
       "      <td>3</td>\n",
       "      <td>0</td>\n",
       "      <td>0</td>\n",
       "    </tr>\n",
       "    <tr>\n",
       "      <th>4</th>\n",
       "      <td>4</td>\n",
       "      <td>0</td>\n",
       "      <td>2</td>\n",
       "    </tr>\n",
       "  </tbody>\n",
       "</table>\n",
       "</div>"
      ],
      "text/plain": [
       "   lender_id  loan_id  rating\n",
       "0          0        0       3\n",
       "1          1        0       0\n",
       "2          2        0       0\n",
       "3          3        0       0\n",
       "4          4        0       2"
      ]
     },
     "execution_count": 21,
     "metadata": {},
     "output_type": "execute_result"
    }
   ],
   "source": [
    "from sklearn.model_selection import train_test_split\n",
    "import numpy as np\n",
    "import random\n",
    "import csv\n",
    "from sklearn.model_selection import train_test_split\n",
    "import locale # for currency formatting\n",
    "import matplotlib.pyplot as plt\n",
    "from mpl_toolkits.mplot3d import Axes3D\n",
    "\n",
    "loan_rating_df = pd.read_csv(\"loan_rating.csv\",header =0)\n",
    "loan_rating_df.head()"
   ]
  },
  {
   "cell_type": "code",
   "execution_count": 23,
   "metadata": {},
   "outputs": [],
   "source": [
    "lenders = loan_rating_df['lender_id'].unique()\n",
    "n_lenders = len(lenders)\n",
    "loans = loan_rating_df['loan_id'].unique()\n",
    "n_loans = len(loans)\n",
    "Y = np.empty([n_loans, n_lenders])\n",
    "\n",
    "for loan in loans[:limit]:\n",
    "    for lender in lenders:\n",
    "        rating = loan_rating_df[loan_rating_df['loan_id'] == loan][loan_rating_df['lender_id'] == lender]['rating']\n",
    "        if len(rating) == 0:\n",
    "            Y[loan,lender] = -1\n",
    "        else:\n",
    "            Y[loan,lender] = rating.values[0]\n",
    "        \n",
    "        Y = Y.astype(float)\n",
    "\n",
    "# use just part of Y (like, 100 loans)\n",
    "limit = 100\n",
    "Y = Y[:limit,:]\n",
    "R = (Y != -1)\n",
    "R = R.astype(float)"
   ]
  },
  {
   "cell_type": "code",
   "execution_count": 24,
   "metadata": {},
   "outputs": [],
   "source": [
    "loan_df = pd.read_csv(\"loan.csv\",header =0)\n",
    "loan_df.head()\n",
    "info = np.array(loan_df)[:limit,:]"
   ]
  },
  {
   "cell_type": "markdown",
   "metadata": {},
   "source": [
    "Starting here write your own code in these functions"
   ]
  },
  {
   "cell_type": "code",
   "execution_count": 56,
   "metadata": {},
   "outputs": [],
   "source": [
    "def costFun(param, Y, r, n_lenders, n_loans, n_features, lamba):\n",
    "\n",
    "    X = param[0:(n_loans * n_features)].reshape(n_loans,n_features)\n",
    "    Theta = param[0:(n_features * n_lenders)].reshape(n_features , n_lenders)\n",
    "    x = np.dot(X,np.transpose(Theta))\n",
    "    y = np.nansum(np.square(x-Y)/2 * r) \n",
    "    reg1 = (lamba/2) * np.sum(np.square(Theta))\n",
    "    reg2 = (lamba/2) * np.sum(np.square(X))\n",
    "    \n",
    "    return y+reg1+reg2\n",
    "\n",
    "def cost_grad(param, Y, r, n_lenders, n_loans, n_features, lamba):    \n",
    "    X = param[0:(n_loans * n_features)].reshape(n_loans,n_features)\n",
    "    Theta = param[0:(n_features * n_lenders)].reshape(n_features, n_lenders)\n",
    "    x = np.dot(X,np.transpose(Theta))\n",
    "\n",
    "    X_grad = np.dot(((x - Y) * r), Theta) + lamba * X\n",
    "    Theta_grad = np.dot(np.transpose((x - Y) * r),X) + lamba * Theta\n",
    "    \n",
    "    grad = X_grad, Theta_grad\n",
    "    return grad"
   ]
  },
  {
   "cell_type": "code",
   "execution_count": 63,
   "metadata": {},
   "outputs": [],
   "source": [
    "def optimizeCost(param, Y, r, n_lenders, n_loans, n_features, lamba, step, maxrun):\n",
    "    # Write your code here\n",
    "    cost_range =[]\n",
    "    for i in range(maxrun):\n",
    "        cost = costFun(param, Y, r, n_lenders, n_loans, n_features, lamba)\n",
    "        cost_range.append(cost) \n",
    "        X = param[0:(n_loans * n_features)].reshape(n_loans,n_features)\n",
    "        Theta = param[0:(n_features * n_lenders)].reshape(n_features, n_lenders) \n",
    "        X_grad, Theta_grad = cost_grad(param, Y, r, n_lenders, n_loans, n_features, lamba)  \n",
    "        X -= step * X_grad\n",
    "\n",
    "        Theta -= step * Theta_grad\n",
    "      \n",
    "        param = np.concatenate((X.reshape(n_loans * n_features, 1, order = \"F\"),\n",
    "                             Theta.reshape(n_lenders * n_features, 1, order = \"F\")))\n",
    "        param = np.squeeze(param)\n",
    "\n",
    "\n",
    "    return param,cost_range"
   ]
  },
  {
   "cell_type": "code",
   "execution_count": 72,
   "metadata": {},
   "outputs": [
    {
     "data": {
      "text/plain": [
       "array([[-0.13756339,  1.32990777,  0.6293441 ,  0.64438289,  0.80708717,\n",
       "        -0.25269124,  0.36464084,  0.55388743,  0.21092193,  0.83388524],\n",
       "       [ 1.29914981,  0.31244847, -0.45231679,  1.11383908,  0.54807608,\n",
       "         0.73337848,  0.85142714,  1.48848142,  0.19166116,  0.10126919],\n",
       "       [ 0.62009633,  0.03446035,  0.50317662, -0.10761707,  0.77748693,\n",
       "         0.6329411 ,  0.21544495,  0.14882401,  0.8730041 ,  0.8914016 ],\n",
       "       [ 0.64780586,  0.48770854, -0.21887506,  0.52074396,  0.12959803,\n",
       "         0.49023321,  0.34827491, -0.07571747,  1.57494132,  0.57824096],\n",
       "       [ 0.79117244,  0.49975926,  0.35090691,  0.34205613,  0.57202861,\n",
       "         0.35216858, -0.03950417,  1.02392643, -0.01093472,  0.01036171],\n",
       "       [-0.25834962,  0.56373885,  1.19230322,  0.25099563,  0.63480446,\n",
       "         0.81107842,  0.63710853,  0.89613273,  0.61537246,  0.22460817],\n",
       "       [ 0.34801086,  0.50622956,  0.42914297,  0.08682116,  0.8581139 ,\n",
       "        -0.18045366,  0.35147527,  0.49155952,  0.33403234,  1.09544918],\n",
       "       [ 0.53735453,  0.20542207,  0.83484684,  0.97743813,  0.37996486,\n",
       "         0.46131155, -0.20503019,  1.14649565,  0.69871911,  0.68459312],\n",
       "       [ 0.19795308,  0.32808953,  0.26465403,  1.85128867,  0.30639402,\n",
       "         0.59066759,  1.15681364,  0.18053996,  1.14190001,  0.30623021],\n",
       "       [ 0.83044063,  0.94015564,  0.83011774, -0.16711213,  0.36223307,\n",
       "         1.25789817,  0.55311299,  0.90965446, -0.37276168, -0.09683189],\n",
       "       [ 1.31574906,  0.31708028,  0.04040709,  0.49775334,  0.50936702,\n",
       "         0.573087  ,  0.51376533,  0.21696107,  0.32712874,  0.94770003],\n",
       "       [ 0.3179571 , -0.01023573,  0.65129799, -0.03209308,  0.25451754,\n",
       "        -0.09853324, -0.02395003,  0.38332215,  0.20898588,  0.31911128],\n",
       "       [-0.4507375 ,  0.65107425,  0.95925684,  0.45913851,  0.39861425,\n",
       "        -0.35233228,  0.51479549,  0.40834965,  0.28563898,  0.2078865 ],\n",
       "       [ 1.12302672, -0.03347763,  0.02887136,  0.31209544,  0.50855703,\n",
       "         0.39977819,  0.27322291,  0.63194148,  0.51406937,  0.96946086],\n",
       "       [ 0.55653369,  0.2542433 ,  0.59105353,  0.42796037,  0.07487875,\n",
       "         0.09850615,  0.30435318,  0.4183279 ,  0.3906201 ,  0.2510222 ],\n",
       "       [ 0.73421239, -0.10152271, -0.2564475 ,  0.48015951,  0.20160789,\n",
       "         0.36055047,  0.49972409,  0.1328234 ,  0.69777033,  0.20089526],\n",
       "       [ 0.85307515, -0.02321624, -0.00627569, -0.03445514,  0.5455382 ,\n",
       "         0.28112459,  0.16681365,  0.74945835,  0.31386598,  0.33834511],\n",
       "       [ 1.49213795,  0.38389465,  0.02290825,  0.13000573,  0.2125065 ,\n",
       "         0.62337376,  0.54324841,  0.37657694,  0.47299617,  0.46814776],\n",
       "       [ 0.19396531,  0.21507567,  0.22429837, -0.04607107,  0.04972995,\n",
       "         0.3736012 ,  0.45995586,  0.13073479, -0.05468345,  0.63694748],\n",
       "       [ 0.10564287,  0.31878366,  0.53129738,  0.18959329,  0.41131428,\n",
       "         0.11150528,  0.6486029 ,  0.57102163,  0.53487097,  0.4092948 ],\n",
       "       [ 0.62818851, -0.45355203,  0.50985386, -0.21434349,  0.35850418,\n",
       "         1.21930502,  0.44616657,  0.85807475,  0.27962667,  0.84239487],\n",
       "       [ 0.03477104,  0.64443173,  0.95356716,  0.02596645,  0.58967066,\n",
       "        -0.26003255, -0.01149738,  0.01867632,  0.22474507,  0.53632105],\n",
       "       [ 0.50296767,  0.95514562,  1.10191121,  0.60571812,  0.53644979,\n",
       "         0.40487923,  0.27306077,  0.30242517,  0.26588168,  0.2634023 ],\n",
       "       [-0.11744554,  0.45729854,  0.60591934,  1.32100299,  0.55209179,\n",
       "         0.70303903,  0.16009871, -0.20004758,  1.05952332,  0.84142432],\n",
       "       [ 0.77213941,  0.39717179,  0.53792987,  0.0718473 ,  0.16537908,\n",
       "         0.5853765 ,  0.2453278 ,  0.52371442,  0.63294792,  0.72432025],\n",
       "       [ 0.6302093 , -0.3590592 ,  0.40686921,  0.3835569 ,  0.4918644 ,\n",
       "         0.17728463, -0.12275433,  0.37604231,  0.13321303,  0.07167173],\n",
       "       [ 0.20582173,  0.51356266,  0.27716365,  0.16952591,  0.247412  ,\n",
       "         0.35139336,  0.40651978,  0.66333747,  0.04672429, -0.19978751],\n",
       "       [ 0.15029295,  0.41428689,  0.30245938, -0.03444192,  0.5462454 ,\n",
       "         0.09696921, -0.0209525 , -0.07246961,  0.31725201,  0.79570576],\n",
       "       [ 0.86720556,  0.28175608,  0.26035631,  0.33609293,  0.28612028,\n",
       "         0.5108239 ,  0.75734585,  0.34921061,  0.27682015,  0.36911334],\n",
       "       [ 0.88644862,  0.20338392,  0.26310642,  0.16022554,  0.30560391,\n",
       "         0.28521596,  0.34669025,  0.5735301 ,  0.10293692,  0.47339351],\n",
       "       [ 0.64590468,  1.12539058, -0.12193488,  0.52409283,  0.33812107,\n",
       "         0.25287883,  0.08343968,  0.98834457,  1.87825719, -0.17349805],\n",
       "       [ 0.49251146, -0.03550714,  0.45216109,  0.31338431,  0.43161778,\n",
       "         0.48736929, -0.03333644,  0.12573092, -0.05120332,  0.1944686 ],\n",
       "       [-0.21990666,  0.02939706,  0.6098798 ,  1.32198461,  0.07492175,\n",
       "         0.38961307,  0.17061266, -0.03324587,  0.34477163,  0.16394193],\n",
       "       [ 0.52320676,  0.31438595,  1.31856588,  0.04196259,  0.04511886,\n",
       "         0.32491838,  0.17478307,  0.2847582 ,  0.54093392,  0.17774908],\n",
       "       [ 0.12538364,  0.51348223,  0.55676626,  0.04675085,  0.38119735,\n",
       "         0.21089946,  0.48391525, -0.11628303,  0.48835659,  0.68096828],\n",
       "       [ 0.5007772 ,  0.39659868,  0.70045684,  0.32907203,  0.14978293,\n",
       "         0.06158566,  0.33100208,  0.15111574,  0.37696995,  0.43787927],\n",
       "       [ 0.35277675,  0.27865299,  0.16204094,  0.17338146,  0.49216358,\n",
       "        -0.05469131,  0.31439074, -0.35047313,  0.52213036, -0.00279033],\n",
       "       [-0.08239568,  0.63483222, -0.19573387,  0.28444909,  0.26136589,\n",
       "         0.70443203,  0.2054555 , -0.06048337,  0.5811504 ,  0.02687112],\n",
       "       [ 1.58059284,  0.50440065,  1.06430679,  0.54383986,  0.51861954,\n",
       "         0.2823092 ,  0.43309691,  0.22988886, -0.33148416,  0.43356421],\n",
       "       [ 0.58035151,  0.97348985,  0.83916076,  0.17714109,  0.19167622,\n",
       "         0.42309921,  0.02955462,  0.33301311,  0.41439099,  0.02009067],\n",
       "       [ 0.7945556 ,  0.55790088,  0.77272445,  0.13390784,  0.57295459,\n",
       "         0.63707651,  0.86661061,  0.3895645 ,  0.31043961,  0.36230761],\n",
       "       [ 0.50259517,  0.25415834,  0.39862846,  0.50979687,  0.07502951,\n",
       "         0.20010281,  0.54574148,  0.21215925,  0.05200858,  0.41296409],\n",
       "       [ 0.34925488,  0.59566065,  0.54190828,  0.55555125,  0.1690304 ,\n",
       "         0.49262307,  0.24919815,  0.54123425,  0.29286105,  0.30803675],\n",
       "       [ 0.34284524,  0.4299481 ,  0.0731908 ,  0.05310777,  0.38187073,\n",
       "         0.15667007,  0.4866165 ,  0.25991277,  0.5229437 ,  0.19377304],\n",
       "       [ 0.57058547,  0.07483691,  0.16885979,  0.37722891,  0.30560828,\n",
       "         0.50725844,  0.30599895,  0.26044693,  0.16103861,  0.21319024],\n",
       "       [ 0.35483276,  0.09294538,  0.58127891,  0.20230333,  0.50341428,\n",
       "         0.36060559,  0.29275547,  0.37713284,  0.76852742,  0.57708417],\n",
       "       [-0.0424248 ,  0.30297451,  0.24369854,  0.47433943,  0.30968828,\n",
       "         0.35807353,  0.47824926,  0.61285659,  0.4864212 ,  0.28072196],\n",
       "       [ 1.02826933,  0.42032982,  0.52071916, -0.11667482,  0.25939672,\n",
       "         0.32292923,  0.43603983,  0.23173448, -0.03891557,  0.47750887],\n",
       "       [-0.00820144,  0.39401704,  0.63309787,  0.49432712,  0.15745738,\n",
       "        -0.02633178,  0.63592019,  0.46778857,  0.22753821,  0.32882425],\n",
       "       [ 0.0127671 ,  0.25295661,  0.72448558,  0.67844187,  0.21311885,\n",
       "         0.40015527,  0.29042641,  0.15345327,  0.15756192,  0.08217307],\n",
       "       [-0.26329571,  0.7321872 ,  0.63400845,  0.50912419,  0.3569587 ,\n",
       "         0.82449156, -0.18372786,  0.46878514,  0.59633241,  1.26877585],\n",
       "       [ 0.5610061 , -0.10317692, -0.35416913,  0.39295127,  0.09310925,\n",
       "         0.36189028,  0.27679059,  0.62660567,  0.37200223,  0.11366625],\n",
       "       [ 1.20278422, -0.25720413,  0.40986206,  0.70153905,  0.5892151 ,\n",
       "         0.18303785,  0.35579483,  0.09390946,  0.5265046 ,  0.29030679],\n",
       "       [ 0.25192329,  0.48876923,  0.38545481,  0.33193854,  0.20776278,\n",
       "         0.06067442, -0.05346919,  0.69843438,  0.2827031 ,  0.42789248],\n",
       "       [ 0.63815534,  0.20249527,  0.49735213,  0.15705881,  0.50714763,\n",
       "         0.36405763,  0.35903952,  0.32553775, -0.02477609,  0.40112838],\n",
       "       [ 0.81498668,  0.36147762,  0.18008481,  0.05959804,  0.36523874,\n",
       "         0.52815515,  0.42697656,  0.21734635,  0.16892564,  0.22324904],\n",
       "       [ 0.63330911,  0.50505149, -0.11940753,  0.32778868,  0.29526888,\n",
       "         0.42916114,  0.27839668,  0.87281937,  0.71081073, -0.04368401],\n",
       "       [ 0.90213652,  0.13658719,  0.38305451,  0.14515565,  0.3786199 ,\n",
       "         0.21584263,  0.30710875,  0.05710375,  0.82740757,  0.92446733],\n",
       "       [ 0.61732697,  0.69701478,  0.13193859,  0.36958726,  0.77163688,\n",
       "         0.17250217,  0.07534101,  0.56132056,  0.07564974,  0.42581888],\n",
       "       [ 0.21830944,  0.20262391,  0.07837614,  0.43061985,  0.58307324,\n",
       "         0.21842813,  0.8187939 ,  0.57860698, -0.04351285,  0.06081632],\n",
       "       [ 0.35540488,  0.86260187,  0.21553106,  0.35781193, -0.03699442,\n",
       "         0.64477356,  0.35534092, -0.20090345,  1.18374207,  0.5588408 ],\n",
       "       [ 0.50713282, -0.02317613,  0.51009964,  0.27700709,  0.29880508,\n",
       "         0.50321277,  0.16942549,  0.54217131,  0.45424715,  0.65029054],\n",
       "       [ 0.43377177, -0.00634051,  0.28071568,  0.16420956,  0.24472046,\n",
       "        -0.11654497,  0.40870237, -0.02378222,  0.76391282,  0.34730094],\n",
       "       [ 0.08293035, -0.03219523,  0.16998772,  0.17358691,  0.47720707,\n",
       "         0.33000934,  0.31311621,  0.20535225,  0.43290101,  0.03111617],\n",
       "       [ 0.85888388,  0.54461719,  0.25385715,  0.48095903,  0.30923614,\n",
       "         0.29664154,  0.47684135,  0.43117778,  0.63422401,  0.2919193 ],\n",
       "       [-0.18399635,  0.27940541,  0.34868601, -0.0606958 ,  0.35693826,\n",
       "         0.42835788,  0.27230895,  0.31093111,  0.07414974,  0.81968874],\n",
       "       [ 0.34919258,  0.16798606,  0.40584782,  0.30730105,  0.47796693,\n",
       "         0.27837836,  0.17095776,  0.28325617,  1.02132918,  0.55949564],\n",
       "       [ 0.49470388,  0.74805465,  0.6568157 , -0.34998519,  0.61190344,\n",
       "         0.87102329,  0.28183834,  0.17630748,  0.1852703 , -0.13240322],\n",
       "       [ 0.3364846 ,  0.3125136 ,  0.04665053,  0.51670191,  0.49030846,\n",
       "         0.71133079,  1.02320188,  0.22152433,  0.47377573,  0.59101995],\n",
       "       [ 1.09969531,  0.34300732, -0.19602695, -0.0057284 ,  0.28344358,\n",
       "        -0.04544146,  0.56416587,  0.50047129,  0.31672181,  0.02740246],\n",
       "       [ 0.53254262,  1.50040139,  0.14355966, -0.07919244,  1.0270846 ,\n",
       "         0.90006969,  0.49363249,  1.15172934,  0.18319837,  0.91490577],\n",
       "       [ 0.21055244,  0.37755591,  0.40462914,  0.62607013,  0.415686  ,\n",
       "         0.1350204 ,  0.74672242,  0.37549833,  0.12636563,  0.57004689],\n",
       "       [ 0.84649309,  0.03082388,  0.30778812, -0.18799905,  0.52752613,\n",
       "         0.38977515,  0.66859885, -0.06804299,  0.36125478,  0.58182922],\n",
       "       [ 0.99267797,  0.13446798, -0.03278607,  0.29282947, -0.11419457,\n",
       "         0.15116173, -0.35037062, -0.05854763,  0.24215092,  0.34062542],\n",
       "       [ 0.38741913,  0.21215501,  0.54656174,  0.25323733,  0.26179913,\n",
       "         0.37489721,  0.60874799,  0.23372861,  0.46461554,  0.15661755],\n",
       "       [ 0.46580356,  0.62324876,  0.09657747,  0.69423043,  0.32333855,\n",
       "         0.21663274,  0.87214249,  0.05212453,  0.5636798 ,  0.57799554],\n",
       "       [-0.20955267,  0.54850159, -0.02394412,  0.20823868,  0.43371   ,\n",
       "         0.31100126,  0.28293656,  0.18326993,  0.22092635,  0.50343167],\n",
       "       [ 1.15556564,  0.38140214, -0.07653476, -0.06342255,  0.22982627,\n",
       "         0.05645934,  0.17998542,  0.37753341,  0.26223619,  1.04372777],\n",
       "       [ 0.70183936,  0.47428915,  0.31326939,  0.58359803, -0.03928265,\n",
       "         0.82786827,  0.1853878 ,  0.25974685, -0.18424215, -0.25309633],\n",
       "       [ 0.68763805,  0.46728667,  0.78954024,  0.02611022,  0.4789582 ,\n",
       "         0.92444375, -0.13173216,  1.04084906, -0.05991312, -0.07068105],\n",
       "       [ 0.20643807,  0.1946165 ,  0.8685296 ,  1.58863995, -0.00834658,\n",
       "         0.62024467,  0.33619151,  0.71004011,  1.15466153, -0.38250725],\n",
       "       [ 0.32478613,  0.20590936,  0.28062659,  0.51096215,  0.38904171,\n",
       "         0.69907394,  0.31058675,  0.47180604, -0.05050178,  0.53607562],\n",
       "       [ 0.26579645,  0.22412313,  0.26772303,  1.06510487,  0.63833329,\n",
       "         0.13425039,  0.04121895,  0.3138429 ,  0.28250711,  0.10543279],\n",
       "       [ 1.86396104, -0.04796935,  0.34490104,  0.54429629,  0.4938084 ,\n",
       "         0.37752837,  0.51884914,  0.58260231, -0.33099779,  0.40875146],\n",
       "       [ 0.31370892,  0.05312183,  0.28917478,  0.51905819,  0.16245566,\n",
       "         0.78015686,  0.49326475, -0.03502661,  0.22981685,  0.1618884 ],\n",
       "       [ 0.58813759,  0.37414914,  0.51888584,  0.27907188, -0.0279066 ,\n",
       "         0.16598842,  0.70964752,  0.82984106,  0.08307901, -0.04224694],\n",
       "       [ 1.17564497,  0.45713619,  0.75370254,  0.43031872,  0.63436378,\n",
       "         0.07754722,  1.02718821,  0.1819249 ,  0.47945416,  0.3084132 ],\n",
       "       [ 0.17844485,  0.13486426,  0.35653289,  0.23478329,  0.47245255,\n",
       "         0.56592707,  0.22369113,  0.26310445, -0.1829454 , -0.05985924],\n",
       "       [ 1.15475723, -0.05225406,  0.27951551, -0.32979638,  0.22839385,\n",
       "         0.07963566,  0.48005241, -0.18187498,  0.03620241,  0.68949574],\n",
       "       [ 0.30850802,  0.64003216,  0.37437102,  0.42826524,  0.33166814,\n",
       "         0.42837295,  0.58984087, -0.25058094,  0.68488515,  0.17124706],\n",
       "       [ 0.82993428,  0.09995971,  0.89880585,  0.57570279,  0.00814262,\n",
       "         0.21732097,  1.10387744,  0.68605625,  0.31206275, -0.09981872],\n",
       "       [ 0.9383718 ,  0.32094203,  0.20968072,  0.96721656,  0.25411676,\n",
       "         0.19847158,  0.34086759,  0.46365537,  0.63364315,  0.41161011],\n",
       "       [ 0.82612776,  0.53826395,  0.2653694 ,  0.84686783,  0.727158  ,\n",
       "         0.07174744, -0.19821408,  0.79133171,  0.36901904,  0.47581135],\n",
       "       [-0.16700265,  0.19386915,  0.16402863,  0.18495178,  0.68604157,\n",
       "         0.44168756, -0.00316723,  0.02966846,  0.43683773,  0.01888883],\n",
       "       [ 0.36656137,  0.40541607,  0.30080328,  0.193411  ,  0.21048244,\n",
       "         0.58313067,  0.28244699,  0.47956665,  0.32919714,  0.08094024],\n",
       "       [ 1.25909708,  0.11231705,  0.28402427,  0.42273374,  0.39689503,\n",
       "         0.21862052, -0.04217508,  0.9199115 ,  0.43033403,  0.056326  ],\n",
       "       [ 0.55198094,  0.65174121,  0.34608439,  0.03512344,  0.28932626,\n",
       "         0.81581114,  0.56705114, -0.13095904,  0.58412497,  0.02291552],\n",
       "       [ 0.90809024,  0.57450762,  0.57634863,  0.33358058,  0.15471694,\n",
       "         0.57578674,  0.50762188,  1.03932973, -0.25027984, -0.07080695],\n",
       "       [-0.3756842 ,  0.53638966,  0.10369019,  0.40718747,  0.15805486,\n",
       "        -0.04520376,  0.31357609, -0.05920611,  0.68625291,  0.17341926],\n",
       "       [-0.09885748,  0.41240997,  0.47964119,  0.02021529,  0.08186161,\n",
       "         0.06311147,  0.02800434, -0.0715622 ,  0.17332698,  0.13079022]])"
      ]
     },
     "execution_count": 72,
     "metadata": {},
     "output_type": "execute_result"
    }
   ],
   "source": [
    "    j1 = np.dot(X,np.transpose(Theta))\n",
    "    j2 = np.square(np.dot(X,np.transpose(Theta))-Y)\n",
    "    j3 = np.square(np.dot(X,np.transpose(Theta))-Y)/2\n",
    "    j4 =  np.square(np.dot(X,np.transpose(Theta))-Y)/2 * r\n",
    "    j5 = np.nansum(np.square(np.dot(X,np.transpose(Theta))-Y)/2 * r) "
   ]
  },
  {
   "cell_type": "code",
   "execution_count": 78,
   "metadata": {},
   "outputs": [],
   "source": [
    "def costFun(param, Y, r, n_lenders, n_loans, n_features, lamba):\n",
    "    \n",
    "#X-loaners theta-lenders\n",
    "    X = param[0:(n_loans * n_features)].reshape(n_loans,n_features)\n",
    "    Theta = param[0:(n_features * n_lenders)].reshape(n_features , n_lenders)\n",
    "    y = np.nansum(np.square(np.dot(X,np.transpose(Theta))-Y)/2 * r) \n",
    "\n",
    "    #Regularization for lender and loaner\n",
    "    regX = (lamba/2) * np.sum(np.square(X))\n",
    "    regT = (lamba/2) * np.sum(np.square(Theta))\n",
    "    \n",
    "    return y+regT+regX\n",
    "   \n",
    "    \n",
    "    \n",
    "    \n",
    "def cost_grad(param, Y, r, n_lenders, n_loans, n_features, lamba):\n",
    "    \n",
    "#X-loaners theta-lenders\n",
    "    X = param[0:(n_loans * n_features)].reshape(n_loans,n_features)\n",
    "    Theta = param[0:(n_features * n_lenders)].reshape(n_features, n_lenders)\n",
    "\n",
    "#Gradient Cost Equation\n",
    "    X_grad = np.dot(((np.dot(X,np.transpose(Theta)) - Y) * r), Theta) + lamba * X\n",
    "    Theta_grad = np.dot(np.transpose((np.dot(X,np.transpose(Theta)) - Y) * r),X) + lamba * Theta\n",
    "    \n",
    "    grad = X_grad, Theta_grad\n",
    "    \n",
    "    return grad\n",
    "    \n",
    "def optimizeCost(param, Y, r, n_lenders, n_loans, n_features, lamba, step, maxrun):\n",
    "    # Write your code here\n",
    "    \n",
    "    return param,cost_range\n",
    "\n",
    "\n"
   ]
  },
  {
   "cell_type": "code",
   "execution_count": 77,
   "metadata": {},
   "outputs": [
    {
     "data": {
      "text/plain": [
       "array([[-0.13756339],\n",
       "       [ 1.32990777],\n",
       "       [ 0.6293441 ],\n",
       "       ...,\n",
       "       [ 0.68605625],\n",
       "       [ 0.31206275],\n",
       "       [-0.09981872]])"
      ]
     },
     "execution_count": 77,
     "metadata": {},
     "output_type": "execute_result"
    }
   ],
   "source": [
    "np.concatenate((X.reshape(n_loans * n_features, 1, order = \"F\"),\n",
    "                             Theta.reshape(n_lenders * n_features, 1, order = \"F\")))"
   ]
  },
  {
   "cell_type": "code",
   "execution_count": 79,
   "metadata": {},
   "outputs": [
    {
     "data": {
      "image/png": "[encoded data removed]",
      "text/plain": [
       "<Figure size 432x288 with 1 Axes>"
      ]
     },
     "metadata": {},
     "output_type": "display_data"
    },
    {
     "name": "stdout",
     "output_type": "stream",
     "text": [
      "\n",
      "Top 3 recommendations for lender 1:\n",
      "\n",
      "Predicted rating 5.2 for loan of  3.000,00 €  for 36 months with car purpose at 18.6 percent interest\n",
      "\n",
      "Predicted rating 4.8 for loan of  17.500,00 €  for 60 months with credit_card purpose at 17.3 percent interest\n",
      "\n",
      "Predicted rating 3.8 for loan of  6.000,00 €  for 36 months with major_purchase purpose at 11.7 percent interest\n",
      "\n",
      "\n",
      "Top 3 recommendations for lender 2:\n",
      "\n",
      "Predicted rating 7.5 for loan of  5.000,00 €  for 36 months with wedding purpose at 7.9 percent interest\n",
      "\n",
      "Predicted rating 6.8 for loan of  24.000,00 €  for 36 months with debt_consolidation purpose at 10.7 percent interest\n",
      "\n",
      "Predicted rating 6.8 for loan of  6.000,00 €  for 36 months with medical purpose at 11.7 percent interest\n",
      "\n",
      "\n",
      "Top 3 recommendations for lender 3:\n",
      "\n",
      "Predicted rating 4.9 for loan of  10.000,00 €  for 60 months with debt_consolidation purpose at 10.7 percent interest\n",
      "\n",
      "Predicted rating 4.6 for loan of  17.675,00 €  for 60 months with debt_consolidation purpose at 14.7 percent interest\n",
      "\n",
      "Predicted rating 4.0 for loan of  5.000,00 €  for 36 months with debt_consolidation purpose at 8.9 percent interest\n",
      "\n",
      "\n",
      "Top 3 recommendations for lender 4:\n",
      "\n",
      "Predicted rating 7.0 for loan of  3.000,00 €  for 36 months with car purpose at 18.6 percent interest\n",
      "\n",
      "Predicted rating 6.6 for loan of  12.000,00 €  for 36 months with debt_consolidation purpose at 13.5 percent interest\n",
      "\n",
      "Predicted rating 6.2 for loan of  2.400,00 €  for 36 months with small_business purpose at 16.0 percent interest\n",
      "\n",
      "\n",
      "Top 3 recommendations for lender 5:\n",
      "\n",
      "Predicted rating 5.2 for loan of  12.000,00 €  for 36 months with debt_consolidation purpose at 13.5 percent interest\n",
      "\n",
      "Predicted rating 5.2 for loan of  12.000,00 €  for 36 months with debt_consolidation purpose at 7.9 percent interest\n",
      "\n",
      "Predicted rating 4.0 for loan of  5.375,00 €  for 60 months with other purpose at 12.7 percent interest\n",
      "\n",
      "\n",
      "Top 3 recommendations for lender 6:\n",
      "\n",
      "Predicted rating 6.7 for loan of  11.000,00 €  for 36 months with debt_consolidation purpose at 6.6 percent interest\n",
      "\n",
      "Predicted rating 6.4 for loan of  24.000,00 €  for 36 months with debt_consolidation purpose at 10.7 percent interest\n",
      "\n",
      "Predicted rating 6.1 for loan of  6.400,00 €  for 36 months with debt_consolidation purpose at 16.8 percent interest\n",
      "\n",
      "\n",
      "Top 3 recommendations for lender 7:\n",
      "\n",
      "Predicted rating 5.3 for loan of  1.000,00 €  for 36 months with debt_consolidation purpose at 16.3 percent interest\n",
      "\n",
      "Predicted rating 5.0 for loan of  6.000,00 €  for 36 months with debt_consolidation purpose at 13.5 percent interest\n",
      "\n",
      "Predicted rating 4.6 for loan of  10.500,00 €  for 36 months with medical purpose at 12.7 percent interest\n",
      "\n",
      "\n",
      "Top 3 recommendations for lender 8:\n",
      "\n",
      "Predicted rating 6.5 for loan of  11.800,00 €  for 36 months with credit_card purpose at 12.7 percent interest\n",
      "\n",
      "Predicted rating 6.3 for loan of  3.600,00 €  for 36 months with major_purchase purpose at 6.0 percent interest\n",
      "\n",
      "Predicted rating 6.2 for loan of  6.000,00 €  for 36 months with debt_consolidation purpose at 13.5 percent interest\n",
      "\n",
      "\n",
      "Top 3 recommendations for lender 9:\n",
      "\n",
      "Predicted rating 9.5 for loan of  8.500,00 €  for 36 months with credit_card purpose at 11.7 percent interest\n",
      "\n",
      "Predicted rating 9.3 for loan of  10.000,00 €  for 36 months with credit_card purpose at 14.3 percent interest\n",
      "\n",
      "Predicted rating 8.7 for loan of  20.975,00 €  for 60 months with credit_card purpose at 17.6 percent interest\n",
      "\n",
      "\n",
      "Top 3 recommendations for lender 10:\n",
      "\n",
      "Predicted rating 4.6 for loan of  6.400,00 €  for 36 months with debt_consolidation purpose at 16.8 percent interest\n",
      "\n",
      "Predicted rating 4.6 for loan of  24.000,00 €  for 36 months with debt_consolidation purpose at 10.7 percent interest\n",
      "\n",
      "Predicted rating 4.5 for loan of  10.000,00 €  for 36 months with other purpose at 10.7 percent interest\n",
      "\n"
     ]
    }
   ],
   "source": [
    "n_lenders = np.size(Y, 1)\n",
    "n_loans = np.size(Y, 0)\n",
    "n_features = 10\n",
    "# Initialization\n",
    "X = np.random.normal(loc = 0.0, scale = 1.0, size = (n_loans, n_features))\n",
    "Theta = np.random.normal(loc = 0.0, scale = 1.0, size = (n_lenders,n_features))\n",
    "init_param = np.concatenate((X.reshape(n_loans * n_features, 1, order = \"F\"),\n",
    "                             Theta.reshape(n_lenders * n_features, 1, order = \"F\")))\n",
    "init_param = np.squeeze(init_param)\n",
    "\n",
    "# Optimization\n",
    "lamba = 10\n",
    "maxrun = 10000\n",
    "step = 0.001\n",
    "\n",
    "param,cost_range = optimizeCost(init_param, Y, R, n_lenders, n_loans, \\\n",
    "                     n_features, lamba, step, maxrun)\n",
    "# now plot the cost\n",
    "plt.plot(cost_range,\"b.\",markersize=1,label=\"Cost\") # note: this is 0-based\n",
    "plt.show()\n",
    "    \n",
    "# Extract X and Theta from param vector\n",
    "X = param[0:(n_loans * n_features)]\n",
    "Theta = param[(n_loans * n_features):len(param)]\n",
    "X = X.reshape(n_loans, n_features, order = \"F\")\n",
    "Theta = Theta.reshape(n_lenders, n_features, order = \"F\")\n",
    "pred = np.dot(X, Theta.T)\n",
    "\n",
    "# print out top 3 ratings for each lender\n",
    "top_n = 3\n",
    "for j in range(n_lenders):\n",
    "    rating = np.sort(pred[:, j])[::-1]\n",
    "    ind = np.argsort(pred[:, j])[::-1]\n",
    "    a = info[ind,:]\n",
    "    print('\\nTop %d recommendations for lender %d:\\n' % (top_n, (j+1)))\n",
    "    for i in range(top_n):\n",
    "        print('Predicted rating %.1f for loan of  %s  for %s with %s purpose at %.1f percent interest\\n' %\n",
    "        (rating[i], locale.currency(np.float(a[i, 0]),grouping=True), a[i, 1], a[i, 6], np.float(a[i,2])))  "
   ]
  },
  {
   "cell_type": "code",
   "execution_count": null,
   "metadata": {},
   "outputs": [],
   "source": []
  }
 ],
 "metadata": {
  "kernelspec": {
   "display_name": "Python 3",
   "language": "python",
   "name": "python3"
  },
  "language_info": {
   "codemirror_mode": {
    "name": "ipython",
    "version": 3
   },
   "file_extension": ".py",
   "mimetype": "text/x-python",
   "name": "python",
   "nbconvert_exporter": "python",
   "pygments_lexer": "ipython3",
   "version": "3.7.3"
  }
 },
 "nbformat": 4,
 "nbformat_minor": 2
}
