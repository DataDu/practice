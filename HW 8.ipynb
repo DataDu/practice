{
 "cells": [
  {
   "cell_type": "code",
   "execution_count": 26,
   "metadata": {},
   "outputs": [],
   "source": [
    "sc.stop()\n",
    "\n",
    "from pyspark.conf import SparkConf\n",
    "from pyspark.context import SparkContext\n",
    "from pyspark.sql import SparkSession\n",
    "from operator import add\n",
    "conf = SparkConf().setAppName(\"MLlib\")\n",
    "sc = SparkContext(conf=conf)\n",
    "sc.setLogLevel(\"WARN\")\n",
    "# sc.stop() if need to \n",
    "\n",
    "spark = SparkSession(sc)"
   ]
  },
  {
   "cell_type": "code",
   "execution_count": 27,
   "metadata": {},
   "outputs": [
    {
     "data": {
      "text/plain": [
       "[Row(_1='526', _2=221.5500000000001),\n",
       " Row(_1='148', _2=216.5400000000001),\n",
       " Row(_1='144', _2=195.58000000000007),\n",
       " Row(_1='137', _2=194.61000000000007),\n",
       " Row(_1='178', _2=194.61000000000007)]"
      ]
     },
     "execution_count": 27,
     "metadata": {},
     "output_type": "execute_result"
    }
   ],
   "source": [
    "#Q1\n",
    "def parseLine(x):\n",
    "    pay_id = x.split(',')[1].replace('\"','')\n",
    "    amt = float(x.split(',')[4].replace('\"',''))\n",
    "    return (pay_id, amt)\n",
    "\n",
    "\n",
    "pay = sc.textFile(\"payment.csv\")\n",
    "pay_first = pay.first()\n",
    "pay.filter(lambda x: x != pay_first).map(parseLine).reduceByKey(add)\\\n",
    ".sortBy(lambda x: x[1], ascending = False)\\\n",
    ".toDF()\\\n",
    ".take(5)"
   ]
  },
  {
   "cell_type": "code",
   "execution_count": 28,
   "metadata": {},
   "outputs": [
    {
     "data": {
      "text/plain": [
       "[Row(_1='32', _2='2005-05-25 04:06:21', _3='2005-05-25 23:55:21', _4='1'),\n",
       " Row(_1='21', _2='2005-05-25 01:59:46', _3='2005-05-26 01:01:46', _4='2'),\n",
       " Row(_1='14', _2='2005-05-25 00:31:15', _3='2005-05-26 02:56:15', _4='1'),\n",
       " Row(_1='16', _2='2005-05-25 00:43:11', _3='2005-05-26 04:42:11', _4='2'),\n",
       " Row(_1='22', _2='2005-05-25 02:19:23', _3='2005-05-26 04:52:23', _4='2')]"
      ]
     },
     "execution_count": 28,
     "metadata": {},
     "output_type": "execute_result"
    }
   ],
   "source": [
    "#Q2\n",
    "def parseLine2(x):\n",
    "    rental_id = x.split(',')[0].replace('\"','')\n",
    "    rental_date = x.split(',')[1].replace('\"','')\n",
    "    return_date = x.split(',')[4].replace('\"','')\n",
    "    staff_id = x.split(',')[5].replace('\"','')\n",
    "    return (rental_id, rental_date, return_date, staff_id)\n",
    "\n",
    "rental = sc.textFile(\"rental.csv\")\n",
    "rental_first = rental.first()\n",
    "rental.filter(lambda x: x != rental_first).map(parseLine2)\\\n",
    ".sortBy(lambda x: x[2], ascending = True)\\\n",
    ".toDF()\\\n",
    ".take(5)"
   ]
  },
  {
   "cell_type": "code",
   "execution_count": 29,
   "metadata": {},
   "outputs": [
    {
     "data": {
      "text/plain": [
       "defaultdict(int, {'1': 8040, '2': 8004})"
      ]
     },
     "execution_count": 29,
     "metadata": {},
     "output_type": "execute_result"
    }
   ],
   "source": [
    "#Q3\n",
    "staff = rental.filter(lambda x: x != rental_first).map(parseLine2)\\\n",
    "        .sortBy(lambda x: x[3], ascending = True)\\\n",
    "        .map(lambda x: (x[3]))\\\n",
    "        .countByKey()\n",
    "staff"
   ]
  },
  {
   "cell_type": "code",
   "execution_count": 30,
   "metadata": {},
   "outputs": [
    {
     "data": {
      "text/plain": [
       "defaultdict(int,\n",
       "            {'1': 8040,\n",
       "             '2': 8004,\n",
       "             'Staff_id 1': ('Mike', 'Hillyer', 8040),\n",
       "             'Staff_id 2': ('Jon', 'Stephens', 8004)})"
      ]
     },
     "execution_count": 30,
     "metadata": {},
     "output_type": "execute_result"
    }
   ],
   "source": [
    "#Q4\n",
    "staff['Staff_id 1'] = \"Mike\",\"Hillyer\", staff['1']\n",
    "staff['Staff_id 2'] = \"Jon\",\"Stephens\", staff['2']\n",
    "staff"
   ]
  },
  {
   "cell_type": "code",
   "execution_count": 31,
   "metadata": {},
   "outputs": [
    {
     "data": {
      "text/plain": [
       "[('13', 11.99, '2005'),\n",
       " ('116', 11.99, '2005'),\n",
       " ('195', 11.99, '2005'),\n",
       " ('196', 11.99, '2005'),\n",
       " ('204', 11.99, '2005')]"
      ]
     },
     "execution_count": 31,
     "metadata": {},
     "output_type": "execute_result"
    }
   ],
   "source": [
    "#Q6\n",
    "\n",
    "from datetime import datetime\n",
    "from operator import add\n",
    "\n",
    "def parseLine1(x):\n",
    "    pay_id = x.split(',')[0].replace('\"','')\n",
    "    cust_id = x.split(',')[1].replace('\"','')\n",
    "    pay_amt = float(x.split(',')[4].replace('\"',''))\n",
    "    pay_date = x.split(',')[5].replace('\"','').split('-')[0]\n",
    "    return (cust_id, pay_amt, pay_date)\n",
    "\n",
    "pay.filter(lambda x: x != pay_first).map(parseLine1)\\\n",
    ".filter(lambda x: (x[2] == '2005'))\\\n",
    ".sortBy(lambda x: x[1], ascending = False)\\\n",
    ".take(5)\n"
   ]
  },
  {
   "cell_type": "code",
   "execution_count": null,
   "metadata": {},
   "outputs": [],
   "source": []
  }
 ],
 "metadata": {
  "kernelspec": {
   "display_name": "Python 3",
   "language": "python",
   "name": "python3"
  },
  "language_info": {
   "codemirror_mode": {
    "name": "ipython",
    "version": 3
   },
   "file_extension": ".py",
   "mimetype": "text/x-python",
   "name": "python",
   "nbconvert_exporter": "python",
   "pygments_lexer": "ipython3",
   "version": "3.7.3"
  }
 },
 "nbformat": 4,
 "nbformat_minor": 2
}
